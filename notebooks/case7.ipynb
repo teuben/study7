{
 "cells": [
  {
   "cell_type": "markdown",
   "metadata": {},
   "source": [
    "# CASE 7: noise stats:  comparing ALMA and ADMIT \n",
    "\n",
    "Since we have noise estimates for both line and continuum from the ALMA query, we can cross-check that with the value ADMIT obtained from the images. The ALMA values are obtained from the raw data and sensitivity calculator, so really theoretical."
   ]
  },
  {
   "cell_type": "code",
   "execution_count": 1,
   "metadata": {},
   "outputs": [
    {
     "name": "stdout",
     "output_type": "stream",
     "text": [
      "Found  /home/teuben/ALMA/study7/query/admit.db\n",
      "Checking db.... 0\n",
      "71 71 71\n",
      "Database version: 27-feb-2022. core.py version: 26-feb-2022\n",
      "header    : 1 entries\n",
      "alma      : 124 entries\n",
      "win       : 123 entries\n",
      "lines     : 33 entries\n",
      "sources   : 769 entries\n"
     ]
    }
   ],
   "source": [
    "from astroquery.admit import ADMIT\n",
    "import pandas as pd\n",
    "\n",
    "pd.set_option('display.max_rows', None)\n",
    "pd.set_option('display.max_columns', None)\n",
    "pd.set_option('display.width', None)\n",
    "pd.set_option('display.max_colwidth',25)\n",
    "\n",
    "\n",
    "a = ADMIT()\n",
    "a.check()"
   ]
  },
  {
   "cell_type": "markdown",
   "metadata": {},
   "source": [
    "## Line\n",
    "\n",
    "Let's pick one selected MOUS first, the 7m data for NGC3504.  This is where one of the spw's has no signal, the CO and CS line are in two other spw's,and the fourth spw has fewer channels.\n",
    "\n",
    "\n",
    "\n"
   ]
  },
  {
   "cell_type": "code",
   "execution_count": 2,
   "metadata": {},
   "outputs": [
    {
     "name": "stdout",
     "output_type": "stream",
     "text": [
      "select * from alma inner join win on (win.a_id = alma.id)  WHERE win.nchan>=2.0 AND alma.obs_id='uid://A001/X87a/X70a' \n",
      "\n"
     ]
    }
   ],
   "source": [
    "p1 = a.query(nchan='>2',obs_id='uid://A001/X87a/X70a')"
   ]
  },
  {
   "cell_type": "code",
   "execution_count": 3,
   "metadata": {},
   "outputs": [
    {
     "name": "stdout",
     "output_type": "stream",
     "text": [
      "   id                obs_id target_name        s_ra      s_dec   frequency  \\\n",
      "0  51  uid://A001/X87a/X70a     NGC3504  165.796629  27.973328  229.366824   \n",
      "1  52  uid://A001/X87a/X70a     NGC3504  165.796629  27.973328  230.733216   \n",
      "2  53  uid://A001/X87a/X70a     NGC3504  165.796629  27.973328  243.689992   \n",
      "3  54  uid://A001/X87a/X70a     NGC3504  165.796629  27.973328  245.564814   \n",
      "\n",
      "         t_min  cont_sensitivity_bandwidth  sensitivity_10kms  \\\n",
      "0  57704.45099                  0.213557             6.807179   \n",
      "1  57704.45099                  0.213557             6.514320   \n",
      "2  57704.45099                  0.213557             6.754302   \n",
      "3  57704.45099                  0.213557             7.155698   \n",
      "\n",
      "           project_abstract                 obs_title  \\\n",
      "0  We propose to establi...  Pattern Speed in the ...   \n",
      "1  We propose to establi...  Pattern Speed in the ...   \n",
      "2  We propose to establi...  Pattern Speed in the ...   \n",
      "3  We propose to establi...  Pattern Speed in the ...   \n",
      "\n",
      "           science_keyword scientific_category          proposal_authors  id  \\\n",
      "0  Galactic centres/nuclei     Active galaxies  Trejo, Alfonso; Jiang...  51   \n",
      "1  Galactic centres/nuclei     Active galaxies  Trejo, Alfonso; Jiang...  52   \n",
      "2  Galactic centres/nuclei     Active galaxies  Trejo, Alfonso; Jiang...  53   \n",
      "3  Galactic centres/nuclei     Active galaxies  Trejo, Alfonso; Jiang...  54   \n",
      "\n",
      "   a_id    spw       freqc     freqw         vlsr  nlines  nsources  nchan  \\\n",
      "0    51  spw16  229.366865  1.867088  1521.106704       1         1    478   \n",
      "1    52  spw18  230.733263  1.867089  1521.106704       0         0    478   \n",
      "2    53  spw20  243.690031  1.867093  1521.106704       1         1    478   \n",
      "3    54  spw22  245.564853  1.843657  1521.106704       0         0    118   \n",
      "\n",
      "     peak_w     rms_w      bmaj      bmin        bpa  fcoverage  \n",
      "0  3.110140  0.005382  0.001761  0.001609  66.427072   0.150628  \n",
      "1  0.033664  0.004655  0.001757  0.001602  62.536886   0.000000  \n",
      "2  0.043824  0.005212  0.001621  0.001531  51.806499   0.056485  \n",
      "3  0.007329  0.001668  0.001602  0.001536  48.256371   0.000000  \n"
     ]
    }
   ],
   "source": [
    "# indeed there are 4 spw's\n",
    "# p1\n",
    "print(p1)"
   ]
  },
  {
   "cell_type": "markdown",
   "metadata": {},
   "source": [
    "### Notes\n",
    "\n",
    "1. alma says cont has rms  0.214 mJy/beam, but this is really over 4 spw's, each 1.9 GHz\n",
    "\n",
    "2. alma says line10 should have 6.8 mJy.km/s;  channels are 4.8 km/s\n",
    "\n",
    "3. ADMIT measured RMS in the spw's (rms_w) each at about 5 mJy/beam in a 4.8 km/s channel"
   ]
  },
  {
   "cell_type": "markdown",
   "metadata": {},
   "source": [
    "## Continuum"
   ]
  },
  {
   "cell_type": "code",
   "execution_count": 4,
   "metadata": {},
   "outputs": [
    {
     "name": "stdout",
     "output_type": "stream",
     "text": [
      "select * from alma inner join win on (win.a_id = alma.id)  WHERE win.nchan=1 AND alma.obs_id='uid://A001/X87a/X70a' \n",
      "\n"
     ]
    }
   ],
   "source": [
    "p2 = a.query(nchan=1,obs_id='uid://A001/X87a/X70a')"
   ]
  },
  {
   "cell_type": "code",
   "execution_count": 5,
   "metadata": {},
   "outputs": [
    {
     "name": "stdout",
     "output_type": "stream",
     "text": [
      "    id                obs_id target_name        s_ra      s_dec   frequency  \\\n",
      "0  108  uid://A001/X87a/X70a     NGC3504  165.796629  27.973328  229.366824   \n",
      "1  109  uid://A001/X87a/X70a     NGC3504  165.796629  27.973328  230.733216   \n",
      "2  110  uid://A001/X87a/X70a     NGC3504  165.796629  27.973328  243.689992   \n",
      "3  111  uid://A001/X87a/X70a     NGC3504  165.796629  27.973328  245.564814   \n",
      "\n",
      "         t_min  cont_sensitivity_bandwidth  sensitivity_10kms  \\\n",
      "0  57704.45099                  0.213557             6.807179   \n",
      "1  57704.45099                  0.213557             6.514320   \n",
      "2  57704.45099                  0.213557             6.754302   \n",
      "3  57704.45099                  0.213557             7.155698   \n",
      "\n",
      "           project_abstract                 obs_title  \\\n",
      "0  We propose to establi...  Pattern Speed in the ...   \n",
      "1  We propose to establi...  Pattern Speed in the ...   \n",
      "2  We propose to establi...  Pattern Speed in the ...   \n",
      "3  We propose to establi...  Pattern Speed in the ...   \n",
      "\n",
      "           science_keyword scientific_category          proposal_authors   id  \\\n",
      "0  Galactic centres/nuclei     Active galaxies  Trejo, Alfonso; Jiang...  108   \n",
      "1  Galactic centres/nuclei     Active galaxies  Trejo, Alfonso; Jiang...  109   \n",
      "2  Galactic centres/nuclei     Active galaxies  Trejo, Alfonso; Jiang...  110   \n",
      "3  Galactic centres/nuclei     Active galaxies  Trejo, Alfonso; Jiang...  111   \n",
      "\n",
      "   a_id    spw       freqc     freqw  vlsr  nlines  nsources  nchan    peak_w  \\\n",
      "0   108  spw16  229.370762  1.843670   0.0       0         1      1  0.009543   \n",
      "1   109  spw18  230.735202  1.831962   0.0       0         1      1  0.009410   \n",
      "2   110  spw20  243.684167  1.839761   0.0       0         1      1  0.010758   \n",
      "3   111  spw22  245.564849  1.781170   0.0       0         1      1  0.010040   \n",
      "\n",
      "      rms_w      bmaj      bmin        bpa  fcoverage  \n",
      "0  0.000363  0.001753  0.001600  64.721130        0.0  \n",
      "1  0.000318  0.001749  0.001591  61.463028        0.0  \n",
      "2  0.000435  0.001603  0.001523  53.963772        0.0  \n",
      "3  0.000356  0.001587  0.001525  47.179459        0.0  \n"
     ]
    }
   ],
   "source": [
    "# there are 4, but there should be 5, the aggregative spw_19_21-23_25 is missing?\n",
    "# p2\n",
    "print(p2)"
   ]
  },
  {
   "cell_type": "code",
   "execution_count": 6,
   "metadata": {},
   "outputs": [
    {
     "data": {
      "text/plain": [
       "0.0001840875"
      ]
     },
     "execution_count": 6,
     "metadata": {},
     "output_type": "execute_result"
    }
   ],
   "source": [
    "#  rough guess of what the aggregate cont rms would be from the 4 spw's\n",
    "p2['rms_w'].mean()/2"
   ]
  },
  {
   "cell_type": "markdown",
   "metadata": {},
   "source": [
    "### Notes\n",
    "\n",
    "1. alma claims cont sens is 0.213 mJy (but over 4 spw's)\n",
    "\n",
    "2. admit measures about 0.37 per spw, which would imply about 0.18 for the aggregrate. A bit lower than what alma claimed.\n",
    "\n",
    "3. Note that for this continuum record, the line sensitivity is still reported because they share the same MOUS."
   ]
  },
  {
   "cell_type": "markdown",
   "metadata": {},
   "source": [
    "## All data?\n",
    "\n",
    "The obvious thing to try is do this for all data, and get a ratio of what ADMIT measured and what ALMA claims. This would be a good check on any remaining problems in the ADMIT results.  We make two separate DataFrame's for continuum and line."
   ]
  },
  {
   "cell_type": "code",
   "execution_count": 7,
   "metadata": {},
   "outputs": [
    {
     "name": "stdout",
     "output_type": "stream",
     "text": [
      "select * from alma inner join win on (win.a_id = alma.id)  WHERE win.nchan=1 \n",
      "\n",
      "select * from alma inner join win on (win.a_id = alma.id)  WHERE win.nchan>=2.0 \n",
      "\n"
     ]
    }
   ],
   "source": [
    "p2c = a.query(nchan=1)\n",
    "p2l = a.query(nchan='>2')"
   ]
  },
  {
   "cell_type": "markdown",
   "metadata": {},
   "source": [
    "And showing the tail end of both:"
   ]
  },
  {
   "cell_type": "code",
   "execution_count": 8,
   "metadata": {},
   "outputs": [
    {
     "data": {
      "text/html": [
       "<div>\n",
       "<style scoped>\n",
       "    .dataframe tbody tr th:only-of-type {\n",
       "        vertical-align: middle;\n",
       "    }\n",
       "\n",
       "    .dataframe tbody tr th {\n",
       "        vertical-align: top;\n",
       "    }\n",
       "\n",
       "    .dataframe thead th {\n",
       "        text-align: right;\n",
       "    }\n",
       "</style>\n",
       "<table border=\"1\" class=\"dataframe\">\n",
       "  <thead>\n",
       "    <tr style=\"text-align: right;\">\n",
       "      <th></th>\n",
       "      <th>cont_sensitivity_bandwidth</th>\n",
       "      <th>rms_w</th>\n",
       "      <th>nchan</th>\n",
       "    </tr>\n",
       "  </thead>\n",
       "  <tbody>\n",
       "    <tr>\n",
       "      <th>64</th>\n",
       "      <td>0.021794</td>\n",
       "      <td>0.000028</td>\n",
       "      <td>1</td>\n",
       "    </tr>\n",
       "    <tr>\n",
       "      <th>65</th>\n",
       "      <td>0.038697</td>\n",
       "      <td>0.000042</td>\n",
       "      <td>1</td>\n",
       "    </tr>\n",
       "    <tr>\n",
       "      <th>66</th>\n",
       "      <td>0.017613</td>\n",
       "      <td>0.000025</td>\n",
       "      <td>1</td>\n",
       "    </tr>\n",
       "    <tr>\n",
       "      <th>67</th>\n",
       "      <td>0.013186</td>\n",
       "      <td>0.000014</td>\n",
       "      <td>1</td>\n",
       "    </tr>\n",
       "    <tr>\n",
       "      <th>68</th>\n",
       "      <td>0.015109</td>\n",
       "      <td>0.000021</td>\n",
       "      <td>1</td>\n",
       "    </tr>\n",
       "  </tbody>\n",
       "</table>\n",
       "</div>"
      ],
      "text/plain": [
       "    cont_sensitivity_bandwidth     rms_w  nchan\n",
       "64                  0.021794    0.000028      1\n",
       "65                  0.038697    0.000042      1\n",
       "66                  0.017613    0.000025      1\n",
       "67                  0.013186    0.000014      1\n",
       "68                  0.015109    0.000021      1"
      ]
     },
     "execution_count": 8,
     "metadata": {},
     "output_type": "execute_result"
    }
   ],
   "source": [
    "ci=['cont_sensitivity_bandwidth','rms_w','nchan']\n",
    "\n",
    "p2c[ci].tail()"
   ]
  },
  {
   "cell_type": "code",
   "execution_count": 9,
   "metadata": {},
   "outputs": [
    {
     "data": {
      "text/html": [
       "<div>\n",
       "<style scoped>\n",
       "    .dataframe tbody tr th:only-of-type {\n",
       "        vertical-align: middle;\n",
       "    }\n",
       "\n",
       "    .dataframe tbody tr th {\n",
       "        vertical-align: top;\n",
       "    }\n",
       "\n",
       "    .dataframe thead th {\n",
       "        text-align: right;\n",
       "    }\n",
       "</style>\n",
       "<table border=\"1\" class=\"dataframe\">\n",
       "  <thead>\n",
       "    <tr style=\"text-align: right;\">\n",
       "      <th></th>\n",
       "      <th>cont_sensitivity_bandwidth</th>\n",
       "      <th>rms_w</th>\n",
       "      <th>nchan</th>\n",
       "    </tr>\n",
       "  </thead>\n",
       "  <tbody>\n",
       "    <tr>\n",
       "      <th>49</th>\n",
       "      <td>0.062059</td>\n",
       "      <td>0.002596</td>\n",
       "      <td>478</td>\n",
       "    </tr>\n",
       "    <tr>\n",
       "      <th>50</th>\n",
       "      <td>0.213557</td>\n",
       "      <td>0.005382</td>\n",
       "      <td>478</td>\n",
       "    </tr>\n",
       "    <tr>\n",
       "      <th>51</th>\n",
       "      <td>0.213557</td>\n",
       "      <td>0.004655</td>\n",
       "      <td>478</td>\n",
       "    </tr>\n",
       "    <tr>\n",
       "      <th>52</th>\n",
       "      <td>0.213557</td>\n",
       "      <td>0.005212</td>\n",
       "      <td>478</td>\n",
       "    </tr>\n",
       "    <tr>\n",
       "      <th>53</th>\n",
       "      <td>0.213557</td>\n",
       "      <td>0.001668</td>\n",
       "      <td>118</td>\n",
       "    </tr>\n",
       "  </tbody>\n",
       "</table>\n",
       "</div>"
      ],
      "text/plain": [
       "    cont_sensitivity_bandwidth     rms_w  nchan\n",
       "49                  0.062059    0.002596    478\n",
       "50                  0.213557    0.005382    478\n",
       "51                  0.213557    0.004655    478\n",
       "52                  0.213557    0.005212    478\n",
       "53                  0.213557    0.001668    118"
      ]
     },
     "execution_count": 9,
     "metadata": {},
     "output_type": "execute_result"
    }
   ],
   "source": [
    "p2l[ci].tail()"
   ]
  },
  {
   "cell_type": "markdown",
   "metadata": {},
   "source": [
    "Taking the ratio, and recalling that one is in Jy the other mJy...."
   ]
  },
  {
   "cell_type": "code",
   "execution_count": 10,
   "metadata": {},
   "outputs": [
    {
     "name": "stdout",
     "output_type": "stream",
     "text": [
      "ratio_c: 1.0650495121132497 7.434821768271884 2.5360411286504574\n",
      "ratio_l: 1.0767907288171514 4.062892204315444 2.3803743775390096\n"
     ]
    }
   ],
   "source": [
    "ratio_c = 1000*p2c['rms_w']/p2c['cont_sensitivity_bandwidth']/np.sqrt(p2c['nchan'])\n",
    "ratio_l = 1000*p2l['rms_w']/p2l['cont_sensitivity_bandwidth']/np.sqrt(p2l['nchan'])\n",
    "# hanning factor\n",
    "ratio_l = ratio_l / 0.612\n",
    "print(\"ratio_c:\",ratio_c.min(),ratio_c.max(),ratio_c.mean())\n",
    "print(\"ratio_l:\",ratio_l.min(),ratio_l.max(),ratio_l.mean())\n"
   ]
  },
  {
   "cell_type": "code",
   "execution_count": 11,
   "metadata": {},
   "outputs": [
    {
     "data": {
      "image/png": "[encoded data removed]",
      "text/plain": [
       "<Figure size 432x288 with 1 Axes>"
      ]
     },
     "metadata": {
      "needs_background": "light"
     },
     "output_type": "display_data"
    }
   ],
   "source": [
    "plt.hist(ratio_c,label=\"cont\",alpha=0.5)\n",
    "plt.hist(ratio_l,label=\"line\",alpha=0.5)\n",
    "plt.xlabel(\"ratio\")\n",
    "plt.title(\"ADMIT / ALMA rms\")\n",
    "#plt.xlim([0,4])\n",
    "plt.legend();"
   ]
  },
  {
   "cell_type": "markdown",
   "metadata": {},
   "source": [
    "The ratio should be 2, if a MOUS has 4 spw's. For this we need the number of identical obsid's. It certainly seems that the cubes measure a lower rms than expected from the ALMA records. This is probably the hanning smoothing, since we used $\\sqrt{N_{chan}}$.   This is a factor sqrt(3/8) ~ 0.612"
   ]
  }
 ],
 "metadata": {
  "kernelspec": {
   "display_name": "Python 3",
   "language": "python",
   "name": "python3"
  },
  "language_info": {
   "codemirror_mode": {
    "name": "ipython",
    "version": 3
   },
   "file_extension": ".py",
   "mimetype": "text/x-python",
   "name": "python",
   "nbconvert_exporter": "python",
   "pygments_lexer": "ipython3",
   "version": "3.8.3"
  }
 },
 "nbformat": 4,
 "nbformat_minor": 4
}
