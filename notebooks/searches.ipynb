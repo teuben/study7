{
 "cells": [
  {
   "cell_type": "markdown",
   "metadata": {},
   "source": [
    "# Other  searches\n",
    "\n",
    "Some of the searches here rely on other packages which have already solved these. We want to cover some non-ADMIT searches useful to prepare your ADMIT searches.\n",
    "\n",
    "1. Search a source or position\n",
    "2. Search a spectral line\n",
    "3. Search ...\n"
   ]
  },
  {
   "cell_type": "markdown",
   "metadata": {},
   "source": [
    "## 1. Where is that spectral line again?\n",
    "\n",
    "Where is SiO J=2-1?  The [astroquery](https://astroquery.readthedocs.io/) toolkit is useful for this, where there are several interfaces (atomic, JPL, HITRAN, Splatalogue)\n",
    "\n"
   ]
  },
  {
   "cell_type": "code",
   "execution_count": 1,
   "metadata": {},
   "outputs": [],
   "source": [
    "import astroquery"
   ]
  },
  {
   "cell_type": "markdown",
   "metadata": {},
   "source": [
    "Here is an example from splatalogue:"
   ]
  },
  {
   "cell_type": "code",
   "execution_count": 2,
   "metadata": {},
   "outputs": [],
   "source": [
    "from astroquery.splatalogue import Splatalogue"
   ]
  },
  {
   "cell_type": "code",
   "execution_count": 3,
   "metadata": {},
   "outputs": [
    {
     "data": {
      "text/plain": [
       "{'04427 SiO v = 2  - Silicon Monoxide': '1090',\n",
       " '04425 SiO v = 0  - Silicon Monoxide': '20',\n",
       " '04526 29SiO v = 1 - Silicon Monoxide': '1095',\n",
       " '04441 SiO, v = 0-10 - Silicon monoxide (global fit)': '21081',\n",
       " '04426 SiO v = 1  - Silicon Monoxide': '1089',\n",
       " '04525 29SiO v = 0 - Silicon Monoxide': '103',\n",
       " '04625 30SiO v = 1  - Silicon Monoxide': '1100',\n",
       " '04429 SiO v = 4  - Silicon Monoxide': '1092',\n",
       " '04624 30SiO v = 0  - Silicon Monoxide': '293',\n",
       " '04626 30SiO v = 2  - Silicon Monoxide': '1101',\n",
       " '04527 29SiO v = 2 - Silicon Monoxide': '1096',\n",
       " '04428 SiO v = 3  - Silicon Monoxide': '1091',\n",
       " '04547 29SiO, v = 0-6 - Silicon monoxide (global fit)': '21082',\n",
       " '04658 30SiO, v = 0-6 - Silicon monoxide (global fit)': '21084',\n",
       " '04628 30SiO v = 4  - Silicon Monoxide': '1103',\n",
       " '04629 30SiO v = 5  - Silicon Monoxide': '1104',\n",
       " '04528 29SiO v = 3 - Silicon Monoxide': '1097',\n",
       " '04656 H2SiO - Silanone': '1411',\n",
       " '04530 29SiO v = 5 - Silicon Monoxide': '1099',\n",
       " '04529 29SiO v = 4 - Silicon Monoxide': '1098',\n",
       " '04431 SiO v = 6  - Silicon Monoxide': '1094',\n",
       " '04627 30SiO v = 3  - Silicon Monoxide': '1102',\n",
       " '04546 HSiO - Oxosilyl': '1423',\n",
       " '04430 SiO v = 5  - Silicon Monoxide': '1093'}"
      ]
     },
     "execution_count": 3,
     "metadata": {},
     "output_type": "execute_result"
    }
   ],
   "source": [
    "Splatalogue.get_species_ids('SiO')"
   ]
  },
  {
   "cell_type": "markdown",
   "metadata": {},
   "source": [
    "So there are quite a few isotopologues."
   ]
  },
  {
   "cell_type": "code",
   "execution_count": 4,
   "metadata": {},
   "outputs": [],
   "source": [
    "from astropy import units as u"
   ]
  },
  {
   "cell_type": "code",
   "execution_count": 5,
   "metadata": {},
   "outputs": [
    {
     "data": {
      "text/html": [
       "<i>Table length=20</i>\n",
       "<table id=\"table140703081359200\" class=\"table-striped table-bordered table-condensed\">\n",
       "<thead><tr><th>Species</th><th>Chemical Name</th><th>Freq-GHz(rest frame,redshifted)</th><th>Freq Err(rest frame,redshifted)</th><th>Meas Freq-GHz(rest frame,redshifted)</th><th>Meas Freq Err(rest frame,redshifted)</th><th>Resolved QNs</th><th>CDMS/JPL Intensity</th><th>S&lt;sub&gt;ij&lt;/sub&gt;&amp;#956;&lt;sup&gt;2&lt;/sup&gt; (D&lt;sup&gt;2&lt;/sup&gt;)</th><th>S&lt;sub&gt;ij&lt;/sub&gt;</th><th>Log&lt;sub&gt;10&lt;/sub&gt; (A&lt;sub&gt;ij&lt;/sub&gt;)</th><th>Lovas/AST Intensity</th><th>E_L (cm^-1)</th><th>E_L (K)</th><th>E_U (cm^-1)</th><th>E_U (K)</th><th>Linelist</th></tr></thead>\n",
       "<thead><tr><th>str6</th><th>str16</th><th>float64</th><th>float64</th><th>float64</th><th>float64</th><th>str3</th><th>float64</th><th>float64</th><th>float64</th><th>float64</th><th>str5</th><th>float64</th><th>float64</th><th>float64</th><th>float64</th><th>str5</th></tr></thead>\n",
       "<tr><td>SiOv=4</td><td>Silicon Monoxide</td><td>84.436189</td><td>3e-06</td><td>--</td><td>--</td><td>2-1</td><td>0.0</td><td>20.18475</td><td>2.0</td><td>-4.54842</td><td>--</td><td>4848.65</td><td>6976.08566</td><td>4851.46649</td><td>6980.13794</td><td>SLAIM</td></tr>\n",
       "<tr><td>SiOv=4</td><td>Silicon Monoxide</td><td>84.4361911</td><td>5.5e-06</td><td>--</td><td>--</td><td>2-1</td><td>-12.5817</td><td>20.18323</td><td>2.103</td><td>-4.54846</td><td>--</td><td>4848.6425</td><td>6976.07487</td><td>4851.45899</td><td>6980.12715</td><td>CDMS</td></tr>\n",
       "<tr><td>SiOv=4</td><td>Silicon Monoxide</td><td>84.4361911</td><td>5.5e-06</td><td>--</td><td>--</td><td>2-1</td><td>-12.5805</td><td>20.23907</td><td>2.0</td><td>-4.54726</td><td>--</td><td>4848.6425</td><td>6976.07487</td><td>4851.45899</td><td>6980.12715</td><td>CDMS</td></tr>\n",
       "<tr><td>SiOv=3</td><td>Silicon Monoxide</td><td>85.038044</td><td>4e-06</td><td>--</td><td>--</td><td>2-1</td><td>0.0</td><td>0.0</td><td>0.0</td><td>0.0</td><td>0.17</td><td>0.0</td><td>0.0</td><td>0.0</td><td>0.0</td><td>Lovas</td></tr>\n",
       "<tr><td>SiOv=3</td><td>Silicon Monoxide</td><td>85.038044</td><td>4e-06</td><td>--</td><td>--</td><td>2-1</td><td>0.0</td><td>19.93519</td><td>2.0</td><td>-4.54457</td><td>--</td><td>3654.618</td><td>5258.14984</td><td>3657.45456</td><td>5262.231</td><td>SLAIM</td></tr>\n",
       "<tr><td>SiOv=3</td><td>Silicon Monoxide</td><td>85.0380464</td><td>5.8e-06</td><td>--</td><td>--</td><td>2-1</td><td>-10.094</td><td>19.93348</td><td>2.077</td><td>-4.54461</td><td>0.17</td><td>3654.6142</td><td>5258.14438</td><td>3657.45076</td><td>5262.22554</td><td>CDMS</td></tr>\n",
       "<tr><td>SiOv=3</td><td>Silicon Monoxide</td><td>85.0380464</td><td>5.8e-06</td><td>--</td><td>--</td><td>2-1</td><td>-10.0928</td><td>19.98863</td><td>2.0</td><td>-4.54341</td><td>0.17</td><td>3654.6142</td><td>5258.14438</td><td>3657.45076</td><td>5262.22554</td><td>CDMS</td></tr>\n",
       "<tr><td>SiOv=2</td><td>Silicon Monoxide</td><td>85.640452</td><td>4e-06</td><td>--</td><td>--</td><td>2-1</td><td>0.0</td><td>0.0</td><td>0.0</td><td>0.0</td><td>0.11</td><td>0.0</td><td>0.0</td><td>0.0</td><td>0.0</td><td>Lovas</td></tr>\n",
       "<tr><td>SiOv=2</td><td>Silicon Monoxide</td><td>85.640452</td><td>4e-06</td><td>85.64046</td><td>0.0001</td><td>2-1</td><td>0.0</td><td>19.68719</td><td>2.0</td><td>-4.54081</td><td>--</td><td>2448.765</td><td>3523.20634</td><td>2451.62166</td><td>3527.31641</td><td>SLAIM</td></tr>\n",
       "<tr><td>SiOv=2</td><td>Silicon Monoxide</td><td>--</td><td>--</td><td>85.64046</td><td>5e-05</td><td>2-1</td><td>-7.5817</td><td>19.68738</td><td>2.051</td><td>-4.54081</td><td>0.11</td><td>2448.7628</td><td>3523.20317</td><td>2451.61946</td><td>3527.31324</td><td>CDMS</td></tr>\n",
       "<tr><td>SiOv=2</td><td>Silicon Monoxide</td><td>--</td><td>--</td><td>85.64046</td><td>5e-05</td><td>2-1</td><td>-7.5805</td><td>19.74184</td><td>2.0</td><td>-4.53961</td><td>0.11</td><td>2448.7628</td><td>3523.20317</td><td>2451.61946</td><td>3527.31324</td><td>CDMS</td></tr>\n",
       "<tr><td>SiOv=1</td><td>Silicon Monoxide</td><td>--</td><td>--</td><td>86.24337</td><td>5e-05</td><td>2-1</td><td>-5.0448</td><td>19.44157</td><td>2.026</td><td>-4.53713</td><td>17.4i</td><td>1231.0529</td><td>1771.20033</td><td>1233.92967</td><td>1775.33934</td><td>CDMS</td></tr>\n",
       "<tr><td>SiOv=1</td><td>Silicon Monoxide</td><td>--</td><td>--</td><td>86.24337</td><td>5e-05</td><td>2-1</td><td>-5.0436</td><td>19.49521</td><td>2.0</td><td>-4.53593</td><td>17.4i</td><td>1231.0529</td><td>1771.20033</td><td>1233.92967</td><td>1775.33934</td><td>CDMS</td></tr>\n",
       "<tr><td>SiOv=1</td><td>Silicon Monoxide</td><td>86.24343</td><td>4e-05</td><td>--</td><td>--</td><td>2-1</td><td>0.0</td><td>0.0</td><td>0.0</td><td>0.0</td><td>17.4i</td><td>0.0</td><td>0.0</td><td>0.0</td><td>0.0</td><td>Lovas</td></tr>\n",
       "<tr><td>SiOv=1</td><td>Silicon Monoxide</td><td>86.24343</td><td>4e-06</td><td>86.24337</td><td>0.0001</td><td>2-1</td><td>0.0</td><td>19.44073</td><td>2.0</td><td>-4.54541</td><td>--</td><td>1231.054</td><td>1771.20191</td><td>1233.93077</td><td>1775.34092</td><td>SLAIM</td></tr>\n",
       "<tr><td>SiOv=0</td><td>Silicon Monoxide</td><td>--</td><td>--</td><td>86.84696</td><td>5e-05</td><td>2-1</td><td>-2.4832</td><td>19.19714</td><td>2.0</td><td>-4.53354</td><td>1.5</td><td>1.4485</td><td>2.08406</td><td>4.3454</td><td>6.25203</td><td>CDMS</td></tr>\n",
       "<tr><td>SiOv=0</td><td>Silicon Monoxide</td><td>--</td><td>--</td><td>86.84696</td><td>5e-05</td><td>2-1</td><td>-2.482</td><td>19.19699</td><td>2.0</td><td>-4.53354</td><td>1.5</td><td>1.4485</td><td>2.08406</td><td>4.3454</td><td>6.25203</td><td>CDMS</td></tr>\n",
       "<tr><td>SiOv=0</td><td>Silicon Monoxide</td><td>--</td><td>--</td><td>86.84696</td><td>5e-05</td><td>2-1</td><td>-2.4786</td><td>19.26359</td><td>2.0</td><td>-4.53204</td><td>1.5</td><td>1.4485</td><td>2.08406</td><td>4.3454</td><td>6.25203</td><td>JPL</td></tr>\n",
       "<tr><td>SiOv=0</td><td>Silicon Monoxide</td><td>86.846995</td><td>6e-06</td><td>--</td><td>--</td><td>2-1</td><td>0.0</td><td>0.0</td><td>0.0</td><td>0.0</td><td>1.5</td><td>0.0</td><td>0.0</td><td>0.0</td><td>0.0</td><td>Lovas</td></tr>\n",
       "<tr><td>SiOv=0</td><td>Silicon Monoxide</td><td>86.846995</td><td>6e-06</td><td>86.84696</td><td>0.0001</td><td>2-1</td><td>0.0</td><td>19.07396</td><td>2.0</td><td>-4.53632</td><td>--</td><td>1.448</td><td>2.08334</td><td>4.3449</td><td>6.25131</td><td>SLAIM</td></tr>\n",
       "</table>"
      ],
      "text/plain": [
       "<Table length=20>\n",
       "Species  Chemical Name   Freq-GHz(rest frame,redshifted) ...  E_U (K)   Linelist\n",
       "  str6       str16                   float64             ...  float64     str5  \n",
       "------- ---------------- ------------------------------- ... ---------- --------\n",
       " SiOv=4 Silicon Monoxide                       84.436189 ... 6980.13794    SLAIM\n",
       " SiOv=4 Silicon Monoxide                      84.4361911 ... 6980.12715     CDMS\n",
       " SiOv=4 Silicon Monoxide                      84.4361911 ... 6980.12715     CDMS\n",
       " SiOv=3 Silicon Monoxide                       85.038044 ...        0.0    Lovas\n",
       " SiOv=3 Silicon Monoxide                       85.038044 ...   5262.231    SLAIM\n",
       " SiOv=3 Silicon Monoxide                      85.0380464 ... 5262.22554     CDMS\n",
       " SiOv=3 Silicon Monoxide                      85.0380464 ... 5262.22554     CDMS\n",
       " SiOv=2 Silicon Monoxide                       85.640452 ...        0.0    Lovas\n",
       " SiOv=2 Silicon Monoxide                       85.640452 ... 3527.31641    SLAIM\n",
       " SiOv=2 Silicon Monoxide                              -- ... 3527.31324     CDMS\n",
       " SiOv=2 Silicon Monoxide                              -- ... 3527.31324     CDMS\n",
       " SiOv=1 Silicon Monoxide                              -- ... 1775.33934     CDMS\n",
       " SiOv=1 Silicon Monoxide                              -- ... 1775.33934     CDMS\n",
       " SiOv=1 Silicon Monoxide                        86.24343 ...        0.0    Lovas\n",
       " SiOv=1 Silicon Monoxide                        86.24343 ... 1775.34092    SLAIM\n",
       " SiOv=0 Silicon Monoxide                              -- ...    6.25203     CDMS\n",
       " SiOv=0 Silicon Monoxide                              -- ...    6.25203     CDMS\n",
       " SiOv=0 Silicon Monoxide                              -- ...    6.25203      JPL\n",
       " SiOv=0 Silicon Monoxide                       86.846995 ...        0.0    Lovas\n",
       " SiOv=0 Silicon Monoxide                       86.846995 ...    6.25131    SLAIM"
      ]
     },
     "execution_count": 5,
     "metadata": {},
     "output_type": "execute_result"
    }
   ],
   "source": [
    "Splatalogue.query_lines(84*u.GHz, 115*u.GHz, chemical_name=' SiO ')"
   ]
  },
  {
   "cell_type": "code",
   "execution_count": null,
   "metadata": {},
   "outputs": [],
   "source": []
  }
 ],
 "metadata": {
  "kernelspec": {
   "display_name": "Python 3 (ipykernel)",
   "language": "python",
   "name": "python3"
  },
  "language_info": {
   "codemirror_mode": {
    "name": "ipython",
    "version": 3
   },
   "file_extension": ".py",
   "mimetype": "text/x-python",
   "name": "python",
   "nbconvert_exporter": "python",
   "pygments_lexer": "ipython3",
   "version": "3.9.7"
  }
 },
 "nbformat": 4,
 "nbformat_minor": 4
}
