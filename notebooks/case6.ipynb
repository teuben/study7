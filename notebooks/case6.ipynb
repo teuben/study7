{
 "cells": [
  {
   "cell_type": "markdown",
   "metadata": {},
   "source": [
    "# Science Case #6: An ALMA large program\n",
    "\n",
    "The [Molecules with ALMA at Planet-forming Scales (MAPS)](http://alma-maps.info) survey, also known as 2018.1.01055.L \n",
    "\n",
    "\n",
    "See also\n",
    "https://almascience.eso.org/alma-data/lp/MAPS\n",
    "\n",
    "Data in **2018.1.01055.L**  is about 2TB\n",
    "\n",
    "\n"
   ]
  },
  {
   "cell_type": "code",
   "execution_count": 1,
   "metadata": {},
   "outputs": [],
   "source": [
    "import pandas as pd\n",
    "pd.set_option('display.max_rows', None)\n",
    "pd.set_option('display.max_columns', None)\n",
    "pd.set_option('display.width', None)\n",
    "pd.set_option('display.max_colwidth',25)\n",
    "\n",
    "from astroquery.admit import ADMIT\n"
   ]
  },
  {
   "cell_type": "markdown",
   "metadata": {},
   "source": [
    "For now a private database, just for MAPS"
   ]
  },
  {
   "cell_type": "code",
   "execution_count": 2,
   "metadata": {},
   "outputs": [
    {
     "name": "stdout",
     "output_type": "stream",
     "text": [
      "Found  ../query/admit_maps.db\n",
      "Checking db.... 0\n",
      "71 71 71\n",
      "Database version: 27-feb-2022. core.py version: 26-feb-2022\n",
      "header    : 1 entries\n",
      "alma      : 368 entries\n",
      "win       : 335 entries\n",
      "lines     : 94 entries\n",
      "sources   : 2403 entries\n"
     ]
    }
   ],
   "source": [
    "a = ADMIT('../query/admit_maps.db')\n",
    "a.check()"
   ]
  },
  {
   "cell_type": "code",
   "execution_count": 3,
   "metadata": {},
   "outputs": [
    {
     "name": "stdout",
     "output_type": "stream",
     "text": [
      "select * from alma inner join win on (win.a_id = alma.id)  WHERE win.nchan>=0.0 \n",
      "\n",
      "5  unique sources:  ['GM_Aur' 'MWC_480' 'IM_Lup' 'HD163296' 'AS_209']\n"
     ]
    }
   ],
   "source": [
    "p = a.query(nchan='>0')\n",
    "s = p['target_name'].unique()\n",
    "print(len(s),' unique sources: ',s)"
   ]
  },
  {
   "cell_type": "code",
   "execution_count": 4,
   "metadata": {},
   "outputs": [
    {
     "name": "stdout",
     "output_type": "stream",
     "text": [
      "select * from alma inner join win on (win.a_id = alma.id)  inner join lines on (lines.w_id = win.id )  WHERE win.nchan>=2.0 AND lines.mom0flux>=0.0 \n",
      "\n",
      "94\n",
      "10 unique lines:  ['HCO+' 'HCN' 'CCH' 'HC3N' 'C18O' '13CO' 'CO' 'H2CO' 'DCN' 'HCCCHO']\n"
     ]
    }
   ],
   "source": [
    "p = a.query(nchan='>2',mom0flux='>0')\n",
    "print(len(p))\n",
    "f=p['formula'].unique()\n",
    "print(len(f),'unique lines: ',f)\n"
   ]
  },
  {
   "cell_type": "code",
   "execution_count": null,
   "metadata": {},
   "outputs": [],
   "source": []
  }
 ],
 "metadata": {
  "kernelspec": {
   "display_name": "Python 3",
   "language": "python",
   "name": "python3"
  },
  "language_info": {
   "codemirror_mode": {
    "name": "ipython",
    "version": 3
   },
   "file_extension": ".py",
   "mimetype": "text/x-python",
   "name": "python",
   "nbconvert_exporter": "python",
   "pygments_lexer": "ipython3",
   "version": "3.8.3"
  }
 },
 "nbformat": 4,
 "nbformat_minor": 4
}
