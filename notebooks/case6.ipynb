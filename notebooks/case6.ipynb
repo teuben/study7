{
 "cells": [
  {
   "cell_type": "markdown",
   "metadata": {},
   "source": [
    "# Science Case #6: An ALMA large program\n",
    "\n",
    "The [Molecules with ALMA at Planet-forming Scales (MAPS)](http://alma-maps.info) survey, also known as 2018.1.01055.L \n",
    "\n",
    "\n",
    "See also\n",
    "https://almascience.eso.org/alma-data/lp/MAPS\n",
    "\n",
    "Data in 2018.1.01055.L  is about 2.3TB\n",
    "\n",
    "\n"
   ]
  },
  {
   "cell_type": "code",
   "execution_count": null,
   "metadata": {},
   "outputs": [],
   "source": []
  }
 ],
 "metadata": {
  "kernelspec": {
   "display_name": "Python 3",
   "language": "python",
   "name": "python3"
  },
  "language_info": {
   "codemirror_mode": {
    "name": "ipython",
    "version": 3
   },
   "file_extension": ".py",
   "mimetype": "text/x-python",
   "name": "python",
   "nbconvert_exporter": "python",
   "pygments_lexer": "ipython3",
   "version": "3.8.3"
  }
 },
 "nbformat": 4,
 "nbformat_minor": 4
}
