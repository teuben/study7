{
 "cells": [
  {
   "cell_type": "markdown",
   "metadata": {},
   "source": [
    "# Science Case #6a:  summary of all data\n",
    "\n",
    "|\n",
    "Here are some statistics on your data\n",
    "\n"
   ]
  },
  {
   "cell_type": "code",
   "execution_count": 1,
   "metadata": {},
   "outputs": [],
   "source": [
    "import pandas as pd\n",
    "pd.set_option('display.max_rows', None)\n",
    "pd.set_option('display.max_columns', None)\n",
    "pd.set_option('display.width', None)\n",
    "pd.set_option('display.max_colwidth',25)\n",
    "\n",
    "from astroquery.admit import ADMIT\n"
   ]
  },
  {
   "cell_type": "markdown",
   "metadata": {},
   "source": [
    "For now a private database, just for MAPS"
   ]
  },
  {
   "cell_type": "code",
   "execution_count": 2,
   "metadata": {},
   "outputs": [
    {
     "name": "stdout",
     "output_type": "stream",
     "text": [
      "Found  /home/teuben/ALMA/study7/query/admit.db\n",
      "Checking db.... 0\n",
      "71 71 71\n",
      "Database version: 27-feb-2022. core.py version: 26-feb-2022\n",
      "header    : 1 entries\n",
      "alma      : 124 entries\n",
      "win       : 123 entries\n",
      "lines     : 33 entries\n",
      "sources   : 769 entries\n"
     ]
    }
   ],
   "source": [
    "a = ADMIT()\n",
    "a.check()"
   ]
  },
  {
   "cell_type": "markdown",
   "metadata": {},
   "source": [
    "## Unique source names"
   ]
  },
  {
   "cell_type": "code",
   "execution_count": 3,
   "metadata": {},
   "outputs": [
    {
     "name": "stdout",
     "output_type": "stream",
     "text": [
      "select * from alma inner join win on (win.a_id = alma.id)  WHERE win.nchan>=0.0 \n",
      "\n",
      "8  unique sources:  ['NGC3049' 'NGC3504' 'NGC3593' 'NGC4402' 'NGC4414' 'NGC5253' '5-NGC3773'\n",
      " '50kms']\n"
     ]
    }
   ],
   "source": [
    "p = a.query(nchan='>0')\n",
    "s = p['target_name'].unique()\n",
    "print(len(s),' unique sources: ',s)"
   ]
  },
  {
   "cell_type": "markdown",
   "metadata": {},
   "source": [
    "## Unique lines detected "
   ]
  },
  {
   "cell_type": "code",
   "execution_count": 4,
   "metadata": {},
   "outputs": [
    {
     "name": "stdout",
     "output_type": "stream",
     "text": [
      "select * from alma inner join win on (win.a_id = alma.id)  inner join lines on (lines.w_id = win.id )  WHERE win.nchan>=2.0 AND lines.mom0flux>=0.0 \n",
      "\n",
      "33\n",
      "13 unique lines:  ['H2COH+' 'HCOOH' 'CH3CH2OH' 'CO' 'CS' 'CH3COOH' 'CH3CH2CN' 'CH2DCCH'\n",
      " 'H2NCH2CN' 'CH2CHCHO' 'SO2' 'HCCCH' 'CH2OHCHO']\n"
     ]
    }
   ],
   "source": [
    "p = a.query(nchan='>2',mom0flux='>0')\n",
    "print(len(p))\n",
    "f=p['formula'].unique()\n",
    "print(len(f),'unique lines: ',f)\n"
   ]
  },
  {
   "cell_type": "markdown",
   "metadata": {},
   "source": [
    "## Orphaned lines and sources\n",
    "\n",
    "Another quaint side effect of the way source and line detections are done, is that one can have a line detection and no source detection, and perhaps vice versa. How often does this occur in our sample?\n",
    "\n",
    "Because we detect sources in the CubeSum, independant of the line detection, such orphans are not impossible, and point to extended weak source emission, and sources with weak lines."
   ]
  },
  {
   "cell_type": "code",
   "execution_count": 5,
   "metadata": {},
   "outputs": [
    {
     "name": "stdout",
     "output_type": "stream",
     "text": [
      "select * from alma inner join win on (win.a_id = alma.id)  WHERE win.nchan>=2.0 \n",
      "\n",
      "select * from alma inner join win on (win.a_id = alma.id)  WHERE win.nchan=1 \n",
      "\n"
     ]
    }
   ],
   "source": [
    "# number of spectral cubes and cont maps\n",
    "pl=a.query(nchan='>2')\n",
    "pc=a.query(nchan=1)"
   ]
  },
  {
   "cell_type": "code",
   "execution_count": 6,
   "metadata": {},
   "outputs": [
    {
     "name": "stdout",
     "output_type": "stream",
     "text": [
      "select * from alma inner join win on (win.a_id = alma.id)  WHERE win.nchan>=2.0 AND win.nlines>=1.0 AND win.nsources=0 \n",
      "\n",
      "select * from alma inner join win on (win.a_id = alma.id)  WHERE win.nchan>=2.0 AND win.nlines>=1.0 \n",
      "\n",
      "select * from alma inner join win on (win.a_id = alma.id)  WHERE win.nchan>=2.0 AND win.nlines=0 AND win.nsources>=1.0 \n",
      "\n"
     ]
    }
   ],
   "source": [
    "#  various orphans: lines with no sources, sources with no lines\n",
    "ps0=a.query(nchan='>2',nlines='>1',nsources=0)\n",
    "ps1=a.query(nchan='>2',nlines='>1')\n",
    "pl0=a.query(nchan='>2',nlines=0,nsources='>1')"
   ]
  },
  {
   "cell_type": "code",
   "execution_count": 7,
   "metadata": {},
   "outputs": [
    {
     "name": "stdout",
     "output_type": "stream",
     "text": [
      "Continuum maps:                       69\n",
      "Spectral Line Cube:                   54\n",
      "  w/ Line detections:                 30\n",
      "  w/ Line detections with no sources: 12\n",
      "  w/ Source detections with no lines: 2\n"
     ]
    }
   ],
   "source": [
    "print(\"Continuum maps:                      \",len(pc))\n",
    "print('Spectral Line Cube:                  ',len(pl))\n",
    "print('  w/ Line detections:                ',len(ps1))\n",
    "print('  w/ Line detections with no sources:',len(ps0))\n",
    "print('  w/ Source detections with no lines:',len(pl0))"
   ]
  }
 ],
 "metadata": {
  "kernelspec": {
   "display_name": "Python 3",
   "language": "python",
   "name": "python3"
  },
  "language_info": {
   "codemirror_mode": {
    "name": "ipython",
    "version": 3
   },
   "file_extension": ".py",
   "mimetype": "text/x-python",
   "name": "python",
   "nbconvert_exporter": "python",
   "pygments_lexer": "ipython3",
   "version": "3.8.3"
  }
 },
 "nbformat": 4,
 "nbformat_minor": 4
}
