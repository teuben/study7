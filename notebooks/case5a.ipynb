{
 "cells": [
  {
   "cell_type": "markdown",
   "metadata": {},
   "source": [
    "# Science Case 5a:   contrasting different query methods\n",
    "\n",
    "We use the case of galaxy NGC3504 to show different query methods:\n",
    "\n",
    "1. astroquery\n",
    "2. pyvo\n",
    "3. alminer\n",
    "4. admit (this study)\n",
    "\n",
    "though under the hood they all make use of the ALMA TAP VO service\n"
   ]
  },
  {
   "cell_type": "code",
   "execution_count": null,
   "metadata": {},
   "outputs": [],
   "source": [
    "%matplotlib inline\n",
    "import matplotlib.pyplot as plt "
   ]
  },
  {
   "cell_type": "markdown",
   "metadata": {},
   "source": [
    "###  astroquery.alma\n",
    "\n",
    "First we should query the science archive, we can do https://almascience.nrao.edu/aq/ as well, but we want also show this via the notebook. \n"
   ]
  },
  {
   "cell_type": "code",
   "execution_count": null,
   "metadata": {},
   "outputs": [],
   "source": [
    "from astroquery.alma import Alma\n",
    "import pandas as pd\n",
    "\n",
    "# more to come here.  here we just want to show how much you can do with the current query, before science\n",
    "# showcase alminer ?\n",
    "alma = Alma()"
   ]
  },
  {
   "cell_type": "code",
   "execution_count": null,
   "metadata": {},
   "outputs": [],
   "source": [
    "n = Alma.query_object('NGC3504')"
   ]
  },
  {
   "cell_type": "code",
   "execution_count": 4,
   "metadata": {},
   "outputs": [
    {
     "name": "stdout",
     "output_type": "stream",
     "text": [
      "['2017.1.00964.S' '2016.1.00650.S']\n",
      "['uid://A001/X1288/Xba6' 'uid://A001/X1288/Xba8' 'uid://A001/X87a/X70a'\n",
      " 'uid://A001/X87a/X708' 'uid://A001/X87a/X706']\n"
     ]
    }
   ],
   "source": [
    "print(pd.unique(n['proposal_id']))\n",
    "print(pd.unique(n['obs_id']))"
   ]
  },
  {
   "cell_type": "markdown",
   "metadata": {},
   "source": [
    "Thus we have indeed two projects,and five observations"
   ]
  },
  {
   "cell_type": "code",
   "execution_count": null,
   "metadata": {},
   "outputs": [],
   "source": [
    "ci=['obs_id','s_fov','s_resolution']\n",
    "n['nres'] = 3600*n['s_fov']/n['s_resolution']\n",
    "print(n[ci])"
   ]
  },
  {
   "cell_type": "markdown",
   "metadata": {},
   "source": [
    "Notice there appears to be a units issue with s_resolution: they appear to be in arcsec. There is also a 'spatial_resolution', but it has the same issue.\n",
    "\n"
   ]
  },
  {
   "cell_type": "markdown",
   "metadata": {},
   "source": [
    "### pyvo\n"
   ]
  },
  {
   "cell_type": "code",
   "execution_count": null,
   "metadata": {},
   "outputs": [],
   "source": []
  },
  {
   "cell_type": "markdown",
   "metadata": {},
   "source": [
    "### alminer\n",
    "\n",
    "One of the unique aspects of alminer is that the return table from a search can be used as an argument in a further deeper inspection (?drill down?)\n",
    "\n",
    "Or can pyvo do that too?\n"
   ]
  },
  {
   "cell_type": "code",
   "execution_count": 6,
   "metadata": {},
   "outputs": [],
   "source": [
    "# import alminer\n"
   ]
  },
  {
   "cell_type": "markdown",
   "metadata": {},
   "source": [
    "### astroquery.admit"
   ]
  },
  {
   "cell_type": "code",
   "execution_count": 8,
   "metadata": {},
   "outputs": [
    {
     "name": "stdout",
     "output_type": "stream",
     "text": [
      "Found  /home/mpound/src/astroumd/study7/query/admit.db\n",
      "Checking db.... 0\n",
      "71 71 71\n",
      "Database version: 24-feb-2022. core.py version: 2022-March-03\n",
      "header    : 103 entries\n",
      "alma      : 103 entries\n",
      "win       : 103 entries\n",
      "lines     : 26 entries\n",
      "sources   : 268 entries\n"
     ]
    }
   ],
>>>>>>> Stashed changes
   "source": [
    "from astroquery.admit import ADMIT\n",
    "import pandas as pd\n",
    "\n",
    "pd.set_option('display.max_rows', None)\n",
    "pd.set_option('display.max_columns', None)\n",
    "pd.set_option('display.width', None)\n",
    "pd.set_option('display.max_colwidth',25)\n",
    "\n",
    "\n",
    "a = ADMIT()\n",
    "a.check()"
   ]
  },
  {
   "cell_type": "code",
   "execution_count": null,
   "metadata": {},
   "outputs": [],
   "source": []
  }
 ],
 "metadata": {
  "kernelspec": {
   "display_name": "Python 3 (ipykernel)",
   "language": "python",
   "name": "python3"
  },
  "language_info": {
   "codemirror_mode": {
    "name": "ipython",
    "version": 3
   },
   "file_extension": ".py",
   "mimetype": "text/x-python",
   "name": "python",
   "nbconvert_exporter": "python",
   "pygments_lexer": "ipython3",
   "version": "3.9.7"
  }
 },
 "nbformat": 4,
 "nbformat_minor": 4
}
