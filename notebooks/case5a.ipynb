{
 "cells": [
  {
   "cell_type": "markdown",
   "metadata": {},
   "source": [
    "# Science Case 5a:   contrasting different query methods\n",
    "\n",
    "We use the case of galaxy NGC3504 to show different query methods:\n",
    "\n",
    "1. astroquery\n",
    "2. pyvo\n",
    "3. alminer\n",
    "4. admit (this study)\n",
    "\n",
    "\n"
   ]
  },
  {
   "cell_type": "code",
   "execution_count": 1,
   "metadata": {},
   "outputs": [],
   "source": [
    "%matplotlib inline\n",
    "import matplotlib.pyplot as plt "
   ]
  },
  {
   "cell_type": "markdown",
   "metadata": {},
   "source": [
    "###  astroquery.alma\n",
    "\n",
    "First we should query the science archive, we can do https://almascience.nrao.edu/aq/ as well, but we want also show this via the notebook. \n"
   ]
  },
  {
   "cell_type": "code",
   "execution_count": 2,
   "metadata": {},
   "outputs": [],
   "source": [
    "from astroquery.alma import Alma\n",
    "import pandas as pd\n",
    "\n",
    "# more to come here.  here we just want to show how much you can do with the current query, before science\n",
    "# showcase alminer ?\n",
    "alma = Alma()"
   ]
  },
  {
   "cell_type": "code",
   "execution_count": 3,
   "metadata": {},
   "outputs": [],
   "source": [
    "n = Alma.query_object('NGC3504')"
   ]
  },
  {
   "cell_type": "code",
   "execution_count": 4,
   "metadata": {},
   "outputs": [
    {
     "name": "stdout",
     "output_type": "stream",
     "text": [
      "[b'2017.1.00964.S' b'2016.1.00650.S']\n",
      "[b'uid://A001/X1288/Xba6' b'uid://A001/X1288/Xba8' b'uid://A001/X87a/X70a'\n",
      " b'uid://A001/X87a/X708' b'uid://A001/X87a/X706']\n"
     ]
    }
   ],
   "source": [
    "print(pd.unique(n['proposal_id']))\n",
    "print(pd.unique(n['obs_id']))"
   ]
  },
  {
   "cell_type": "markdown",
   "metadata": {},
   "source": [
    "Thus we have indeed two projects,and five observations"
   ]
  },
  {
   "cell_type": "code",
   "execution_count": 5,
   "metadata": {},
   "outputs": [
    {
     "name": "stdout",
     "output_type": "stream",
     "text": [
      "        obs_id               s_fov             s_resolution    \n",
      "                              deg                  deg         \n",
      "--------------------- -------------------- --------------------\n",
      "uid://A001/X1288/Xba6 0.006863718695429476 0.034121085407438106\n",
      "uid://A001/X1288/Xba6 0.006863718695429476 0.034121085407438106\n",
      "uid://A001/X1288/Xba6 0.006863718695429476 0.034121085407438106\n",
      "uid://A001/X1288/Xba6 0.006863718695429476 0.034121085407438106\n",
      "uid://A001/X1288/Xba8  0.00686371854646795  0.20065563262611036\n",
      "uid://A001/X1288/Xba8  0.00686371854646795  0.20065563262611036\n",
      "uid://A001/X1288/Xba8  0.00686371854646795  0.20065563262611036\n",
      "uid://A001/X1288/Xba8  0.00686371854646795  0.20065563262611036\n",
      " uid://A001/X87a/X70a 0.017853666133604822    5.503583966319726\n",
      " uid://A001/X87a/X70a 0.017853666133604822    5.503583966319726\n",
      " uid://A001/X87a/X70a 0.017853666133604822    5.503583966319726\n",
      " uid://A001/X87a/X70a 0.017853666133604822    5.503583966319726\n",
      " uid://A001/X87a/X708  0.01305128673735267   1.7825652390462614\n",
      " uid://A001/X87a/X708  0.01305128673735267   1.7825652390462614\n",
      " uid://A001/X87a/X708  0.01305128673735267   1.7825652390462614\n",
      " uid://A001/X87a/X708  0.01305128673735267   1.7825652390462614\n",
      " uid://A001/X87a/X706 0.013051297132328152    0.565397979165851\n",
      " uid://A001/X87a/X706 0.013051297132328152    0.565397979165851\n",
      " uid://A001/X87a/X706 0.013051297132328152    0.565397979165851\n",
      " uid://A001/X87a/X706 0.013051297132328152    0.565397979165851\n"
     ]
    }
   ],
   "source": [
    "ci=['obs_id','s_fov','s_resolution']\n",
    "n['nres'] = 3600*n['s_fov']/n['s_resolution']\n",
    "print(n[ci])"
   ]
  },
  {
   "cell_type": "markdown",
   "metadata": {},
   "source": [
    "Notice there appears to be a units issue with s_resolution: they appear to be in arcsec. There is also a 'spatial_resolution', but it has the same issue.\n",
    "\n"
   ]
  },
  {
   "cell_type": "markdown",
   "metadata": {},
   "source": [
    "### pyvo\n"
   ]
  },
  {
   "cell_type": "code",
   "execution_count": null,
   "metadata": {},
   "outputs": [],
   "source": []
  },
  {
   "cell_type": "markdown",
   "metadata": {},
   "source": [
    "### alminer\n",
    "\n",
    "One of the unique aspects of alminer is that the return table from a search can be used as an argument in a further deeper inspection (?drill down?)\n"
   ]
  },
  {
   "cell_type": "code",
   "execution_count": 14,
   "metadata": {},
   "outputs": [
    {
     "ename": "ModuleNotFoundError",
     "evalue": "No module named 'alminer'",
     "output_type": "error",
     "traceback": [
      "\u001b[0;31m---------------------------------------------------------------------------\u001b[0m",
      "\u001b[0;31mModuleNotFoundError\u001b[0m                       Traceback (most recent call last)",
      "\u001b[0;32m<ipython-input-14-97fccb94535f>\u001b[0m in \u001b[0;36m<module>\u001b[0;34m\u001b[0m\n\u001b[0;32m----> 1\u001b[0;31m \u001b[0;32mimport\u001b[0m \u001b[0malminer\u001b[0m\u001b[0;34m\u001b[0m\u001b[0;34m\u001b[0m\u001b[0m\n\u001b[0m",
      "\u001b[0;31mModuleNotFoundError\u001b[0m: No module named 'alminer'"
     ]
    }
   ],
   "source": [
    "import alminer\n"
   ]
  },
  {
   "cell_type": "markdown",
   "metadata": {},
   "source": [
    "### astroquery.admit"
   ]
  },
  {
   "cell_type": "code",
   "execution_count": 15,
   "metadata": {},
   "outputs": [
    {
     "name": "stdout",
     "output_type": "stream",
     "text": [
      "Found  ../admit.db\n",
      "Checking db.... 0\n",
      "70 70 70\n",
      "header    : 103 entries\n",
      "alma      : 103 entries\n",
      "win       : 103 entries\n",
      "lines     : 26 entries\n",
      "sources   : 268 entries\n"
     ]
    }
   ],
   "source": [
    "from astroquery.admit import ADMIT\n",
    "import pandas as pd\n",
    "\n",
    "pd.set_option('display.max_rows', None)\n",
    "pd.set_option('display.max_columns', None)\n",
    "pd.set_option('display.width', None)\n",
    "pd.set_option('display.max_colwidth',25)\n",
    "\n",
    "\n",
    "a = ADMIT('../admit.db')\n",
    "a.check()"
   ]
  },
  {
   "cell_type": "code",
   "execution_count": null,
   "metadata": {},
   "outputs": [],
   "source": []
  }
 ],
 "metadata": {
  "kernelspec": {
   "display_name": "Python 3",
   "language": "python",
   "name": "python3"
  },
  "language_info": {
   "codemirror_mode": {
    "name": "ipython",
    "version": 3
   },
   "file_extension": ".py",
   "mimetype": "text/x-python",
   "name": "python",
   "nbconvert_exporter": "python",
   "pygments_lexer": "ipython3",
   "version": "3.8.3"
  }
 },
 "nbformat": 4,
 "nbformat_minor": 4
}
