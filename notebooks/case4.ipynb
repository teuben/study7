{
 "cells": [
  {
   "cell_type": "markdown",
   "metadata": {},
   "source": [
    "# Science Case #4: \n",
    "\n",
    "Gather all (or selected) data on a specified source\n"
   ]
  },
  {
   "cell_type": "markdown",
   "metadata": {},
   "source": [
    "The user can search on a source name (resolved to RA-Dec by SIMBAD) or an RA-Dec\n",
    "location. Since the database has access to source detections from the ADMIT science products,\n",
    "the search scope would include any detected source in an observed field. The results of the\n",
    "search will be summarized in a tabular format. The user can ask for concatenation of the ADMIT\n",
    "science products for all observations and thumb through web pages to view moment maps and\n",
    "sample spectra. There are pointers to the ADMIT FITS products, and to the ALMA archive u,v\n",
    "data and pipeline data cubes.\n",
    "\n",
    "\n"
   ]
  },
  {
   "cell_type": "code",
   "execution_count": null,
   "metadata": {},
   "outputs": [],
   "source": []
  }
 ],
 "metadata": {
  "kernelspec": {
   "display_name": "Python 3",
   "language": "python",
   "name": "python3"
  },
  "language_info": {
   "codemirror_mode": {
    "name": "ipython",
    "version": 3
   },
   "file_extension": ".py",
   "mimetype": "text/x-python",
   "name": "python",
   "nbconvert_exporter": "python",
   "pygments_lexer": "ipython3",
   "version": "3.8.3"
  }
 },
 "nbformat": 4,
 "nbformat_minor": 4
}
