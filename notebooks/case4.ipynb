{
 "cells": [
  {
   "cell_type": "markdown",
   "metadata": {},
   "source": [
    "# Science Case #4: \n",
    "\n",
    "Gather all (or selected) data on a specified source\n"
   ]
  },
  {
   "cell_type": "markdown",
   "metadata": {},
   "source": [
    "The user can search on a source name (resolved to RA-Dec by SIMBAD) or an RA-Dec\n",
    "location. Since the database has access to source detections from the ADMIT science products,\n",
    "the search scope would include any detected source in an observed field. The results of the\n",
    "search will be summarized in a tabular format. The user can ask for concatenation of the ADMIT\n",
    "science products for all observations and thumb through web pages to view moment maps and\n",
    "sample spectra. There are pointers to the ADMIT FITS products, and to the ALMA archive u,v\n",
    "data and pipeline data cubes.\n",
    "\n",
    "\n"
   ]
  },
  {
   "cell_type": "markdown",
   "metadata": {},
   "source": [
    "### MWP: source_name_resolver does not work in astroquery.alma.  Looks like they never finished the implementation.\n",
    "We can search on source name and on RA-DEC region (see case1 notebook).\n",
    "We can't thumb through web pages either. I propose we ditch this SC"
   ]
  },
  {
   "cell_type": "code",
   "execution_count": null,
   "metadata": {},
   "outputs": [],
   "source": []
  }
 ],
 "metadata": {
  "kernelspec": {
   "display_name": "Python 3 (ipykernel)",
   "language": "python",
   "name": "python3"
  },
  "language_info": {
   "codemirror_mode": {
    "name": "ipython",
    "version": 3
   },
   "file_extension": ".py",
   "mimetype": "text/x-python",
   "name": "python",
   "nbconvert_exporter": "python",
   "pygments_lexer": "ipython3",
   "version": "3.9.7"
  }
 },
 "nbformat": 4,
 "nbformat_minor": 4
}
