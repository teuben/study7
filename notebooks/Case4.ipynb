{
 "cells": [
  {
   "cell_type": "markdown",
   "metadata": {},
   "source": [
    "# Science Case 5:   NGC3504 \n",
    "\n",
    "The galaxy NGC3504 has been observed in two unrelated ALMA projects, both in band 6 at at 230 GHz, cause for an interesting comparison.\n",
    "\n",
    "1. **2016.1.00650.S** - one 7m and two 12m observations of just NGC3504, to study flow in a bar\n",
    "2. **2017.1.00964.S** - a collection of 7 galaxies with the purpose of measure gas flow near the central black hole. For NGC3504 two datasets were collected.\n",
    "\n",
    "Here we are focusing on the commonalities and differences between these two observations.\n",
    "\n"
   ]
  },
  {
   "cell_type": "code",
   "execution_count": 1,
   "metadata": {},
   "outputs": [],
   "source": [
    "%matplotlib inline\n",
    "import matplotlib.pyplot as plt "
   ]
  },
  {
   "cell_type": "code",
   "execution_count": 2,
   "metadata": {},
   "outputs": [],
   "source": [
    "source = \"NGC3504\""
   ]
  },
  {
   "cell_type": "markdown",
   "metadata": {},
   "source": [
    "###  astroquery.alma\n",
    "\n",
    "First we should query the science archive, we can do https://almascience.nrao.edu/aq/ as well, but we want also show this via the notebook. \n"
   ]
  },
  {
   "cell_type": "code",
   "execution_count": 3,
   "metadata": {},
   "outputs": [],
   "source": [
    "from astroquery.alma import Alma\n",
    "import pandas as pd\n",
    "# display the whole table in the notebook\n",
    "pd.set_option('display.max_rows', None)\n",
    "pd.set_option('display.max_columns', None)\n",
    "pd.set_option('display.width', None)\n",
    "pd.set_option('display.max_colwidth',25)\n",
    "# more to come here.  here we just want to show how much you can do with the current query, before science\n",
    "alma = Alma()"
   ]
  },
  {
   "cell_type": "code",
   "execution_count": 4,
   "metadata": {},
   "outputs": [],
   "source": [
    "n = Alma.query_object(source)"
   ]
  },
  {
   "cell_type": "code",
   "execution_count": 5,
   "metadata": {},
   "outputs": [
    {
     "name": "stdout",
     "output_type": "stream",
     "text": [
      "[b'2017.1.00964.S' b'2016.1.00650.S']\n",
      "[b'uid://A001/X1288/Xba6' b'uid://A001/X1288/Xba8' b'uid://A001/X87a/X70a'\n",
      " b'uid://A001/X87a/X708' b'uid://A001/X87a/X706']\n"
     ]
    }
   ],
   "source": [
    "print(pd.unique(n['proposal_id']))\n",
    "print(pd.unique(n['obs_id']))"
   ]
  },
  {
   "cell_type": "markdown",
   "metadata": {},
   "source": [
    "Thus we have indeed two projects,and five observations across those two.\n",
    "\n",
    "Lets print how many beams we have across the image"
   ]
  },
  {
   "cell_type": "code",
   "execution_count": 6,
   "metadata": {},
   "outputs": [
    {
     "name": "stdout",
     "output_type": "stream",
     "text": [
      "        obs_id               s_fov             s_resolution    \n",
      "                              deg                  deg         \n",
      "--------------------- -------------------- --------------------\n",
      "uid://A001/X1288/Xba6 0.006863718695429476 0.034121085407438106\n",
      "uid://A001/X1288/Xba6 0.006863718695429476 0.034121085407438106\n",
      "uid://A001/X1288/Xba6 0.006863718695429476 0.034121085407438106\n",
      "uid://A001/X1288/Xba6 0.006863718695429476 0.034121085407438106\n",
      "uid://A001/X1288/Xba8  0.00686371854646795  0.20065563262611036\n",
      "uid://A001/X1288/Xba8  0.00686371854646795  0.20065563262611036\n",
      "uid://A001/X1288/Xba8  0.00686371854646795  0.20065563262611036\n",
      "uid://A001/X1288/Xba8  0.00686371854646795  0.20065563262611036\n",
      " uid://A001/X87a/X70a 0.017853666133604822    5.503583966319726\n",
      " uid://A001/X87a/X70a 0.017853666133604822    5.503583966319726\n",
      " uid://A001/X87a/X70a 0.017853666133604822    5.503583966319726\n",
      " uid://A001/X87a/X70a 0.017853666133604822    5.503583966319726\n",
      " uid://A001/X87a/X708  0.01305128673735267   1.7825652390462614\n",
      " uid://A001/X87a/X708  0.01305128673735267   1.7825652390462614\n",
      " uid://A001/X87a/X708  0.01305128673735267   1.7825652390462614\n",
      " uid://A001/X87a/X708  0.01305128673735267   1.7825652390462614\n",
      " uid://A001/X87a/X706 0.013051297132328152    0.565397979165851\n",
      " uid://A001/X87a/X706 0.013051297132328152    0.565397979165851\n",
      " uid://A001/X87a/X706 0.013051297132328152    0.565397979165851\n",
      " uid://A001/X87a/X706 0.013051297132328152    0.565397979165851\n"
     ]
    }
   ],
   "source": [
    "ci=['obs_id','s_fov','s_resolution']\n",
    "n['nres'] = 3600*n['s_fov']/n['s_resolution']\n",
    "print(n[ci])"
   ]
  },
  {
   "cell_type": "markdown",
   "metadata": {},
   "source": [
    "Notice there appears to be a units issue with s_resolution: they appear to be in arcsec. There is also a 'spatial_resolution', but it has the same issue.\n",
    "\n"
   ]
  },
  {
   "cell_type": "markdown",
   "metadata": {},
   "source": [
    "### astroquery.admit"
   ]
  },
  {
   "cell_type": "code",
   "execution_count": 7,
   "metadata": {},
   "outputs": [
    {
     "name": "stdout",
     "output_type": "stream",
     "text": [
      "Found  /home/teuben/ALMA/study7/query/admit.db\n",
      "Checking db.... 0\n",
      "71 71 71\n",
      "Database version: 27-feb-2022. core.py version: 26-feb-2022\n",
      "header    : 1 entries\n",
      "alma      : 124 entries\n",
      "win       : 123 entries\n",
      "lines     : 33 entries\n",
      "sources   : 769 entries\n"
     ]
    }
   ],
   "source": [
    "from astroquery.admit import ADMIT\n",
    "import pandas as pd\n",
    "\n",
    "pd.set_option('display.max_rows', None)\n",
    "pd.set_option('display.max_columns', None)\n",
    "pd.set_option('display.width', None)\n",
    "pd.set_option('display.max_colwidth',25)\n",
    "\n",
    "\n",
    "a = ADMIT()\n",
    "a.check()"
   ]
  },
  {
   "cell_type": "markdown",
   "metadata": {},
   "source": [
    "# Continuum\n",
    "\n",
    "First we want to see if any continuum is detected, so we select all windows with one channel.\n",
    "\n"
   ]
  },
  {
   "cell_type": "code",
   "execution_count": 8,
   "metadata": {},
   "outputs": [
    {
     "name": "stdout",
     "output_type": "stream",
     "text": [
      "select * from alma inner join win on (win.a_id = alma.id)  inner join sources on (sources.w_id = win.id)   WHERE alma.target_name='NGC3504' AND win.nchan=1 AND sources.flux>=0.0 AND sources.l_id = 0  \n",
      "\n",
      "(23, 40)\n"
     ]
    }
   ],
   "source": [
    "p = a.query(source_name_alma=source,nchan=1,flux='>0')\n",
    "print(p.shape)"
   ]
  },
  {
   "cell_type": "code",
   "execution_count": 9,
   "metadata": {},
   "outputs": [
    {
     "data": {
      "text/html": [
       "<i>Table length=71</i>\n",
       "<table id=\"table139838043988272-821875\" class=\"table-striped table-bordered table-condensed\">\n",
       "<thead><tr><th>idx</th><th>Keyword</th><th>Description</th><th>Database Table</th></tr></thead>\n",
       "<tr><td>0</td><td>alma_id</td><td>ALMA ID</td><td>Window</td></tr>\n",
       "<tr><td>1</td><td>win_id</td><td>Spectral window ID</td><td>Window</td></tr>\n",
       "<tr><td>2</td><td>spw</td><td>Spectral window name</td><td>Window</td></tr>\n",
       "<tr><td>3</td><td>nlines</td><td>Number of lines</td><td>Window</td></tr>\n",
       "<tr><td>4</td><td>nsources</td><td>Number of sources</td><td>Window</td></tr>\n",
       "<tr><td>5</td><td>nchan</td><td>Number of channels</td><td>Window</td></tr>\n",
       "<tr><td>6</td><td>win_peak</td><td>Window peak flux</td><td>Window</td></tr>\n",
       "<tr><td>7</td><td>win_rms</td><td>Window RMS noise</td><td>Window</td></tr>\n",
       "<tr><td>8</td><td>win_snr</td><td>Window Signal to noise ratio (peak/rms)</td><td>Window</td></tr>\n",
       "<tr><td>9</td><td>bmaj</td><td>Beam major axis</td><td>Window</td></tr>\n",
       "<tr><td>10</td><td>bmin</td><td>Beam minor axis</td><td>Window</td></tr>\n",
       "<tr><td>11</td><td>bpa</td><td>Beam PA</td><td>Window</td></tr>\n",
       "<tr><td>12</td><td>freqc</td><td>Frequency center (GHz)</td><td>Window</td></tr>\n",
       "<tr><td>13</td><td>freqw</td><td>Frequency width (GHz)</td><td>Window</td></tr>\n",
       "<tr><td>14</td><td>vlsr</td><td>LSR Velocity (km/s)</td><td>Window</td></tr>\n",
       "<tr><td>15</td><td>fcoverage</td><td>Frequency coverage?</td><td>Window</td></tr>\n",
       "<tr><td>16</td><td>l_win_id</td><td>Spectral window ID(L)</td><td>Lines</td></tr>\n",
       "<tr><td>17</td><td>restfreq</td><td>Rest frequency</td><td>Lines</td></tr>\n",
       "<tr><td>18</td><td>formula</td><td>Formula</td><td>Lines</td></tr>\n",
       "<tr><td>19</td><td>transition</td><td>Transition</td><td>Lines</td></tr>\n",
       "<tr><td>20</td><td>velocity</td><td>Velocity</td><td>Lines</td></tr>\n",
       "<tr><td>21</td><td>vmin</td><td>Minimum velocity</td><td>Lines</td></tr>\n",
       "<tr><td>22</td><td>vmax</td><td>Maximum velocity</td><td>Lines</td></tr>\n",
       "<tr><td>23</td><td>mom0flux</td><td>Moment zero flux</td><td>Lines</td></tr>\n",
       "<tr><td>24</td><td>mom1peak</td><td>Moment one peak</td><td>Lines</td></tr>\n",
       "<tr><td>25</td><td>mom2peak</td><td>Moment two peak (km/s)</td><td>Lines</td></tr>\n",
       "<tr><td>26</td><td>s_win_id</td><td>Spectral Window ID(S)</td><td>Sources</td></tr>\n",
       "<tr><td>27</td><td>lines_id</td><td>Line ID</td><td>Sources</td></tr>\n",
       "<tr><td>28</td><td>ra</td><td>RA (Degrees)</td><td>Sources</td></tr>\n",
       "<tr><td>29</td><td>dec</td><td>Dec (Degrees)</td><td>Sources</td></tr>\n",
       "<tr><td>30</td><td>flux</td><td>Flux</td><td>Sources</td></tr>\n",
       "<tr><td>31</td><td>source_snr</td><td>Source Signal to noise ratio</td><td>Sources</td></tr>\n",
       "<tr><td>32</td><td>source_peak</td><td>Source Peak flux</td><td>Sources</td></tr>\n",
       "<tr><td>33</td><td>smaj</td><td>Source major axis</td><td>Sources</td></tr>\n",
       "<tr><td>34</td><td>smin</td><td>Source minor axis</td><td>Sources</td></tr>\n",
       "<tr><td>35</td><td>spa</td><td>Source PA</td><td>Sources</td></tr>\n",
       "<tr><td>36</td><td>region</td><td>Search Region</td><td>Sources</td></tr>\n",
       "<tr><td>37</td><td>header_key</td><td>Key</td><td>Header</td></tr>\n",
       "<tr><td>38</td><td>header_val</td><td>Value</td><td>Header</td></tr>\n",
       "<tr><td>39</td><td>obs_id</td><td>Observation</td><td>Alma</td></tr>\n",
       "<tr><td>40</td><td>source_name_resolver</td><td>Source name (astropy Resolver)</td><td>Alma</td></tr>\n",
       "<tr><td>41</td><td>source_name_alma</td><td>Source name (ALMA)</td><td>Alma</td></tr>\n",
       "<tr><td>42</td><td>ra_dec</td><td>RA Dec (Sexagesimal)</td><td>Alma</td></tr>\n",
       "<tr><td>43</td><td>galactic</td><td>Galactic (Degrees)</td><td>Alma</td></tr>\n",
       "<tr><td>44</td><td>spatial_resolution</td><td>Angular resolution (arcsec)</td><td>Alma</td></tr>\n",
       "<tr><td>45</td><td>spatial_scale_max</td><td>Largest angular scale (arcsec)</td><td>Alma</td></tr>\n",
       "<tr><td>46</td><td>fov</td><td>Field of view (arcsec)</td><td>Alma</td></tr>\n",
       "<tr><td>47</td><td>frequency</td><td>Frequency (GHz)</td><td>Alma</td></tr>\n",
       "<tr><td>48</td><td>bandwidth</td><td>Bandwidth (Hz)</td><td>Alma</td></tr>\n",
       "<tr><td>49</td><td>spectral_resolution</td><td>Spectral resolution (KHz)</td><td>Alma</td></tr>\n",
       "<tr><td>50</td><td>band_list</td><td>Band</td><td>Alma</td></tr>\n",
       "<tr><td>51</td><td>start_date</td><td>Observation date</td><td>Alma</td></tr>\n",
       "<tr><td>52</td><td>integration_time</td><td>Integration time (s)</td><td>Alma</td></tr>\n",
       "<tr><td>53</td><td>polarisation_type</td><td>Polarisation type (Single, Dual, Full)</td><td>Alma</td></tr>\n",
       "<tr><td>54</td><td>line_sensitivity</td><td>Line sensitivity (10 km/s) (mJy/beam)</td><td>Alma</td></tr>\n",
       "<tr><td>55</td><td>continuum_sensitivity</td><td>Continuum sensitivity (mJy/beam)</td><td>Alma</td></tr>\n",
       "<tr><td>56</td><td>water_vapour</td><td>Water vapour (mm)</td><td>Alma</td></tr>\n",
       "<tr><td>57</td><td>project_code</td><td>Project code</td><td>Alma</td></tr>\n",
       "<tr><td>58</td><td>project_title</td><td>Project title</td><td>Alma</td></tr>\n",
       "<tr><td>59</td><td>pi_name</td><td>PI name</td><td>Alma</td></tr>\n",
       "<tr><td>60</td><td>proposal_authors</td><td>Proposal authors</td><td>Alma</td></tr>\n",
       "<tr><td>61</td><td>project_abstract</td><td>Project abstract</td><td>Alma</td></tr>\n",
       "<tr><td>62</td><td>publication_count</td><td>Publication count</td><td>Alma</td></tr>\n",
       "<tr><td>63</td><td>science_keyword</td><td>Science keyword</td><td>Alma</td></tr>\n",
       "<tr><td>64</td><td>scientific_category</td><td>Scientific category</td><td>Alma</td></tr>\n",
       "<tr><td>65</td><td>bibcode</td><td>Bibcode</td><td>Alma</td></tr>\n",
       "<tr><td>66</td><td>pub_title</td><td>Title</td><td>Alma</td></tr>\n",
       "<tr><td>67</td><td>first_author</td><td>First author</td><td>Alma</td></tr>\n",
       "<tr><td>68</td><td>authors</td><td>Authors</td><td>Alma</td></tr>\n",
       "<tr><td>69</td><td>pub_abstract</td><td>Abstract</td><td>Alma</td></tr>\n",
       "<tr><td>70</td><td>publication_year</td><td>Year</td><td>Alma</td></tr>\n",
       "</table><style>table.dataTable {clear: both; width: auto !important; margin: 0 !important;}\n",
       ".dataTables_info, .dataTables_length, .dataTables_filter, .dataTables_paginate{\n",
       "display: inline-block; margin-right: 1em; }\n",
       ".paginate_button { margin-right: 5px; }\n",
       "</style>\n",
       "<script>\n",
       "\n",
       "var astropy_sort_num = function(a, b) {\n",
       "    var a_num = parseFloat(a);\n",
       "    var b_num = parseFloat(b);\n",
       "\n",
       "    if (isNaN(a_num) && isNaN(b_num))\n",
       "        return ((a < b) ? -1 : ((a > b) ? 1 : 0));\n",
       "    else if (!isNaN(a_num) && !isNaN(b_num))\n",
       "        return ((a_num < b_num) ? -1 : ((a_num > b_num) ? 1 : 0));\n",
       "    else\n",
       "        return isNaN(a_num) ? -1 : 1;\n",
       "}\n",
       "\n",
       "require.config({paths: {\n",
       "    datatables: 'https://cdn.datatables.net/1.10.12/js/jquery.dataTables.min'\n",
       "}});\n",
       "require([\"datatables\"], function(){\n",
       "    console.log(\"$('#table139838043988272-821875').dataTable()\");\n",
       "    \n",
       "jQuery.extend( jQuery.fn.dataTableExt.oSort, {\n",
       "    \"optionalnum-asc\": astropy_sort_num,\n",
       "    \"optionalnum-desc\": function (a,b) { return -astropy_sort_num(a, b); }\n",
       "});\n",
       "\n",
       "    $('#table139838043988272-821875').dataTable({\n",
       "        order: [],\n",
       "        pageLength: 20,\n",
       "        lengthMenu: [[20, 10, 25, 50, 100, 500, 1000, -1], [20, 10, 25, 50, 100, 500, 1000, 'All']],\n",
       "        pagingType: \"full_numbers\",\n",
       "        columnDefs: [{targets: [0], type: \"optionalnum\"}]\n",
       "    });\n",
       "});\n",
       "</script>\n"
      ],
      "text/plain": [
       "<IPython.core.display.HTML object>"
      ]
     },
     "execution_count": 9,
     "metadata": {},
     "output_type": "execute_result"
    }
   ],
   "source": [
    "a.key_description.show_in_notebook(display_length=20)"
   ]
  },
  {
   "cell_type": "markdown",
   "metadata": {},
   "source": [
    "We collect a few observables: observing time, as well as peak and flux and the resolution\n",
    "\n",
    "Note we need to clean up the units"
   ]
  },
  {
   "cell_type": "code",
   "execution_count": 10,
   "metadata": {},
   "outputs": [
    {
     "name": "stdout",
     "output_type": "stream",
     "text": [
      "                   obs_id             spw  nsources         t_min      flux  \\\n",
      "0   uid://A001/X1288/Xba6           spw21         1  58050.543677  0.000860   \n",
      "1   uid://A001/X1288/Xba8           spw19         1  58119.297186  0.001110   \n",
      "2   uid://A001/X1288/Xba8           spw21         1  58119.297186  0.001240   \n",
      "3   uid://A001/X1288/Xba8           spw23         1  58119.297186  0.001790   \n",
      "4   uid://A001/X1288/Xba8           spw25         1  58119.297186  0.001450   \n",
      "5    uid://A001/X87a/X706           spw23         1  57713.452563  0.001730   \n",
      "6    uid://A001/X87a/X706           spw25         1  57713.452563  0.001510   \n",
      "7    uid://A001/X87a/X706           spw27         1  57713.452563  0.001560   \n",
      "8    uid://A001/X87a/X706           spw29         1  57713.452563  0.001730   \n",
      "9    uid://A001/X87a/X708           spw23         3  57830.136178  0.007700   \n",
      "10   uid://A001/X87a/X708           spw23         3  57830.136178  0.013800   \n",
      "11   uid://A001/X87a/X708           spw23         3  57830.136178  0.024200   \n",
      "12   uid://A001/X87a/X708           spw25         2  57830.136178  0.010600   \n",
      "13   uid://A001/X87a/X708           spw25         2  57830.136178  0.009770   \n",
      "14   uid://A001/X87a/X708           spw27         2  57830.136178  0.008230   \n",
      "15   uid://A001/X87a/X708           spw27         2  57830.136178  0.014200   \n",
      "16   uid://A001/X87a/X708           spw29         1  57830.136178  0.008840   \n",
      "17   uid://A001/X87a/X70a           spw16         1  57704.450990  0.015200   \n",
      "18   uid://A001/X87a/X70a           spw18         1  57704.450990  0.015000   \n",
      "19   uid://A001/X87a/X70a           spw20         1  57704.450990  0.018400   \n",
      "20   uid://A001/X87a/X70a           spw22         1  57704.450990  0.016900   \n",
      "21  uid://A001/X1288/Xba6  spw19_21_23_25         1  58050.543677  0.000618   \n",
      "22  uid://A001/X1288/Xba8  spw19_21_23_25         1  58119.297186  0.001290   \n",
      "\n",
      "      peak_s        fop  bmaj_arcsec  smaj_arcsec  \n",
      "0   0.000151   5.695364     0.049721          0.0  \n",
      "1   0.000512   2.167969     0.218953          0.0  \n",
      "2   0.000580   2.137931     0.208199          0.0  \n",
      "3   0.000594   3.013468     0.206176          0.0  \n",
      "4   0.000706   2.053824     0.219428          0.0  \n",
      "5   0.001090   1.587156     0.617609          0.0  \n",
      "6   0.000968   1.559917     0.660397          0.0  \n",
      "7   0.001020   1.529412     0.655523          0.0  \n",
      "8   0.001260   1.373016     0.623399          0.0  \n",
      "9   0.002080   3.701923     1.810933          3.6  \n",
      "10  0.002040   6.764706     1.810933          7.2  \n",
      "11  0.001940  12.474227     1.810933          7.2  \n",
      "12  0.002120   5.000000     1.919427          7.2  \n",
      "13  0.001710   5.713450     1.919427          3.6  \n",
      "14  0.002290   3.593886     2.262012          3.6  \n",
      "15  0.002310   6.147186     2.262012          7.2  \n",
      "16  0.002280   3.877193     1.812930          3.6  \n",
      "17  0.009540   1.593291     6.312150          7.2  \n",
      "18  0.009410   1.594049     6.296568          7.2  \n",
      "19  0.010600   1.735849     5.772073          7.2  \n",
      "20  0.009970   1.695085     5.714493          7.2  \n",
      "21  0.000160   3.862500     0.041953          0.0  \n",
      "22  0.000570   2.263158     0.212872          0.0  \n"
     ]
    }
   ],
   "source": [
    "ci=['obs_id','spw','nsources','t_min', 'flux', 'peak_s','fop','bmaj_arcsec','smaj_arcsec']\n",
    "p['fop'] = p['flux']/p['peak_s']\n",
    "p['bmaj_arcsec'] = p['bmaj'] * 3600\n",
    "p['smaj_arcsec'] = p['smaj'] * 3600\n",
    "print(p[ci])"
   ]
  },
  {
   "cell_type": "markdown",
   "metadata": {},
   "source": [
    "It's a little surprising that flux/peak is 1.5  for the lowest and highest resolution array data, but there clearly is something very odd about the middle resolution (X708) data."
   ]
  },
  {
   "cell_type": "code",
   "execution_count": 11,
   "metadata": {},
   "outputs": [
    {
     "data": {
      "image/png": "[encoded data removed]",
      "text/plain": [
       "<Figure size 432x288 with 1 Axes>"
      ]
     },
     "metadata": {
      "needs_background": "light"
     },
     "output_type": "display_data"
    }
   ],
   "source": [
    "plt.scatter(p['t_min'],p['flux']);\n",
    "plt.title(source + \" continuum lightcurve\")\n",
    "plt.xlabel('MJD')\n",
    "plt.ylabel('Flux (Jy)');"
   ]
  },
  {
   "cell_type": "markdown",
   "metadata": {},
   "source": [
    "well, the fluxes are somewhat all over the place..... averaging 10-15 mJy.\n",
    "\n",
    "The other dataset of NGC3504 at mjd > 58000 seems to have lost a lot of flux.\n",
    "\n",
    "Here is a figure of the continuum source, as seen in the three different ALMA confirmation. Figures have been taking from ADMIT, including where sources were detected. ADMIT was using CASA's ia.findsources()\n",
    "\n",
    "![NGC3504](NGC3504a.png)"
   ]
  },
  {
   "cell_type": "markdown",
   "metadata": {},
   "source": [
    "# Spectral Lines"
   ]
  },
  {
   "cell_type": "code",
   "execution_count": 12,
   "metadata": {},
   "outputs": [
    {
     "name": "stdout",
     "output_type": "stream",
     "text": [
      "select * from alma inner join win on (win.a_id = alma.id)  inner join lines on (lines.w_id = win.id )  WHERE alma.target_name='NGC3504' AND win.nchan>=1.0 AND lines.mom0flux>=0.0 \n",
      "\n"
     ]
    }
   ],
   "source": [
    "p = a.query(source_name_alma=source,nchan='>1',mom0flux='>0')"
   ]
  },
  {
   "cell_type": "code",
   "execution_count": 13,
   "metadata": {},
   "outputs": [
    {
     "name": "stdout",
     "output_type": "stream",
     "text": [
      "select * from alma inner join win on (win.a_id = alma.id)  inner join lines on (lines.w_id = win.id )  WHERE win.nchan>=1.0 AND lines.mom0flux>=0.0 \n",
      "\n"
     ]
    }
   ],
   "source": [
    "p = a.query(nchan='>1',mom0flux='>0')"
   ]
  },
  {
   "cell_type": "code",
   "execution_count": 14,
   "metadata": {},
   "outputs": [
    {
     "name": "stdout",
     "output_type": "stream",
     "text": [
      "(33, 39)\n",
      "Index(['id', 'obs_id', 'target_name', 's_ra', 's_dec', 'frequency', 't_min',\n",
      "       'cont_sensitivity_bandwidth', 'sensitivity_10kms', 'project_abstract',\n",
      "       'obs_title', 'science_keyword', 'scientific_category',\n",
      "       'proposal_authors', 'id', 'a_id', 'spw', 'freqc', 'freqw', 'vlsr',\n",
      "       'nlines', 'nsources', 'nchan', 'peak_w', 'rms_w', 'bmaj', 'bmin', 'bpa',\n",
      "       'fcoverage', 'id', 'w_id', 'formula', 'transition', 'restfreq', 'vmin',\n",
      "       'vmax', 'mom0flux', 'mom1peak', 'mom2peak'],\n",
      "      dtype='object')\n"
     ]
    }
   ],
   "source": [
    "print(p.shape)\n",
    "print(p.columns)\n",
    "\n"
   ]
  },
  {
   "cell_type": "code",
   "execution_count": 15,
   "metadata": {},
   "outputs": [
    {
     "name": "stdout",
     "output_type": "stream",
     "text": [
      "      spw   restfreq   formula    mom0flux  mom1peak         vlsr  mom2peak  \\\n",
      "0   spw21  243.48293    H2COH+   1863.8500  1457.430  1447.989431  31.01830   \n",
      "1   spw23  244.59816     HCOOH   4235.2400  1427.340  1447.989431  31.75560   \n",
      "2   spw23  244.59816     HCOOH    313.3270  1420.510  1447.989431  38.15480   \n",
      "3   spw23  244.63395  CH3CH2OH    309.1810  1448.800  1447.989431  33.36400   \n",
      "4   spw25  230.53800        CO   2698.2200  1475.480  1447.989431  20.86430   \n",
      "5   spw23  244.93556        CS   3429.8800  1831.720  1521.106704  33.66740   \n",
      "6   spw25  230.53800        CO   3388.7800  1516.190  1521.106704  34.98030   \n",
      "7   spw23  244.93556        CS   1090.5600  1549.750  1521.106704  80.49340   \n",
      "8   spw25  230.53800        CO  18313.7000  1547.690  1521.106704  58.09510   \n",
      "9   spw16  230.53800        CO  11534.2000   639.522   628.000000  70.28280   \n",
      "10  spw21  242.49769   CH3COOH    477.7500   241.190   232.006873  37.10220   \n",
      "11  spw21  242.50962   CH3COOH      0.0000     0.000   232.006873   0.00000   \n",
      "12  spw21  242.90447  CH3CH2CN   4678.6600   755.657   715.580697  32.75740   \n",
      "13  spw23  244.93556        CS   1365.7300   969.082   715.580697  47.37710   \n",
      "14  spw21  242.90447  CH3CH2CN   1217.1900   751.218   715.580697  29.58540   \n",
      "15  spw23  244.93556        CS    405.3630   989.835   715.580697  49.21610   \n",
      "16  spw25  230.53800        CO   9306.8000   710.181   715.580697  62.40980   \n",
      "17  spw21  242.61847   CH2DCCH   1438.9200   393.771   401.856222  32.58840   \n",
      "18  spw21  242.63925  H2NCH2CN   1496.2700   408.513   401.856222  34.56510   \n",
      "19  spw25  230.53800        CO    436.5640   387.738   401.856222  10.90870   \n",
      "20  spw25  230.53800        CO    894.7710   397.203   401.856222  15.01770   \n",
      "21  spw19  228.60363  CH2CHCHO    500.2180  1008.250   978.913173  52.92020   \n",
      "22  spw21  243.08765       SO2    833.0270   974.240   978.913173  33.24510   \n",
      "23  spw23  244.22213     HCCCH    646.3020   980.356   978.913173  30.18990   \n",
      "24  spw21  243.12925  CH2OHCHO    370.0540   991.099   978.913173  31.06460   \n",
      "25  spw23  244.23979  CH3CH2CN    264.3150   949.060   978.913173  36.27090   \n",
      "26  spw25  230.53800        CO    323.7160   980.293   978.913173   6.99879   \n",
      "27  spw25  230.53800        CO  24782.4000  1548.350  1521.106704  60.99150   \n",
      "28  spw29  244.93556        CS    140.5190  1483.460  1521.106704  15.87380   \n",
      "29  spw25  230.53800        CO  32461.2000  1539.720  1521.106704  59.09890   \n",
      "30  spw29  244.93556        CS    107.7540  1538.800  1521.106704  31.05040   \n",
      "31  spw16  230.53800        CO  26393.2000  1537.470  1521.106704  40.22490   \n",
      "32  spw20  244.93556        CS     91.1055  1544.310  1521.106704  24.96880   \n",
      "\n",
      "    nlines  \n",
      "0        1  \n",
      "1        1  \n",
      "2        2  \n",
      "3        2  \n",
      "4        1  \n",
      "5        1  \n",
      "6        1  \n",
      "7        1  \n",
      "8        1  \n",
      "9        1  \n",
      "10       2  \n",
      "11       2  \n",
      "12       1  \n",
      "13       1  \n",
      "14       1  \n",
      "15       1  \n",
      "16       1  \n",
      "17       2  \n",
      "18       2  \n",
      "19       1  \n",
      "20       1  \n",
      "21       1  \n",
      "22       1  \n",
      "23       1  \n",
      "24       1  \n",
      "25       1  \n",
      "26       1  \n",
      "27       1  \n",
      "28       1  \n",
      "29       1  \n",
      "30       1  \n",
      "31       1  \n",
      "32       1  \n"
     ]
    }
   ],
   "source": [
    "ci=['obs_id','spw','restfreq','formula','mom0flux','mom1peak','mom2peak']\n",
    "ci=['spw','restfreq','formula','mom0flux','mom1peak','vlsr','mom2peak','nlines']\n",
    "print(p[ci])"
   ]
  },
  {
   "cell_type": "markdown",
   "metadata": {},
   "source": [
    "To note here in the current set of tables the mom0flux values are probed at the location where in the CubeSum a source was detected.  There is no mom0flux value generated for the CubeSum, this might have been useful here to compare to.\n",
    "\n",
    "\n",
    "\n",
    "One caveat: the CO line appears to be missing (Xba6,8), whereas the CS line is there....   which turned out to be because the CO cubes crashed in ADMIT (some I/O error).  "
   ]
  },
  {
   "cell_type": "code",
   "execution_count": null,
   "metadata": {},
   "outputs": [],
   "source": []
  },
  {
   "cell_type": "code",
   "execution_count": null,
   "metadata": {},
   "outputs": [],
   "source": []
  }
 ],
 "metadata": {
  "kernelspec": {
   "display_name": "Python 3",
   "language": "python",
   "name": "python3"
  },
  "language_info": {
   "codemirror_mode": {
    "name": "ipython",
    "version": 3
   },
   "file_extension": ".py",
   "mimetype": "text/x-python",
   "name": "python",
   "nbconvert_exporter": "python",
   "pygments_lexer": "ipython3",
   "version": "3.8.3"
  }
 },
 "nbformat": 4,
 "nbformat_minor": 4
}
