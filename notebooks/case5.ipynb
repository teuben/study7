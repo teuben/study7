{
 "cells": [
  {
   "cell_type": "markdown",
   "metadata": {},
   "source": [
    "# Science Case 5\n",
    "\n",
    "The phase and bandpass calibrators are included in the product tree of the pipeline results, but they cannot be found in the online query. We developed a shortcut of putting calibrators in another database, which could be queried much like the science queries, except there is only continuum available.\n",
    "\n",
    "Stacking of calibrator maps has already resulted of interested results (Zwaan, priv.comm.)\n",
    "\n",
    "The use of this notebook is not scientific, as we have no control over how the flux scale was determined (usually via a planet or a moon of a planet). With that caveat we are going to plot the flux as function of time for the calibrators we have available.\n",
    "\n",
    "(reminder) In another notebook, we should check the flux of the continuum source in NGC3504, as we have several measurements in different projects."
   ]
  },
  {
   "cell_type": "code",
   "execution_count": 1,
   "metadata": {},
   "outputs": [],
   "source": [
    "%matplotlib inline\n",
    "import matplotlib.pyplot as plt "
   ]
  },
  {
   "cell_type": "code",
   "execution_count": 2,
   "metadata": {},
   "outputs": [
    {
     "name": "stdout",
     "output_type": "stream",
     "text": [
      "Found  ../admit.db\n",
      "Checking db.... 0\n",
      "header    : 103 entries\n",
      "alma      : 103 entries\n",
      "win       : 103 entries\n",
      "lines     : 26 entries\n",
      "sources   : 268 entries\n"
     ]
    }
   ],
   "source": [
    "from astroquery.admit import ADMIT\n",
    "import pandas as pd\n",
    "\n",
    "pd.set_option('display.max_rows', None)\n",
    "pd.set_option('display.max_columns', None)\n",
    "pd.set_option('display.width', None)\n",
    "pd.set_option('display.max_colwidth',25)\n",
    "\n",
    "\n",
    "a = ADMIT('../admit.db')\n",
    "a.check()"
   ]
  },
  {
   "cell_type": "code",
   "execution_count": 3,
   "metadata": {},
   "outputs": [
    {
     "name": "stdout",
     "output_type": "stream",
     "text": [
      "kwargs  {'source_name_alma': 'NGC3504', 'nchan': 1}\n",
      "select * from alma inner join win on (win.a_id = alma.id) inner join sources on (sources.w_id = win.id)   WHERE alma.target_name='NGC3504' AND win.nchan=1 AND sources.l_id = 0 \n",
      "21\n"
     ]
    }
   ],
   "source": [
    "source = 'NGC3504'\n",
    "p = a.query(source_name_alma=source,nchan=1)\n",
    "print(len(p))"
   ]
  },
  {
   "cell_type": "markdown",
   "metadata": {},
   "source": [
    "We collect the time, as well as peak and flux and the resolution"
   ]
  },
  {
   "cell_type": "code",
   "execution_count": 4,
   "metadata": {},
   "outputs": [
    {
     "name": "stdout",
     "output_type": "stream",
     "text": [
      "                   obs_id    spw  nsources         t_min     flux    peak_s  \\\n",
      "0   uid://A001/X1288/Xba6  spw21         1  58050.543677  0.00086  0.000151   \n",
      "1   uid://A001/X1288/Xba8  spw19         1  58119.297186  0.00111  0.000512   \n",
      "2   uid://A001/X1288/Xba8  spw21         1  58119.297186  0.00124  0.000580   \n",
      "3   uid://A001/X1288/Xba8  spw23         1  58119.297186  0.00179  0.000594   \n",
      "4   uid://A001/X1288/Xba8  spw25         1  58119.297186  0.00145  0.000706   \n",
      "5    uid://A001/X87a/X706    ???         1  57713.452563  0.00173  0.001090   \n",
      "6    uid://A001/X87a/X706    ???         1  57713.452563  0.00151  0.000968   \n",
      "7    uid://A001/X87a/X706    ???         1  57713.452563  0.00156  0.001020   \n",
      "8    uid://A001/X87a/X706    ???         1  57713.452563  0.00173  0.001260   \n",
      "9    uid://A001/X87a/X708    ???         3  57830.136178  0.00770  0.002080   \n",
      "10   uid://A001/X87a/X708    ???         3  57830.136178  0.01380  0.002040   \n",
      "11   uid://A001/X87a/X708    ???         3  57830.136178  0.02420  0.001940   \n",
      "12   uid://A001/X87a/X708    ???         2  57830.136178  0.01060  0.002120   \n",
      "13   uid://A001/X87a/X708    ???         2  57830.136178  0.00977  0.001710   \n",
      "14   uid://A001/X87a/X708    ???         2  57830.136178  0.00823  0.002290   \n",
      "15   uid://A001/X87a/X708    ???         2  57830.136178  0.01420  0.002310   \n",
      "16   uid://A001/X87a/X708    ???         1  57830.136178  0.00884  0.002280   \n",
      "17   uid://A001/X87a/X70a  spw16         1  57704.450990  0.01520  0.009540   \n",
      "18   uid://A001/X87a/X70a  spw18         1  57704.450990  0.01500  0.009410   \n",
      "19   uid://A001/X87a/X70a  spw20         1  57704.450990  0.01840  0.010600   \n",
      "20   uid://A001/X87a/X70a  spw22         1  57704.450990  0.01690  0.009970   \n",
      "\n",
      "          fop  bmaj_arcsec   smaj  \n",
      "0    5.695364     0.049721  0.116  \n",
      "1    2.167969     0.218953  0.288  \n",
      "2    2.137931     0.208199  0.282  \n",
      "3    3.013468     0.206176  0.355  \n",
      "4    2.053824     0.219428  0.290  \n",
      "5    1.587156     0.617609  0.741  \n",
      "6    1.559917     0.660397  0.739  \n",
      "7    1.529412     0.655523  0.741  \n",
      "8    1.373016     0.623399  0.642  \n",
      "9    3.701923     1.810933  4.009  \n",
      "10   6.764706     1.810933  6.460  \n",
      "11  12.474227     1.810933  7.577  \n",
      "12   5.000000     1.919427  6.431  \n",
      "13   5.713450     1.919427  4.530  \n",
      "14   3.593886     2.262012  4.520  \n",
      "15   6.147186     2.262012  7.512  \n",
      "16   3.877193     1.812930  4.144  \n",
      "17   1.593291     6.312150  7.930  \n",
      "18   1.594049     6.296568  7.954  \n",
      "19   1.735849     5.772073  7.690  \n",
      "20   1.695085     5.714493  7.550  \n"
     ]
    }
   ],
   "source": [
    "ci=['obs_id','spw','nsources','t_min', 'flux', 'peak_s','fop','bmaj_arcsec','smaj']\n",
    "p['fop'] = p['flux']/p['peak_s']\n",
    "p['bmaj_arcsec'] = p['bmaj'] * 3600\n",
    "print(p[ci])"
   ]
  },
  {
   "cell_type": "markdown",
   "metadata": {},
   "source": [
    "It's a little surprising that flux/peak is 1.5  for the lowest and highest resolution array data, but there clearly is something odd about the middle resolution X708 data.\n",
    "\n",
    "NOTE:  the ??? spw is some bug where something failed.   to be fixed"
   ]
  },
  {
   "cell_type": "code",
   "execution_count": 5,
   "metadata": {},
   "outputs": [
    {
     "data": {
      "image/png": "[encoded data removed]",
      "text/plain": [
       "<Figure size 432x288 with 1 Axes>"
      ]
     },
     "metadata": {
      "needs_background": "light"
     },
     "output_type": "display_data"
    }
   ],
   "source": [
    "plt.scatter(p['t_min'],p['flux']);\n",
    "plt.title(source)\n",
    "plt.xlabel('MJD')\n",
    "plt.ylabel('Flux (Jy)');"
   ]
  },
  {
   "cell_type": "markdown",
   "metadata": {},
   "source": [
    "well, the fluxes are somewhat all over the place..... averaging around 15 mJy.\n",
    "\n",
    "The other dataset of NGC3504 at mjd > 58000 seems to have lost a lot of flux."
   ]
  }
 ],
 "metadata": {
  "kernelspec": {
   "display_name": "Python 3",
   "language": "python",
   "name": "python3"
  },
  "language_info": {
   "codemirror_mode": {
    "name": "ipython",
    "version": 3
   },
   "file_extension": ".py",
   "mimetype": "text/x-python",
   "name": "python",
   "nbconvert_exporter": "python",
   "pygments_lexer": "ipython3",
   "version": "3.8.3"
  }
 },
 "nbformat": 4,
 "nbformat_minor": 4
}
