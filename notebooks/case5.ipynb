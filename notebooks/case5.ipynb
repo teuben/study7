{
 "cells": [
  {
   "cell_type": "markdown",
   "metadata": {},
   "source": [
    "# Science Case 5:   NGC3504 \n",
    "\n",
    "The galaxy NGC3504 has been observed in two unrelated ALMA projects, both in band 6 at at 230 GHz\n",
    "\n",
    "1. **2016.1.00650.S** - one 7m and two 12m observations of just NGC3504, to study flow in a bar\n",
    "2. **2017.1.00964.S** - a collection of 7 galaxies with the purpose of measure gas flow near the central black hole. For NGC3504 two datasets were collected.\n",
    "\n",
    "Here we are focusing on the commonalities and differences between these two observations.\n",
    "\n"
   ]
  },
  {
   "cell_type": "code",
   "execution_count": 1,
   "metadata": {},
   "outputs": [],
   "source": [
    "%matplotlib inline\n",
    "import matplotlib.pyplot as plt "
   ]
  },
  {
   "cell_type": "markdown",
   "metadata": {},
   "source": [
    "###  astroquery.alma\n",
    "\n",
    "First we should query the science archive, we can do https://almascience.nrao.edu/aq/ as well, but we want also show this via the notebook. \n"
   ]
  },
  {
   "cell_type": "code",
   "execution_count": 2,
   "metadata": {},
   "outputs": [],
   "source": [
    "from astroquery.alma import Alma\n",
    "import pandas as pd\n",
    "\n",
    "# more to come here.  here we just want to show how much you can do with the current query, before science\n",
    "# showcase alminer ?\n",
    "alma = Alma()"
   ]
  },
  {
   "cell_type": "code",
   "execution_count": 3,
   "metadata": {},
   "outputs": [],
   "source": [
    "n = Alma.query_object('NGC3504')"
   ]
  },
  {
   "cell_type": "code",
   "execution_count": 4,
   "metadata": {},
   "outputs": [
    {
     "name": "stdout",
     "output_type": "stream",
     "text": [
      "[b'2017.1.00964.S' b'2016.1.00650.S']\n",
      "[b'uid://A001/X1288/Xba6' b'uid://A001/X1288/Xba8' b'uid://A001/X87a/X70a'\n",
      " b'uid://A001/X87a/X708' b'uid://A001/X87a/X706']\n"
     ]
    }
   ],
   "source": [
    "print(pd.unique(n['proposal_id']))\n",
    "print(pd.unique(n['obs_id']))"
   ]
  },
  {
   "cell_type": "markdown",
   "metadata": {},
   "source": [
    "Thus we have indeed two projects,and five observations"
   ]
  },
  {
   "cell_type": "code",
   "execution_count": 5,
   "metadata": {},
   "outputs": [
    {
     "name": "stdout",
     "output_type": "stream",
     "text": [
      "        obs_id               s_fov             s_resolution    \n",
      "                              deg                  deg         \n",
      "--------------------- -------------------- --------------------\n",
      "uid://A001/X1288/Xba6 0.006863718695429476 0.034121085407438106\n",
      "uid://A001/X1288/Xba6 0.006863718695429476 0.034121085407438106\n",
      "uid://A001/X1288/Xba6 0.006863718695429476 0.034121085407438106\n",
      "uid://A001/X1288/Xba6 0.006863718695429476 0.034121085407438106\n",
      "uid://A001/X1288/Xba8  0.00686371854646795  0.20065563262611036\n",
      "uid://A001/X1288/Xba8  0.00686371854646795  0.20065563262611036\n",
      "uid://A001/X1288/Xba8  0.00686371854646795  0.20065563262611036\n",
      "uid://A001/X1288/Xba8  0.00686371854646795  0.20065563262611036\n",
      " uid://A001/X87a/X70a 0.017853666133604822    5.503583966319726\n",
      " uid://A001/X87a/X70a 0.017853666133604822    5.503583966319726\n",
      " uid://A001/X87a/X70a 0.017853666133604822    5.503583966319726\n",
      " uid://A001/X87a/X70a 0.017853666133604822    5.503583966319726\n",
      " uid://A001/X87a/X708  0.01305128673735267   1.7825652390462614\n",
      " uid://A001/X87a/X708  0.01305128673735267   1.7825652390462614\n",
      " uid://A001/X87a/X708  0.01305128673735267   1.7825652390462614\n",
      " uid://A001/X87a/X708  0.01305128673735267   1.7825652390462614\n",
      " uid://A001/X87a/X706 0.013051297132328152    0.565397979165851\n",
      " uid://A001/X87a/X706 0.013051297132328152    0.565397979165851\n",
      " uid://A001/X87a/X706 0.013051297132328152    0.565397979165851\n",
      " uid://A001/X87a/X706 0.013051297132328152    0.565397979165851\n"
     ]
    }
   ],
   "source": [
    "ci=['obs_id','s_fov','s_resolution']\n",
    "n['nres'] = 3600*n['s_fov']/n['s_resolution']\n",
    "print(n[ci])"
   ]
  },
  {
   "cell_type": "markdown",
   "metadata": {},
   "source": [
    "Notice there appears to be a units issue with s_resolution: they appear to be in arcsec. There is also a 'spatial_resolution', but it has the same issue.\n",
    "\n"
   ]
  },
  {
   "cell_type": "markdown",
   "metadata": {},
   "source": [
    "### astroquery.admit"
   ]
  },
  {
   "cell_type": "code",
   "execution_count": 6,
   "metadata": {},
   "outputs": [
    {
     "name": "stdout",
     "output_type": "stream",
     "text": [
      "Found  ../admit.db\n",
      "Checking db.... 0\n",
      "70 70 70\n",
      "header    : 103 entries\n",
      "alma      : 103 entries\n",
      "win       : 103 entries\n",
      "lines     : 26 entries\n",
      "sources   : 268 entries\n"
     ]
    }
   ],
   "source": [
    "from astroquery.admit import ADMIT\n",
    "import pandas as pd\n",
    "\n",
    "pd.set_option('display.max_rows', None)\n",
    "pd.set_option('display.max_columns', None)\n",
    "pd.set_option('display.width', None)\n",
    "pd.set_option('display.max_colwidth',25)\n",
    "\n",
    "\n",
    "a = ADMIT('../admit.db')\n",
    "a.check()"
   ]
  },
  {
   "cell_type": "markdown",
   "metadata": {},
   "source": [
    "# Continuum\n",
    "\n",
    "First we want to see if any continuum is detected, so we select all windows with one channel.\n",
    "\n"
   ]
  },
  {
   "cell_type": "code",
   "execution_count": 7,
   "metadata": {},
   "outputs": [
    {
     "name": "stdout",
     "output_type": "stream",
     "text": [
      "kwargs  {'source_name_alma': 'NGC3504', 'nchan': 1, 'flux': '>0'}\n",
      "select * from alma inner join win on (win.a_id = alma.id)  inner join sources on (sources.w_id = win.id)   WHERE alma.target_name='NGC3504' AND win.nchan=1 AND sources.flux>=0.0 AND sources.l_id = 0 \n",
      "(21, 38)\n"
     ]
    }
   ],
   "source": [
    "source = 'NGC3504'\n",
    "p = a.query(source_name_alma=source,nchan=1,flux='>0')\n",
    "print(p.shape)"
   ]
  },
  {
   "cell_type": "code",
   "execution_count": 8,
   "metadata": {},
   "outputs": [
    {
     "data": {
      "text/html": [
       "<i>Table length=70</i>\n",
       "<table id=\"table140316018110864-141719\" class=\"table-striped table-bordered table-condensed\">\n",
       "<thead><tr><th>idx</th><th>Keyword</th><th>Description</th><th>Database Table</th></tr></thead>\n",
       "<tr><td>0</td><td>alma_id</td><td>ALMA ID</td><td>Window</td></tr>\n",
       "<tr><td>1</td><td>win_id</td><td>Spectral window ID</td><td>Window</td></tr>\n",
       "<tr><td>2</td><td>spw</td><td>Spectral window name</td><td>Window</td></tr>\n",
       "<tr><td>3</td><td>nlines</td><td>Number of lines</td><td>Window</td></tr>\n",
       "<tr><td>4</td><td>nsources</td><td>Number of sources</td><td>Window</td></tr>\n",
       "<tr><td>5</td><td>nchan</td><td>Number of channels</td><td>Window</td></tr>\n",
       "<tr><td>6</td><td>win_peak</td><td>Window peak flux</td><td>Window</td></tr>\n",
       "<tr><td>7</td><td>win_rms</td><td>Window RMS noise</td><td>Window</td></tr>\n",
       "<tr><td>8</td><td>win_snr</td><td>Window Signal to noise ratio (peak/rms)</td><td>Window</td></tr>\n",
       "<tr><td>9</td><td>bmaj</td><td>Beam major axis</td><td>Window</td></tr>\n",
       "<tr><td>10</td><td>bmin</td><td>Beam minor axis</td><td>Window</td></tr>\n",
       "<tr><td>11</td><td>bpa</td><td>Beam PA</td><td>Window</td></tr>\n",
       "<tr><td>12</td><td>freqc</td><td>Frequency center (GHz)</td><td>Window</td></tr>\n",
       "<tr><td>13</td><td>freqw</td><td>Frequency width (GHz)</td><td>Window</td></tr>\n",
       "<tr><td>14</td><td>vlsr</td><td>LSR Velocity (km/s)</td><td>Window</td></tr>\n",
       "<tr><td>15</td><td>fcoverage</td><td>Frequency coverage?</td><td>Window</td></tr>\n",
       "<tr><td>16</td><td>l_win_id</td><td>Spectral window ID(L)</td><td>Lines</td></tr>\n",
       "<tr><td>17</td><td>restfreq</td><td>Rest frequency</td><td>Lines</td></tr>\n",
       "<tr><td>18</td><td>formula</td><td>Formula</td><td>Lines</td></tr>\n",
       "<tr><td>19</td><td>transition</td><td>Transition</td><td>Lines</td></tr>\n",
       "<tr><td>20</td><td>velocity</td><td>Velocity</td><td>Lines</td></tr>\n",
       "<tr><td>21</td><td>vmin</td><td>Minimum velocity</td><td>Lines</td></tr>\n",
       "<tr><td>22</td><td>vmax</td><td>Maximum velocity</td><td>Lines</td></tr>\n",
       "<tr><td>23</td><td>mom0flux</td><td>Moment zero flux</td><td>Lines</td></tr>\n",
       "<tr><td>24</td><td>mom1peak</td><td>Moment one peak</td><td>Lines</td></tr>\n",
       "<tr><td>25</td><td>mom2peak</td><td>Moment two peak (km/s)</td><td>Lines</td></tr>\n",
       "<tr><td>26</td><td>s_win_id</td><td>Spectral Window ID(S)</td><td>Sources</td></tr>\n",
       "<tr><td>27</td><td>lines_id</td><td>Line ID</td><td>Sources</td></tr>\n",
       "<tr><td>28</td><td>ra</td><td>RA (Degrees)</td><td>Sources</td></tr>\n",
       "<tr><td>29</td><td>dec</td><td>Dec (Degrees)</td><td>Sources</td></tr>\n",
       "<tr><td>30</td><td>flux</td><td>Flux</td><td>Sources</td></tr>\n",
       "<tr><td>31</td><td>source_snr</td><td>Source Signal to noise ratio</td><td>Sources</td></tr>\n",
       "<tr><td>32</td><td>source_peak</td><td>Source Peak flux</td><td>Sources</td></tr>\n",
       "<tr><td>33</td><td>smaj</td><td>Source major axis</td><td>Sources</td></tr>\n",
       "<tr><td>34</td><td>smin</td><td>Source minor axis</td><td>Sources</td></tr>\n",
       "<tr><td>35</td><td>spa</td><td>Source PA</td><td>Sources</td></tr>\n",
       "<tr><td>36</td><td>header_key</td><td>Key</td><td>Header</td></tr>\n",
       "<tr><td>37</td><td>header_val</td><td>Value</td><td>Header</td></tr>\n",
       "<tr><td>38</td><td>obs_id</td><td>Observation</td><td>Alma</td></tr>\n",
       "<tr><td>39</td><td>source_name_resolver</td><td>Source name (astropy Resolver)</td><td>Alma</td></tr>\n",
       "<tr><td>40</td><td>source_name_alma</td><td>Source name (ALMA)</td><td>Alma</td></tr>\n",
       "<tr><td>41</td><td>ra_dec</td><td>RA Dec (Sexagesimal)</td><td>Alma</td></tr>\n",
       "<tr><td>42</td><td>galactic</td><td>Galactic (Degrees)</td><td>Alma</td></tr>\n",
       "<tr><td>43</td><td>spatial_resolution</td><td>Angular resolution (arcsec)</td><td>Alma</td></tr>\n",
       "<tr><td>44</td><td>spatial_scale_max</td><td>Largest angular scale (arcsec)</td><td>Alma</td></tr>\n",
       "<tr><td>45</td><td>fov</td><td>Field of view (arcsec)</td><td>Alma</td></tr>\n",
       "<tr><td>46</td><td>frequency</td><td>Frequency (GHz)</td><td>Alma</td></tr>\n",
       "<tr><td>47</td><td>bandwidth</td><td>Bandwidth (Hz)</td><td>Alma</td></tr>\n",
       "<tr><td>48</td><td>spectral_resolution</td><td>Spectral resolution (KHz)</td><td>Alma</td></tr>\n",
       "<tr><td>49</td><td>band_list</td><td>Band</td><td>Alma</td></tr>\n",
       "<tr><td>50</td><td>start_date</td><td>Observation date</td><td>Alma</td></tr>\n",
       "<tr><td>51</td><td>integration_time</td><td>Integration time (s)</td><td>Alma</td></tr>\n",
       "<tr><td>52</td><td>polarisation_type</td><td>Polarisation type (Single, Dual, Full)</td><td>Alma</td></tr>\n",
       "<tr><td>53</td><td>line_sensitivity</td><td>Line sensitivity (10 km/s) (mJy/beam)</td><td>Alma</td></tr>\n",
       "<tr><td>54</td><td>continuum_sensitivity</td><td>Continuum sensitivity (mJy/beam)</td><td>Alma</td></tr>\n",
       "<tr><td>55</td><td>water_vapour</td><td>Water vapour (mm)</td><td>Alma</td></tr>\n",
       "<tr><td>56</td><td>project_code</td><td>Project code</td><td>Alma</td></tr>\n",
       "<tr><td>57</td><td>project_title</td><td>Project title</td><td>Alma</td></tr>\n",
       "<tr><td>58</td><td>pi_name</td><td>PI name</td><td>Alma</td></tr>\n",
       "<tr><td>59</td><td>proposal_authors</td><td>Proposal authors</td><td>Alma</td></tr>\n",
       "<tr><td>60</td><td>project_abstract</td><td>Project abstract</td><td>Alma</td></tr>\n",
       "<tr><td>61</td><td>publication_count</td><td>Publication count</td><td>Alma</td></tr>\n",
       "<tr><td>62</td><td>science_keyword</td><td>Science keyword</td><td>Alma</td></tr>\n",
       "<tr><td>63</td><td>scientific_category</td><td>Scientific category</td><td>Alma</td></tr>\n",
       "<tr><td>64</td><td>bibcode</td><td>Bibcode</td><td>Alma</td></tr>\n",
       "<tr><td>65</td><td>pub_title</td><td>Title</td><td>Alma</td></tr>\n",
       "<tr><td>66</td><td>first_author</td><td>First author</td><td>Alma</td></tr>\n",
       "<tr><td>67</td><td>authors</td><td>Authors</td><td>Alma</td></tr>\n",
       "<tr><td>68</td><td>pub_abstract</td><td>Abstract</td><td>Alma</td></tr>\n",
       "<tr><td>69</td><td>publication_year</td><td>Year</td><td>Alma</td></tr>\n",
       "</table><style>table.dataTable {clear: both; width: auto !important; margin: 0 !important;}\n",
       ".dataTables_info, .dataTables_length, .dataTables_filter, .dataTables_paginate{\n",
       "display: inline-block; margin-right: 1em; }\n",
       ".paginate_button { margin-right: 5px; }\n",
       "</style>\n",
       "<script>\n",
       "\n",
       "var astropy_sort_num = function(a, b) {\n",
       "    var a_num = parseFloat(a);\n",
       "    var b_num = parseFloat(b);\n",
       "\n",
       "    if (isNaN(a_num) && isNaN(b_num))\n",
       "        return ((a < b) ? -1 : ((a > b) ? 1 : 0));\n",
       "    else if (!isNaN(a_num) && !isNaN(b_num))\n",
       "        return ((a_num < b_num) ? -1 : ((a_num > b_num) ? 1 : 0));\n",
       "    else\n",
       "        return isNaN(a_num) ? -1 : 1;\n",
       "}\n",
       "\n",
       "require.config({paths: {\n",
       "    datatables: 'https://cdn.datatables.net/1.10.12/js/jquery.dataTables.min'\n",
       "}});\n",
       "require([\"datatables\"], function(){\n",
       "    console.log(\"$('#table140316018110864-141719').dataTable()\");\n",
       "    \n",
       "jQuery.extend( jQuery.fn.dataTableExt.oSort, {\n",
       "    \"optionalnum-asc\": astropy_sort_num,\n",
       "    \"optionalnum-desc\": function (a,b) { return -astropy_sort_num(a, b); }\n",
       "});\n",
       "\n",
       "    $('#table140316018110864-141719').dataTable({\n",
       "        order: [],\n",
       "        pageLength: 20,\n",
       "        lengthMenu: [[20, 10, 25, 50, 100, 500, 1000, -1], [20, 10, 25, 50, 100, 500, 1000, 'All']],\n",
       "        pagingType: \"full_numbers\",\n",
       "        columnDefs: [{targets: [0], type: \"optionalnum\"}]\n",
       "    });\n",
       "});\n",
       "</script>\n"
      ],
      "text/plain": [
       "<IPython.core.display.HTML object>"
      ]
     },
     "execution_count": 8,
     "metadata": {},
     "output_type": "execute_result"
    }
   ],
   "source": [
    "a.key_description.show_in_notebook(display_length=20)"
   ]
  },
  {
   "cell_type": "markdown",
   "metadata": {},
   "source": [
    "We collect a few observables: observing time, as well as peak and flux and the resolution\n",
    "\n",
    "Note we need to clean up the units"
   ]
  },
  {
   "cell_type": "code",
   "execution_count": 9,
   "metadata": {},
   "outputs": [
    {
     "name": "stdout",
     "output_type": "stream",
     "text": [
      "                   obs_id    spw  nsources         t_min     flux    peak_s  \\\n",
      "0   uid://A001/X1288/Xba6  spw21         1  58050.543677  0.00086  0.000151   \n",
      "1   uid://A001/X1288/Xba8  spw19         1  58119.297186  0.00111  0.000512   \n",
      "2   uid://A001/X1288/Xba8  spw21         1  58119.297186  0.00124  0.000580   \n",
      "3   uid://A001/X1288/Xba8  spw23         1  58119.297186  0.00179  0.000594   \n",
      "4   uid://A001/X1288/Xba8  spw25         1  58119.297186  0.00145  0.000706   \n",
      "5    uid://A001/X87a/X706    ???         1  57713.452563  0.00173  0.001090   \n",
      "6    uid://A001/X87a/X706    ???         1  57713.452563  0.00151  0.000968   \n",
      "7    uid://A001/X87a/X706    ???         1  57713.452563  0.00156  0.001020   \n",
      "8    uid://A001/X87a/X706    ???         1  57713.452563  0.00173  0.001260   \n",
      "9    uid://A001/X87a/X708    ???         3  57830.136178  0.00770  0.002080   \n",
      "10   uid://A001/X87a/X708    ???         3  57830.136178  0.01380  0.002040   \n",
      "11   uid://A001/X87a/X708    ???         3  57830.136178  0.02420  0.001940   \n",
      "12   uid://A001/X87a/X708    ???         2  57830.136178  0.01060  0.002120   \n",
      "13   uid://A001/X87a/X708    ???         2  57830.136178  0.00977  0.001710   \n",
      "14   uid://A001/X87a/X708    ???         2  57830.136178  0.00823  0.002290   \n",
      "15   uid://A001/X87a/X708    ???         2  57830.136178  0.01420  0.002310   \n",
      "16   uid://A001/X87a/X708    ???         1  57830.136178  0.00884  0.002280   \n",
      "17   uid://A001/X87a/X70a  spw16         1  57704.450990  0.01520  0.009540   \n",
      "18   uid://A001/X87a/X70a  spw18         1  57704.450990  0.01500  0.009410   \n",
      "19   uid://A001/X87a/X70a  spw20         1  57704.450990  0.01840  0.010600   \n",
      "20   uid://A001/X87a/X70a  spw22         1  57704.450990  0.01690  0.009970   \n",
      "\n",
      "          fop  bmaj_arcsec   smaj  \n",
      "0    5.695364     0.049721  0.116  \n",
      "1    2.167969     0.218953  0.288  \n",
      "2    2.137931     0.208199  0.282  \n",
      "3    3.013468     0.206176  0.355  \n",
      "4    2.053824     0.219428  0.290  \n",
      "5    1.587156     0.617609  0.741  \n",
      "6    1.559917     0.660397  0.739  \n",
      "7    1.529412     0.655523  0.741  \n",
      "8    1.373016     0.623399  0.642  \n",
      "9    3.701923     1.810933  4.009  \n",
      "10   6.764706     1.810933  6.460  \n",
      "11  12.474227     1.810933  7.577  \n",
      "12   5.000000     1.919427  6.431  \n",
      "13   5.713450     1.919427  4.530  \n",
      "14   3.593886     2.262012  4.520  \n",
      "15   6.147186     2.262012  7.512  \n",
      "16   3.877193     1.812930  4.144  \n",
      "17   1.593291     6.312150  7.930  \n",
      "18   1.594049     6.296568  7.954  \n",
      "19   1.735849     5.772073  7.690  \n",
      "20   1.695085     5.714493  7.550  \n"
     ]
    }
   ],
   "source": [
    "ci=['obs_id','spw','nsources','t_min', 'flux', 'peak_s','fop','bmaj_arcsec','smaj']\n",
    "p['fop'] = p['flux']/p['peak_s']\n",
    "p['bmaj_arcsec'] = p['bmaj'] * 3600\n",
    "print(p[ci])"
   ]
  },
  {
   "cell_type": "markdown",
   "metadata": {},
   "source": [
    "It's a little surprising that flux/peak is 1.5  for the lowest and highest resolution array data, but there clearly is something very odd about the middle resolution (X708) data.\n",
    "\n",
    "NOTE:  the ??? spw is some bug where something failed.   to be fixed"
   ]
  },
  {
   "cell_type": "code",
   "execution_count": 10,
   "metadata": {},
   "outputs": [
    {
     "data": {
      "image/png": "[encoded data removed]",
      "text/plain": [
       "<Figure size 432x288 with 1 Axes>"
      ]
     },
     "metadata": {
      "needs_background": "light"
     },
     "output_type": "display_data"
    }
   ],
   "source": [
    "plt.scatter(p['t_min'],p['flux']);\n",
    "plt.title(source)\n",
    "plt.xlabel('MJD')\n",
    "plt.ylabel('Flux (Jy)');"
   ]
  },
  {
   "cell_type": "markdown",
   "metadata": {},
   "source": [
    "well, the fluxes are somewhat all over the place..... averaging around 15 mJy.\n",
    "\n",
    "The other dataset of NGC3504 at mjd > 58000 seems to have lost a lot of flux."
   ]
  },
  {
   "cell_type": "markdown",
   "metadata": {},
   "source": [
    "# Spectral Lines"
   ]
  },
  {
   "cell_type": "code",
   "execution_count": 11,
   "metadata": {},
   "outputs": [
    {
     "name": "stdout",
     "output_type": "stream",
     "text": [
      "kwargs  {'source_name_alma': 'NGC3504', 'nchan': '>1', 'mom0flux': '>0'}\n",
      "select * from alma inner join win on (win.a_id = alma.id)  inner join lines on (lines.w_id = win.id )  WHERE alma.target_name='NGC3504' AND win.nchan>=1.0 AND lines.mom0flux>=0.0\n"
     ]
    }
   ],
   "source": [
    "p = a.query(source_name_alma=source,nchan='>1',mom0flux='>0')"
   ]
  },
  {
   "cell_type": "code",
   "execution_count": 12,
   "metadata": {},
   "outputs": [
    {
     "name": "stdout",
     "output_type": "stream",
     "text": [
      "(8, 37)\n",
      "Index(['id', 'obs_id', 'target_name', 's_ra', 's_dec', 'frequency', 't_min',\n",
      "       'project_abstract', 'obs_title', 'science_keyword',\n",
      "       'scientific_category', 'proposal_authors', 'id', 'a_id', 'spw', 'freqc',\n",
      "       'freqw', 'vlsr', 'nlines', 'nsources', 'nchan', 'peak_w', 'rms_w',\n",
      "       'bmaj', 'bmin', 'bpa', 'fcoverage', 'id', 'w_id', 'formula',\n",
      "       'transition', 'restfreq', 'vmin', 'vmax', 'mom0flux', 'mom1peak',\n",
      "       'mom2peak'],\n",
      "      dtype='object')\n"
     ]
    }
   ],
   "source": [
    "print(p.shape)\n",
    "print(p.columns)\n",
    "\n"
   ]
  },
  {
   "cell_type": "code",
   "execution_count": 13,
   "metadata": {},
   "outputs": [
    {
     "name": "stdout",
     "output_type": "stream",
     "text": [
      "                  obs_id    spw   frequency formula    mom0flux  mom1peak  \\\n",
      "0  uid://A001/X1288/Xba6  spw23  243.760018      CS   3429.8800   1831.72   \n",
      "1  uid://A001/X1288/Xba8  spw23  243.760022      CS   1090.5600   1549.75   \n",
      "2   uid://A001/X87a/X706    ???  229.366802      CO  24782.4000   1548.35   \n",
      "3   uid://A001/X87a/X706    ???  243.689957      CS    140.5190   1483.46   \n",
      "4   uid://A001/X87a/X708    ???  229.366820      CO  32461.2000   1539.72   \n",
      "5   uid://A001/X87a/X708    ???  243.690784      CS    107.7540   1538.80   \n",
      "6   uid://A001/X87a/X70a  spw16  229.366824      CO  26393.2000   1537.47   \n",
      "7   uid://A001/X87a/X70a  spw20  243.689992      CS     91.1055   1544.31   \n",
      "\n",
      "   mom2peak  \n",
      "0   33.6674  \n",
      "1   80.4934  \n",
      "2   60.9915  \n",
      "3   15.8738  \n",
      "4   59.0989  \n",
      "5   31.0504  \n",
      "6   40.2249  \n",
      "7   24.9688  \n"
     ]
    }
   ],
   "source": [
    "ci=['obs_id','spw','frequency','formula','mom0flux','mom1peak','mom2peak']\n",
    "print(p[ci])"
   ]
  },
  {
   "cell_type": "markdown",
   "metadata": {},
   "source": [
    "Clearly the CO line in missing in they survey (Xba6,8), whereas the CS line is there....\n",
    "\n",
    "to be continued"
   ]
  },
  {
   "cell_type": "code",
   "execution_count": null,
   "metadata": {},
   "outputs": [],
   "source": []
  }
 ],
 "metadata": {
  "kernelspec": {
   "display_name": "Python 3",
   "language": "python",
   "name": "python3"
  },
  "language_info": {
   "codemirror_mode": {
    "name": "ipython",
    "version": 3
   },
   "file_extension": ".py",
   "mimetype": "text/x-python",
   "name": "python",
   "nbconvert_exporter": "python",
   "pygments_lexer": "ipython3",
   "version": "3.8.3"
  }
 },
 "nbformat": 4,
 "nbformat_minor": 4
}
