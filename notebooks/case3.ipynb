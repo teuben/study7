{
 "cells": [
  {
   "cell_type": "markdown",
   "metadata": {},
   "source": [
    "# Science Case #3: \n",
    "\n",
    "Find all ALMA continuum detections of a selected source to construct a\n",
    "light curve or a spectral energy distribution.\n"
   ]
  },
  {
   "cell_type": "markdown",
   "metadata": {},
   "source": [
    "The keyword search here would be on an RA/Dec, source name, and continuum data. Optionally\n",
    "the user could restrict the search to an ALMA band or frequency range. The returned information\n",
    "would be a table of qualifying observations. The user would sub-select the desired data and pull\n",
    "the desired science information into a table which can be manipulated in Python. The images of\n",
    "the continuum for each dataset can be view to verify data quality. We also include calibrator data,\n",
    "which are particularly interesting to monitor flux as function of time and frequency.\n"
   ]
  },
  {
   "cell_type": "code",
   "execution_count": null,
   "metadata": {},
   "outputs": [],
   "source": []
  }
 ],
 "metadata": {
  "kernelspec": {
   "display_name": "Python 3 (ipykernel)",
   "language": "python",
   "name": "python3"
  },
  "language_info": {
   "codemirror_mode": {
    "name": "ipython",
    "version": 3
   },
   "file_extension": ".py",
   "mimetype": "text/x-python",
   "name": "python",
   "nbconvert_exporter": "python",
   "pygments_lexer": "ipython3",
   "version": "3.9.7"
  }
 },
 "nbformat": 4,
 "nbformat_minor": 4
}
