{
 "cells": [
  {
   "cell_type": "markdown",
   "metadata": {},
   "source": [
    "# Science Case 4a\n",
    "\n",
    "The phase and bandpass calibrators are included in the product tree of the pipeline results, but they cannot be found in the online query. We developed a shortcut of putting calibrators in another database, which could be queried much like the science queries, except there is only continuum available.\n",
    "\n",
    "Stacking of calibrator maps has already resulted of interested results (Zwaan, priv.comm.)\n",
    "\n",
    "The use of this notebook is not scientific, as we have no control over how the flux scale was determined (usually via a planet or a moon of a planet). With that caveat we are going to plot the flux as function of time for the calibrators we have available.\n",
    "\n",
    "(reminder) In another notebook, we should check the flux of the continuum source in NGC3504, as we have several measurements in different projects."
   ]
  },
  {
   "cell_type": "code",
   "execution_count": 1,
   "metadata": {},
   "outputs": [],
   "source": [
    "%matplotlib inline\n",
    "import matplotlib.pyplot as plt "
   ]
  },
  {
   "cell_type": "code",
   "execution_count": 2,
   "metadata": {},
   "outputs": [
    {
     "name": "stdout",
     "output_type": "stream",
     "text": [
      "Found  ../admit_cal.db\n",
      "Checking db.... 0\n",
      "header    : 99 entries\n",
      "alma      : 99 entries\n",
      "win       : 99 entries\n",
      "lines     : 0 entries\n",
      "sources   : 99 entries\n"
     ]
    }
   ],
   "source": [
    "from astroquery.admit import ADMIT\n",
    "import pandas as pd\n",
    "a = ADMIT('../admit_cal.db')\n",
    "a.check()"
   ]
  },
  {
   "cell_type": "markdown",
   "metadata": {},
   "source": [
    "First we need to find the unique names of the sources. This is probably easiest done with a special **SELECT DISTINCT** query in sql.    We find 15 sources."
   ]
  },
  {
   "cell_type": "code",
   "execution_count": 3,
   "metadata": {},
   "outputs": [
    {
     "name": "stdout",
     "output_type": "stream",
     "text": [
      "             0\n",
      "0   J1002+1216\n",
      "1   J1118+1234\n",
      "2   J1215+1654\n",
      "3   J1221+2813\n",
      "4   J1336-3357\n",
      "5   J1130+0846\n",
      "6   J1103+3014\n",
      "7   J1150+2417\n",
      "8   J1159+2914\n",
      "9   J1058+0133\n",
      "10  J0854+2006\n",
      "11  J1037-2934\n",
      "12  J1337-1257\n",
      "13  J1229+0203\n",
      "14  J1427-4206\n"
     ]
    }
   ],
   "source": [
    "p=pd.DataFrame(a.sql('select distinct alma.target_name from alma'))\n",
    "print(p)"
   ]
  },
  {
   "cell_type": "markdown",
   "metadata": {},
   "source": [
    "Let's just pick a random one, and review the fluxes, and plot fluxes as function of time (ALMA keeps the MJD in the database. There are functions to change these back to a human readable time, but we leave this is as an exercize for the reader!"
   ]
  },
  {
   "cell_type": "code",
   "execution_count": 4,
   "metadata": {},
   "outputs": [
    {
     "name": "stdout",
     "output_type": "stream",
     "text": [
      "kwargs  {'source_name_alma': 'J1058+0133'}\n",
      "select * from alma inner join win on (win.a_id = alma.id) inner join sources on (sources.w_id = win.id)   WHERE alma.target_name='J1058+0133' AND sources.l_id = 0 \n"
     ]
    }
   ],
   "source": [
    "source = \"J1058+0133\"\n",
    "t1 = a.query(source_name_alma=source)"
   ]
  },
  {
   "cell_type": "code",
   "execution_count": 5,
   "metadata": {},
   "outputs": [
    {
     "name": "stdout",
     "output_type": "stream",
     "text": [
      "           t_min  flux  peak_s\n",
      "0   58067.381452  2.80    2.26\n",
      "1   58067.381452  2.72    2.15\n",
      "2   58067.381452  2.70    2.13\n",
      "3   58067.381452  2.78    2.24\n",
      "4   58055.534294  2.89    2.47\n",
      "5   58055.534294  2.80    2.36\n",
      "6   58055.534294  2.79    2.34\n",
      "7   58055.534294  2.88    2.46\n",
      "8   58083.495681  2.88    2.50\n",
      "9   58083.495681  2.79    2.40\n",
      "10  58083.495681  2.78    2.40\n",
      "11  58083.495681  2.87    2.49\n",
      "12  57713.447599  3.70    3.42\n",
      "13  57713.447599  3.82    3.56\n",
      "14  57713.447599  3.81    3.55\n",
      "15  57713.447599  3.72    3.16\n",
      "16  57830.124871  3.42    3.42\n",
      "17  57830.124871  3.53    3.52\n",
      "18  57830.124871  3.52    3.52\n",
      "19  57830.124871  3.43    3.18\n",
      "20  57709.478662  3.68    3.36\n",
      "21  57709.478662  3.68    3.36\n",
      "22  57709.478662  3.57    3.22\n",
      "23  57709.478662  3.56    3.40\n"
     ]
    }
   ],
   "source": [
    "ci=['t_min', 'flux', 'peak_s']\n",
    "print(t1[ci])"
   ]
  },
  {
   "cell_type": "code",
   "execution_count": 6,
   "metadata": {},
   "outputs": [
    {
     "data": {
      "text/plain": [
       "Text(0, 0.5, 'Flux (Jy)')"
      ]
     },
     "execution_count": 6,
     "metadata": {},
     "output_type": "execute_result"
    },
    {
     "data": {
      "image/png": "[encoded data removed]",
      "text/plain": [
       "<Figure size 432x288 with 1 Axes>"
      ]
     },
     "metadata": {
      "needs_background": "light"
     },
     "output_type": "display_data"
    }
   ],
   "source": [
    "plt.scatter(t1['t_min'],t1['flux']);\n",
    "plt.title(source)\n",
    "plt.xlabel('MJD')\n",
    "plt.ylabel('Flux (Jy)')"
   ]
  },
  {
   "cell_type": "markdown",
   "metadata": {},
   "source": [
    "Clearly over the course of 400 days the flux has decreased by some 20%. \n",
    "\n",
    "Since we have both peak and flux, we could check how well it is a point source. There are other ways to do this too, plus we don't know how well CASA's **findsources** worked, but it could give us a hint the code needs to be improved."
   ]
  },
  {
   "cell_type": "code",
   "execution_count": 7,
   "metadata": {},
   "outputs": [],
   "source": [
    "fop = t1['flux']/t1['peak_s']"
   ]
  },
  {
   "cell_type": "code",
   "execution_count": 8,
   "metadata": {},
   "outputs": [
    {
     "data": {
      "image/png": "[encoded data removed]",
      "text/plain": [
       "<Figure size 432x288 with 1 Axes>"
      ]
     },
     "metadata": {
      "needs_background": "light"
     },
     "output_type": "display_data"
    }
   ],
   "source": [
    "plt.hist(fop)\n",
    "plt.xlabel('Flux/Peak')\n",
    "plt.title(source);"
   ]
  },
  {
   "cell_type": "code",
   "execution_count": null,
   "metadata": {},
   "outputs": [],
   "source": []
  }
 ],
 "metadata": {
  "kernelspec": {
   "display_name": "Python 3",
   "language": "python",
   "name": "python3"
  },
  "language_info": {
   "codemirror_mode": {
    "name": "ipython",
    "version": 3
   },
   "file_extension": ".py",
   "mimetype": "text/x-python",
   "name": "python",
   "nbconvert_exporter": "python",
   "pygments_lexer": "ipython3",
   "version": "3.8.3"
  }
 },
 "nbformat": 4,
 "nbformat_minor": 4
}
