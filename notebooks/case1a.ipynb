{
 "cells": [
  {
   "cell_type": "markdown",
   "metadata": {},
   "source": [
    "# Science Case #1a: Black Holes and CO gas\n",
    "\n",
    "Expanded example from the report, also shows how to add a new column with the linear scale in parsecs, and compare the VLSR and our rdz lookup table.\n"
   ]
  },
  {
   "cell_type": "code",
   "execution_count": 1,
   "metadata": {},
   "outputs": [],
   "source": [
    "from astroquery.admit import ADMIT\n",
    "import pandas as pd"
   ]
  },
  {
   "cell_type": "code",
   "execution_count": 2,
   "metadata": {},
   "outputs": [
    {
     "name": "stdout",
     "output_type": "stream",
     "text": [
      "Found  /home/teuben/ALMA/study7/query/admit.db\n",
      "Checking db.... 0\n",
      "71 71 71\n",
      "Database version: 27-feb-2022. core.py version: 26-feb-2022\n",
      "header    : 1 entries\n",
      "alma      : 131 entries\n",
      "win       : 130 entries\n",
      "lines     : 33 entries\n",
      "sources   : 801 entries\n"
     ]
    }
   ],
   "source": [
    "a = ADMIT()\n",
    "a.check()"
   ]
  },
  {
   "cell_type": "markdown",
   "metadata": {},
   "source": [
    "### Find projects about black holes where CO was observed.\n",
    "\n",
    "Note: we avoid B and H for because the underlying SQL search is case sensitive"
   ]
  },
  {
   "cell_type": "code",
   "execution_count": 3,
   "metadata": {},
   "outputs": [
    {
     "name": "stdout",
     "output_type": "stream",
     "text": [
      "select * from alma inner join win on (win.a_id = alma.id)  inner join lines on (lines.w_id = win.id )  WHERE lines.formula='CO' AND alma.project_abstract LIKE '%lack%ole%' \n",
      "\n"
     ]
    }
   ],
   "source": [
    "p = a.query(formula=\"CO\",project_abstract=\"*lack*ole*\")"
   ]
  },
  {
   "cell_type": "code",
   "execution_count": 4,
   "metadata": {},
   "outputs": [
    {
     "data": {
      "text/html": [
       "<div>\n",
       "<style scoped>\n",
       "    .dataframe tbody tr th:only-of-type {\n",
       "        vertical-align: middle;\n",
       "    }\n",
       "\n",
       "    .dataframe tbody tr th {\n",
       "        vertical-align: top;\n",
       "    }\n",
       "\n",
       "    .dataframe thead th {\n",
       "        text-align: right;\n",
       "    }\n",
       "</style>\n",
       "<table border=\"1\" class=\"dataframe\">\n",
       "  <thead>\n",
       "    <tr style=\"text-align: right;\">\n",
       "      <th></th>\n",
       "      <th>id</th>\n",
       "      <th>obs_id</th>\n",
       "      <th>target_name</th>\n",
       "      <th>s_ra</th>\n",
       "      <th>s_dec</th>\n",
       "      <th>frequency</th>\n",
       "      <th>s_resolution</th>\n",
       "      <th>t_min</th>\n",
       "      <th>cont_sensitivity_bandwidth</th>\n",
       "      <th>sensitivity_10kms</th>\n",
       "      <th>...</th>\n",
       "      <th>id</th>\n",
       "      <th>w_id</th>\n",
       "      <th>formula</th>\n",
       "      <th>transition</th>\n",
       "      <th>restfreq</th>\n",
       "      <th>vmin</th>\n",
       "      <th>vmax</th>\n",
       "      <th>mom0flux</th>\n",
       "      <th>mom1peak</th>\n",
       "      <th>mom2peak</th>\n",
       "    </tr>\n",
       "  </thead>\n",
       "  <tbody>\n",
       "    <tr>\n",
       "      <th>0</th>\n",
       "      <td>6</td>\n",
       "      <td>uid://A001/X1288/Xba2</td>\n",
       "      <td>NGC3049</td>\n",
       "      <td>148.706950</td>\n",
       "      <td>9.271113</td>\n",
       "      <td>229.424396</td>\n",
       "      <td>0.332481</td>\n",
       "      <td>58379.538206</td>\n",
       "      <td>0.015700</td>\n",
       "      <td>0.472535</td>\n",
       "      <td>...</td>\n",
       "      <td>5</td>\n",
       "      <td>6</td>\n",
       "      <td>CO</td>\n",
       "      <td>2-1</td>\n",
       "      <td>230.538</td>\n",
       "      <td>-51.54370</td>\n",
       "      <td>105.41400</td>\n",
       "      <td>2698.220</td>\n",
       "      <td>1475.480</td>\n",
       "      <td>20.86430</td>\n",
       "    </tr>\n",
       "    <tr>\n",
       "      <th>1</th>\n",
       "      <td>10</td>\n",
       "      <td>uid://A001/X1288/Xba6</td>\n",
       "      <td>NGC3504</td>\n",
       "      <td>165.796595</td>\n",
       "      <td>27.972404</td>\n",
       "      <td>229.371212</td>\n",
       "      <td>0.034121</td>\n",
       "      <td>58050.543677</td>\n",
       "      <td>0.013024</td>\n",
       "      <td>0.410236</td>\n",
       "      <td>...</td>\n",
       "      <td>7</td>\n",
       "      <td>10</td>\n",
       "      <td>CO</td>\n",
       "      <td>2-1</td>\n",
       "      <td>230.538</td>\n",
       "      <td>-100.23700</td>\n",
       "      <td>88.66320</td>\n",
       "      <td>3388.780</td>\n",
       "      <td>1516.190</td>\n",
       "      <td>34.98030</td>\n",
       "    </tr>\n",
       "    <tr>\n",
       "      <th>2</th>\n",
       "      <td>14</td>\n",
       "      <td>uid://A001/X1288/Xba8</td>\n",
       "      <td>NGC3504</td>\n",
       "      <td>165.796595</td>\n",
       "      <td>27.972404</td>\n",
       "      <td>229.371216</td>\n",
       "      <td>0.200656</td>\n",
       "      <td>58119.297186</td>\n",
       "      <td>0.021794</td>\n",
       "      <td>0.686479</td>\n",
       "      <td>...</td>\n",
       "      <td>9</td>\n",
       "      <td>14</td>\n",
       "      <td>CO</td>\n",
       "      <td>2-1</td>\n",
       "      <td>230.538</td>\n",
       "      <td>-148.71500</td>\n",
       "      <td>167.81400</td>\n",
       "      <td>18313.700</td>\n",
       "      <td>1547.690</td>\n",
       "      <td>58.09510</td>\n",
       "    </tr>\n",
       "    <tr>\n",
       "      <th>3</th>\n",
       "      <td>15</td>\n",
       "      <td>uid://A001/X1288/Xbae</td>\n",
       "      <td>NGC3593</td>\n",
       "      <td>168.654583</td>\n",
       "      <td>12.817675</td>\n",
       "      <td>230.055098</td>\n",
       "      <td>0.289034</td>\n",
       "      <td>58384.714766</td>\n",
       "      <td>0.038697</td>\n",
       "      <td>0.604888</td>\n",
       "      <td>...</td>\n",
       "      <td>10</td>\n",
       "      <td>15</td>\n",
       "      <td>CO</td>\n",
       "      <td>2-1</td>\n",
       "      <td>230.538</td>\n",
       "      <td>-136.84900</td>\n",
       "      <td>138.02900</td>\n",
       "      <td>11534.200</td>\n",
       "      <td>639.522</td>\n",
       "      <td>70.28280</td>\n",
       "    </tr>\n",
       "    <tr>\n",
       "      <th>4</th>\n",
       "      <td>26</td>\n",
       "      <td>uid://A001/X1288/Xbc0</td>\n",
       "      <td>NGC4414</td>\n",
       "      <td>186.612807</td>\n",
       "      <td>31.223649</td>\n",
       "      <td>229.988814</td>\n",
       "      <td>0.223839</td>\n",
       "      <td>58123.420166</td>\n",
       "      <td>0.015109</td>\n",
       "      <td>0.455252</td>\n",
       "      <td>...</td>\n",
       "      <td>17</td>\n",
       "      <td>26</td>\n",
       "      <td>CO</td>\n",
       "      <td>2-1</td>\n",
       "      <td>230.538</td>\n",
       "      <td>-168.82400</td>\n",
       "      <td>178.66800</td>\n",
       "      <td>9306.800</td>\n",
       "      <td>710.181</td>\n",
       "      <td>62.40980</td>\n",
       "    </tr>\n",
       "    <tr>\n",
       "      <th>5</th>\n",
       "      <td>30</td>\n",
       "      <td>uid://A001/X1288/Xbc4</td>\n",
       "      <td>NGC5253</td>\n",
       "      <td>204.983216</td>\n",
       "      <td>-31.640107</td>\n",
       "      <td>230.225275</td>\n",
       "      <td>0.074072</td>\n",
       "      <td>58076.500165</td>\n",
       "      <td>0.010960</td>\n",
       "      <td>0.344422</td>\n",
       "      <td>...</td>\n",
       "      <td>20</td>\n",
       "      <td>30</td>\n",
       "      <td>CO</td>\n",
       "      <td>2-1</td>\n",
       "      <td>230.538</td>\n",
       "      <td>-40.36360</td>\n",
       "      <td>6.68647</td>\n",
       "      <td>436.564</td>\n",
       "      <td>387.738</td>\n",
       "      <td>10.90870</td>\n",
       "    </tr>\n",
       "    <tr>\n",
       "      <th>6</th>\n",
       "      <td>34</td>\n",
       "      <td>uid://A001/X1288/Xbc6</td>\n",
       "      <td>NGC5253</td>\n",
       "      <td>204.983216</td>\n",
       "      <td>-31.640107</td>\n",
       "      <td>230.225281</td>\n",
       "      <td>0.258194</td>\n",
       "      <td>58382.847846</td>\n",
       "      <td>0.015421</td>\n",
       "      <td>0.466701</td>\n",
       "      <td>...</td>\n",
       "      <td>21</td>\n",
       "      <td>34</td>\n",
       "      <td>CO</td>\n",
       "      <td>2-1</td>\n",
       "      <td>230.538</td>\n",
       "      <td>-46.70160</td>\n",
       "      <td>46.13340</td>\n",
       "      <td>894.771</td>\n",
       "      <td>397.203</td>\n",
       "      <td>15.01770</td>\n",
       "    </tr>\n",
       "    <tr>\n",
       "      <th>7</th>\n",
       "      <td>42</td>\n",
       "      <td>uid://A001/X1296/X6f3</td>\n",
       "      <td>5-NGC3773</td>\n",
       "      <td>174.553958</td>\n",
       "      <td>12.111899</td>\n",
       "      <td>229.781272</td>\n",
       "      <td>0.299770</td>\n",
       "      <td>58384.680357</td>\n",
       "      <td>0.018072</td>\n",
       "      <td>0.568947</td>\n",
       "      <td>...</td>\n",
       "      <td>27</td>\n",
       "      <td>42</td>\n",
       "      <td>CO</td>\n",
       "      <td>2-1</td>\n",
       "      <td>230.538</td>\n",
       "      <td>-9.50778</td>\n",
       "      <td>19.79620</td>\n",
       "      <td>323.716</td>\n",
       "      <td>980.293</td>\n",
       "      <td>6.99879</td>\n",
       "    </tr>\n",
       "  </tbody>\n",
       "</table>\n",
       "<p>8 rows × 40 columns</p>\n",
       "</div>"
      ],
      "text/plain": [
       "   id                 obs_id target_name        s_ra      s_dec   frequency  \\\n",
       "0   6  uid://A001/X1288/Xba2     NGC3049  148.706950   9.271113  229.424396   \n",
       "1  10  uid://A001/X1288/Xba6     NGC3504  165.796595  27.972404  229.371212   \n",
       "2  14  uid://A001/X1288/Xba8     NGC3504  165.796595  27.972404  229.371216   \n",
       "3  15  uid://A001/X1288/Xbae     NGC3593  168.654583  12.817675  230.055098   \n",
       "4  26  uid://A001/X1288/Xbc0     NGC4414  186.612807  31.223649  229.988814   \n",
       "5  30  uid://A001/X1288/Xbc4     NGC5253  204.983216 -31.640107  230.225275   \n",
       "6  34  uid://A001/X1288/Xbc6     NGC5253  204.983216 -31.640107  230.225281   \n",
       "7  42  uid://A001/X1296/X6f3   5-NGC3773  174.553958  12.111899  229.781272   \n",
       "\n",
       "   s_resolution         t_min  cont_sensitivity_bandwidth  sensitivity_10kms  \\\n",
       "0      0.332481  58379.538206                    0.015700           0.472535   \n",
       "1      0.034121  58050.543677                    0.013024           0.410236   \n",
       "2      0.200656  58119.297186                    0.021794           0.686479   \n",
       "3      0.289034  58384.714766                    0.038697           0.604888   \n",
       "4      0.223839  58123.420166                    0.015109           0.455252   \n",
       "5      0.074072  58076.500165                    0.010960           0.344422   \n",
       "6      0.258194  58382.847846                    0.015421           0.466701   \n",
       "7      0.299770  58384.680357                    0.018072           0.568947   \n",
       "\n",
       "   ...  id w_id formula transition restfreq       vmin       vmax   mom0flux  \\\n",
       "0  ...   5    6      CO        2-1  230.538  -51.54370  105.41400   2698.220   \n",
       "1  ...   7   10      CO        2-1  230.538 -100.23700   88.66320   3388.780   \n",
       "2  ...   9   14      CO        2-1  230.538 -148.71500  167.81400  18313.700   \n",
       "3  ...  10   15      CO        2-1  230.538 -136.84900  138.02900  11534.200   \n",
       "4  ...  17   26      CO        2-1  230.538 -168.82400  178.66800   9306.800   \n",
       "5  ...  20   30      CO        2-1  230.538  -40.36360    6.68647    436.564   \n",
       "6  ...  21   34      CO        2-1  230.538  -46.70160   46.13340    894.771   \n",
       "7  ...  27   42      CO        2-1  230.538   -9.50778   19.79620    323.716   \n",
       "\n",
       "   mom1peak  mom2peak  \n",
       "0  1475.480  20.86430  \n",
       "1  1516.190  34.98030  \n",
       "2  1547.690  58.09510  \n",
       "3   639.522  70.28280  \n",
       "4   710.181  62.40980  \n",
       "5   387.738  10.90870  \n",
       "6   397.203  15.01770  \n",
       "7   980.293   6.99879  \n",
       "\n",
       "[8 rows x 40 columns]"
      ]
     },
     "execution_count": 4,
     "metadata": {},
     "output_type": "execute_result"
    }
   ],
   "source": [
    "p"
   ]
  },
  {
   "cell_type": "code",
   "execution_count": 5,
   "metadata": {},
   "outputs": [
    {
     "name": "stdout",
     "output_type": "stream",
     "text": [
      "                  obs_id target_name  s_resolution         vlsr\n",
      "0  uid://A001/X1288/Xba2     NGC3049      0.332481  1447.989431\n",
      "1  uid://A001/X1288/Xba6     NGC3504      0.034121  1521.106704\n",
      "2  uid://A001/X1288/Xba8     NGC3504      0.200656  1521.106704\n",
      "3  uid://A001/X1288/Xbae     NGC3593      0.289034   628.000000\n",
      "4  uid://A001/X1288/Xbc0     NGC4414      0.223839   715.580697\n",
      "5  uid://A001/X1288/Xbc4     NGC5253      0.074072   401.856222\n",
      "6  uid://A001/X1288/Xbc6     NGC5253      0.258194   401.856222\n",
      "7  uid://A001/X1296/X6f3   5-NGC3773      0.299770   978.913173\n"
     ]
    }
   ],
   "source": [
    "ci=['obs_id','target_name','s_resolution', 'vlsr']\n",
    "print(p[ci])"
   ]
  },
  {
   "cell_type": "markdown",
   "metadata": {},
   "source": [
    "This looks interesting. But we like to know the resolution in physical pc, not in arcsec. \n",
    "\n",
    "Note: the current **s_resolution** is in arcsec, which is in error, it should have been degrees. This is a fix the archive group will make sometime in 2022\n"
   ]
  },
  {
   "cell_type": "code",
   "execution_count": 6,
   "metadata": {},
   "outputs": [],
   "source": [
    "H0 = 75\n",
    "ascale = 1.0      # this will be 3600 once s_resolution is in degrees again\n",
    "\n",
    "p['size_pc'] = p['s_resolution']/ascale * p['vlsr']/H0 * 1e6/206265"
   ]
  },
  {
   "cell_type": "code",
   "execution_count": 7,
   "metadata": {},
   "outputs": [
    {
     "name": "stdout",
     "output_type": "stream",
     "text": [
      "                  obs_id target_name  s_resolution         vlsr    size_pc\n",
      "0  uid://A001/X1288/Xba2     NGC3049      0.332481  1447.989431  31.120376\n",
      "1  uid://A001/X1288/Xba6     NGC3504      0.034121  1521.106704   3.355025\n",
      "2  uid://A001/X1288/Xba8     NGC3504      0.200656  1521.106704  19.729870\n",
      "3  uid://A001/X1288/Xbae     NGC3593      0.289034   628.000000  11.733352\n",
      "4  uid://A001/X1288/Xbc0     NGC4414      0.223839   715.580697  10.353969\n",
      "5  uid://A001/X1288/Xbc4     NGC5253      0.074072   401.856222   1.924158\n",
      "6  uid://A001/X1288/Xbc6     NGC5253      0.258194   401.856222   6.707033\n",
      "7  uid://A001/X1296/X6f3   5-NGC3773      0.299770   978.913173  18.969017\n"
     ]
    }
   ],
   "source": [
    "ci=['obs_id','target_name','s_resolution', 'vlsr','size_pc']\n",
    "print(p[ci])"
   ]
  },
  {
   "cell_type": "markdown",
   "metadata": {},
   "source": [
    "We don't have information here on the expected black hole mass, which should be ~0.01 * bulge_mass "
   ]
  },
  {
   "cell_type": "code",
   "execution_count": 8,
   "metadata": {},
   "outputs": [
    {
     "data": {
      "text/html": [
       "<div>\n",
       "<style scoped>\n",
       "    .dataframe tbody tr th:only-of-type {\n",
       "        vertical-align: middle;\n",
       "    }\n",
       "\n",
       "    .dataframe tbody tr th {\n",
       "        vertical-align: top;\n",
       "    }\n",
       "\n",
       "    .dataframe thead th {\n",
       "        text-align: right;\n",
       "    }\n",
       "</style>\n",
       "<table border=\"1\" class=\"dataframe\">\n",
       "  <thead>\n",
       "    <tr style=\"text-align: right;\">\n",
       "      <th></th>\n",
       "      <th>s_resolution</th>\n",
       "      <th>vlsr</th>\n",
       "      <th>size_pc</th>\n",
       "    </tr>\n",
       "  </thead>\n",
       "  <tbody>\n",
       "    <tr>\n",
       "      <th>count</th>\n",
       "      <td>8.000000</td>\n",
       "      <td>8.000000</td>\n",
       "      <td>8.000000</td>\n",
       "    </tr>\n",
       "    <tr>\n",
       "      <th>mean</th>\n",
       "      <td>0.214021</td>\n",
       "      <td>952.051144</td>\n",
       "      <td>12.986600</td>\n",
       "    </tr>\n",
       "    <tr>\n",
       "      <th>std</th>\n",
       "      <td>0.107696</td>\n",
       "      <td>487.073056</td>\n",
       "      <td>9.806514</td>\n",
       "    </tr>\n",
       "    <tr>\n",
       "      <th>min</th>\n",
       "      <td>0.034121</td>\n",
       "      <td>401.856222</td>\n",
       "      <td>1.924158</td>\n",
       "    </tr>\n",
       "    <tr>\n",
       "      <th>25%</th>\n",
       "      <td>0.169010</td>\n",
       "      <td>571.464055</td>\n",
       "      <td>5.869031</td>\n",
       "    </tr>\n",
       "    <tr>\n",
       "      <th>50%</th>\n",
       "      <td>0.241016</td>\n",
       "      <td>847.246935</td>\n",
       "      <td>11.043660</td>\n",
       "    </tr>\n",
       "    <tr>\n",
       "      <th>75%</th>\n",
       "      <td>0.291718</td>\n",
       "      <td>1466.268749</td>\n",
       "      <td>19.159231</td>\n",
       "    </tr>\n",
       "    <tr>\n",
       "      <th>max</th>\n",
       "      <td>0.332481</td>\n",
       "      <td>1521.106704</td>\n",
       "      <td>31.120376</td>\n",
       "    </tr>\n",
       "  </tbody>\n",
       "</table>\n",
       "</div>"
      ],
      "text/plain": [
       "       s_resolution         vlsr    size_pc\n",
       "count      8.000000     8.000000   8.000000\n",
       "mean       0.214021   952.051144  12.986600\n",
       "std        0.107696   487.073056   9.806514\n",
       "min        0.034121   401.856222   1.924158\n",
       "25%        0.169010   571.464055   5.869031\n",
       "50%        0.241016   847.246935  11.043660\n",
       "75%        0.291718  1466.268749  19.159231\n",
       "max        0.332481  1521.106704  31.120376"
      ]
     },
     "execution_count": 8,
     "metadata": {},
     "output_type": "execute_result"
    }
   ],
   "source": [
    "p[ci].describe()"
   ]
  },
  {
   "cell_type": "markdown",
   "metadata": {},
   "source": [
    "## Accuracy of VLSR?  \n",
    "\n",
    "The VLSR that ADMIT uses is not reliable. Since the PI information of VLSR is optional, and not made available in the fits headers, ADMIT uses the RESTFREQ in the fits header, and compares that to the frequency in the middle of the spw. The PI can easily use another algorithm, though often this method works.\n",
    "\n",
    "We are using a table lookup provided by Felix Stoehr (ESO) that we added as an option to a special query in out admit astroquery. This query_rdz() returns the 'z' of the object, e.g."
   ]
  },
  {
   "cell_type": "code",
   "execution_count": 9,
   "metadata": {},
   "outputs": [
    {
     "name": "stdout",
     "output_type": "stream",
     "text": [
      "Found 49765 entries in rdz\n",
      "Searching for  uid://A001/X1288/Xba6 NGC3504\n",
      "uid://A001/X1288/Xba6.source.NGC3504|165.796629167|27.9724361111|0.005104|NGC  3504|\n",
      "\n"
     ]
    },
    {
     "data": {
      "text/plain": [
       "0.005104"
      ]
     },
     "execution_count": 9,
     "metadata": {},
     "output_type": "execute_result"
    }
   ],
   "source": [
    "a.query_rdz('uid://A001/X1288/Xba6','NGC3504')"
   ]
  },
  {
   "cell_type": "markdown",
   "metadata": {},
   "source": [
    "an alternative method would be a lookup via NED , at least for galaxies. Here's the example for NGC3504"
   ]
  },
  {
   "cell_type": "code",
   "execution_count": 10,
   "metadata": {},
   "outputs": [
    {
     "data": {
      "text/html": [
       "<i>Table length=1</i>\n",
       "<table id=\"table140625326940656\" class=\"table-striped table-bordered table-condensed\">\n",
       "<thead><tr><th>No.</th><th>Object Name</th><th>RA</th><th>DEC</th><th>Type</th><th>Velocity</th><th>Redshift</th><th>Redshift Flag</th><th>Magnitude and Filter</th><th>Separation</th><th>References</th><th>Notes</th><th>Photometry Points</th><th>Positions</th><th>Redshift Points</th><th>Diameter Points</th><th>Associations</th></tr></thead>\n",
       "<thead><tr><th></th><th></th><th>degrees</th><th>degrees</th><th></th><th>km / s</th><th></th><th></th><th></th><th>arcmin</th><th></th><th></th><th></th><th></th><th></th><th></th><th></th></tr></thead>\n",
       "<thead><tr><th>int32</th><th>bytes30</th><th>float64</th><th>float64</th><th>object</th><th>float64</th><th>float64</th><th>object</th><th>object</th><th>float64</th><th>int32</th><th>int32</th><th>int32</th><th>int32</th><th>int32</th><th>int32</th><th>int32</th></tr></thead>\n",
       "<tr><td>1</td><td>NGC 3504</td><td>165.79671</td><td>27.9725</td><td>G</td><td>1525.0</td><td>0.005087</td><td></td><td>11.4B</td><td>--</td><td>529</td><td>23</td><td>133</td><td>49</td><td>27</td><td>8</td><td>0</td></tr>\n",
       "</table>"
      ],
      "text/plain": [
       "<Table length=1>\n",
       " No.  Object Name     RA     ... Redshift Points Diameter Points Associations\n",
       "                   degrees   ...                                             \n",
       "int32   bytes30    float64   ...      int32           int32         int32    \n",
       "----- ----------- ---------- ... --------------- --------------- ------------\n",
       "    1    NGC 3504  165.79671 ...              27               8            0"
      ]
     },
     "execution_count": 10,
     "metadata": {},
     "output_type": "execute_result"
    }
   ],
   "source": [
    "from astroquery.ipac.ned import Ned\n",
    "Ned.query_object(\"NGC3504\")"
   ]
  },
  {
   "cell_type": "markdown",
   "metadata": {},
   "source": [
    "Looping over all galaxies in our query, we grab the redshift in a new array, and add it to the dataframe."
   ]
  },
  {
   "cell_type": "code",
   "execution_count": 11,
   "metadata": {},
   "outputs": [
    {
     "name": "stdout",
     "output_type": "stream",
     "text": [
      "Searching for  uid://A001/X1288/Xba2 NGC3049\n",
      "uid://A001/X1288/Xba2.source.NGC3049|148.706517455|9.2710935803|0.00485400017|NGC 3049|\n",
      "\n",
      "Searching for  uid://A001/X1288/Xba6 NGC3504\n",
      "uid://A001/X1288/Xba6.source.NGC3504|165.796629167|27.9724361111|0.005104|NGC  3504|\n",
      "\n",
      "Searching for  uid://A001/X1288/Xba8 NGC3504\n",
      "uid://A001/X1288/Xba8.source.NGC3504|165.796629167|27.9724361111|0.005104|NGC  3504|\n",
      "\n",
      "Searching for  uid://A001/X1288/Xbae NGC3593\n",
      "uid://A001/X1288/Xbae.source.NGC3593|168.654166667|12.8176666667|0.00209499989|NGC 3593|\n",
      "\n",
      "Searching for  uid://A001/X1288/Xbc0 NGC4414\n",
      "uid://A001/X1288/Xbc0.source.NGC4414|186.612870833|31.2235444444|0.002395|NGC  4414|\n",
      "\n",
      "Searching for  uid://A001/X1288/Xbc4 NGC5253\n",
      "uid://A001/X1288/Xbc4.source.NGC5253|204.983179583|-31.6401077778|0.00135799998|NGC 5253|\n",
      "\n",
      "Searching for  uid://A001/X1288/Xbc6 NGC5253\n",
      "Searching for  uid://A001/X1296/X6f3 5-NGC3773\n",
      "uid://A001/X1296/X6f3.source.5-NGC3773|174.553647831|12.1120476073|0.00327600003|NGC 3773|\n",
      "\n"
     ]
    }
   ],
   "source": [
    "vz = np.zeros(len(p)) \n",
    "for i in range(len(p)):\n",
    "    vz[i] =  a.query_rdz(p['obs_id'][i],p['target_name'][i])"
   ]
  },
  {
   "cell_type": "code",
   "execution_count": 12,
   "metadata": {},
   "outputs": [],
   "source": [
    "p['rdz'] = vz*300000"
   ]
  },
  {
   "cell_type": "code",
   "execution_count": 13,
   "metadata": {},
   "outputs": [
    {
     "name": "stdout",
     "output_type": "stream",
     "text": [
      "                  obs_id target_name         vlsr          rdz    size_pc\n",
      "0  uid://A001/X1288/Xba2     NGC3049  1447.989431  1456.200051  31.120376\n",
      "1  uid://A001/X1288/Xba6     NGC3504  1521.106704  1531.200000   3.355025\n",
      "2  uid://A001/X1288/Xba8     NGC3504  1521.106704  1531.200000  19.729870\n",
      "3  uid://A001/X1288/Xbae     NGC3593   628.000000   628.499967  11.733352\n",
      "4  uid://A001/X1288/Xbc0     NGC4414   715.580697   718.500000  10.353969\n",
      "5  uid://A001/X1288/Xbc4     NGC5253   401.856222   407.399994   1.924158\n",
      "6  uid://A001/X1288/Xbc6     NGC5253   401.856222          NaN   6.707033\n",
      "7  uid://A001/X1296/X6f3   5-NGC3773   978.913173   982.800009  18.969017\n"
     ]
    }
   ],
   "source": [
    "ci=['obs_id','target_name', 'vlsr','rdz','size_pc']\n",
    "print(p[ci])"
   ]
  },
  {
   "cell_type": "markdown",
   "metadata": {},
   "source": [
    "One of the obsid's for NGC5253 was apparently not in the \"rdz\" database, luckily another one did."
   ]
  }
 ],
 "metadata": {
  "kernelspec": {
   "display_name": "Python 3",
   "language": "python",
   "name": "python3"
  },
  "language_info": {
   "codemirror_mode": {
    "name": "ipython",
    "version": 3
   },
   "file_extension": ".py",
   "mimetype": "text/x-python",
   "name": "python",
   "nbconvert_exporter": "python",
   "pygments_lexer": "ipython3",
   "version": "3.8.3"
  }
 },
 "nbformat": 4,
 "nbformat_minor": 4
}
