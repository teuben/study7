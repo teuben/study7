{
 "cells": [
  {
   "cell_type": "markdown",
   "metadata": {},
   "source": [
    "# Science Case #1a: Black Holes and CO gas\n",
    "\n",
    "example from report, expanded to show how to add a new column with the linear scale in parsecs.\n"
   ]
  },
  {
   "cell_type": "code",
   "execution_count": 1,
   "metadata": {},
   "outputs": [],
   "source": [
    "from astroquery.admit import ADMIT\n",
    "import pandas as pd"
   ]
  },
  {
   "cell_type": "code",
   "execution_count": 2,
   "metadata": {},
   "outputs": [
    {
     "name": "stdout",
     "output_type": "stream",
     "text": [
      "Found  /home/teuben/ALMA/study7/query/admit.db\n",
      "Checking db.... 0\n",
      "71 71 71\n",
      "Database version: 27-feb-2022. core.py version: 26-feb-2022\n",
      "header    : 1 entries\n",
      "alma      : 131 entries\n",
      "win       : 130 entries\n",
      "lines     : 33 entries\n",
      "sources   : 801 entries\n"
     ]
    }
   ],
   "source": [
    "a = ADMIT()\n",
    "a.check()"
   ]
  },
  {
   "cell_type": "markdown",
   "metadata": {},
   "source": [
    "### Find projects about black holes where CO was observed.\n",
    "\n",
    "Note: we avoid B and H for because the underlying SQL search is case sensitive"
   ]
  },
  {
   "cell_type": "code",
   "execution_count": 3,
   "metadata": {},
   "outputs": [
    {
     "name": "stdout",
     "output_type": "stream",
     "text": [
      "select * from alma inner join win on (win.a_id = alma.id)  inner join lines on (lines.w_id = win.id )  WHERE lines.formula='CO' AND alma.project_abstract LIKE '%lack%ole%' \n",
      "\n"
     ]
    }
   ],
   "source": [
    "p = a.query(formula=\"CO\",project_abstract=\"*lack*ole*\")"
   ]
  },
  {
   "cell_type": "code",
   "execution_count": 4,
   "metadata": {},
   "outputs": [
    {
     "name": "stdout",
     "output_type": "stream",
     "text": [
      "                  obs_id target_name  s_resolution         vlsr\n",
      "0  uid://A001/X1288/Xba2     NGC3049      0.332481  1447.989431\n",
      "1  uid://A001/X1288/Xba6     NGC3504      0.034121  1521.106704\n",
      "2  uid://A001/X1288/Xba8     NGC3504      0.200656  1521.106704\n",
      "3  uid://A001/X1288/Xbae     NGC3593      0.289034   628.000000\n",
      "4  uid://A001/X1288/Xbc0     NGC4414      0.223839   715.580697\n",
      "5  uid://A001/X1288/Xbc4     NGC5253      0.074072   401.856222\n",
      "6  uid://A001/X1288/Xbc6     NGC5253      0.258194   401.856222\n",
      "7  uid://A001/X1296/X6f3   5-NGC3773      0.299770   978.913173\n"
     ]
    }
   ],
   "source": [
    "ci=['obs_id','target_name','s_resolution', 'vlsr']\n",
    "print(p[ci])"
   ]
  },
  {
   "cell_type": "markdown",
   "metadata": {},
   "source": [
    "This looks interesting. But we like to know the resolution in physical pc, not in arcsec. \n",
    "\n",
    "Note: the current **s_resolution** is in arcsec, which is in error, it should have been degrees. This is a fix the archive group will make sometime in 2022\n"
   ]
  },
  {
   "cell_type": "code",
   "execution_count": 5,
   "metadata": {},
   "outputs": [],
   "source": [
    "H0 = 75\n",
    "ascale = 1.0      # this will be 3600 once s_resolution is in degrees again\n",
    "\n",
    "p['size'] = p['s_resolution']/ascale * p['vlsr']/H0 * 1e6/206265"
   ]
  },
  {
   "cell_type": "code",
   "execution_count": 6,
   "metadata": {},
   "outputs": [
    {
     "name": "stdout",
     "output_type": "stream",
     "text": [
      "                  obs_id target_name  s_resolution         vlsr       size\n",
      "0  uid://A001/X1288/Xba2     NGC3049      0.332481  1447.989431  31.120376\n",
      "1  uid://A001/X1288/Xba6     NGC3504      0.034121  1521.106704   3.355025\n",
      "2  uid://A001/X1288/Xba8     NGC3504      0.200656  1521.106704  19.729870\n",
      "3  uid://A001/X1288/Xbae     NGC3593      0.289034   628.000000  11.733352\n",
      "4  uid://A001/X1288/Xbc0     NGC4414      0.223839   715.580697  10.353969\n",
      "5  uid://A001/X1288/Xbc4     NGC5253      0.074072   401.856222   1.924158\n",
      "6  uid://A001/X1288/Xbc6     NGC5253      0.258194   401.856222   6.707033\n",
      "7  uid://A001/X1296/X6f3   5-NGC3773      0.299770   978.913173  18.969017\n"
     ]
    }
   ],
   "source": [
    "ci=['obs_id','target_name','s_resolution', 'vlsr','size']\n",
    "print(p[ci])"
   ]
  },
  {
   "cell_type": "markdown",
   "metadata": {},
   "source": [
    "We don't have information here on the expected black hole mass, which should be ~0.01 * bulge_mass "
   ]
  },
  {
   "cell_type": "code",
   "execution_count": 7,
   "metadata": {},
   "outputs": [
    {
     "data": {
      "text/html": [
       "<div>\n",
       "<style scoped>\n",
       "    .dataframe tbody tr th:only-of-type {\n",
       "        vertical-align: middle;\n",
       "    }\n",
       "\n",
       "    .dataframe tbody tr th {\n",
       "        vertical-align: top;\n",
       "    }\n",
       "\n",
       "    .dataframe thead th {\n",
       "        text-align: right;\n",
       "    }\n",
       "</style>\n",
       "<table border=\"1\" class=\"dataframe\">\n",
       "  <thead>\n",
       "    <tr style=\"text-align: right;\">\n",
       "      <th></th>\n",
       "      <th>s_resolution</th>\n",
       "      <th>vlsr</th>\n",
       "      <th>size</th>\n",
       "    </tr>\n",
       "  </thead>\n",
       "  <tbody>\n",
       "    <tr>\n",
       "      <th>count</th>\n",
       "      <td>8.000000</td>\n",
       "      <td>8.000000</td>\n",
       "      <td>8.000000</td>\n",
       "    </tr>\n",
       "    <tr>\n",
       "      <th>mean</th>\n",
       "      <td>0.214021</td>\n",
       "      <td>952.051144</td>\n",
       "      <td>12.986600</td>\n",
       "    </tr>\n",
       "    <tr>\n",
       "      <th>std</th>\n",
       "      <td>0.107696</td>\n",
       "      <td>487.073056</td>\n",
       "      <td>9.806514</td>\n",
       "    </tr>\n",
       "    <tr>\n",
       "      <th>min</th>\n",
       "      <td>0.034121</td>\n",
       "      <td>401.856222</td>\n",
       "      <td>1.924158</td>\n",
       "    </tr>\n",
       "    <tr>\n",
       "      <th>25%</th>\n",
       "      <td>0.169010</td>\n",
       "      <td>571.464055</td>\n",
       "      <td>5.869031</td>\n",
       "    </tr>\n",
       "    <tr>\n",
       "      <th>50%</th>\n",
       "      <td>0.241016</td>\n",
       "      <td>847.246935</td>\n",
       "      <td>11.043660</td>\n",
       "    </tr>\n",
       "    <tr>\n",
       "      <th>75%</th>\n",
       "      <td>0.291718</td>\n",
       "      <td>1466.268749</td>\n",
       "      <td>19.159231</td>\n",
       "    </tr>\n",
       "    <tr>\n",
       "      <th>max</th>\n",
       "      <td>0.332481</td>\n",
       "      <td>1521.106704</td>\n",
       "      <td>31.120376</td>\n",
       "    </tr>\n",
       "  </tbody>\n",
       "</table>\n",
       "</div>"
      ],
      "text/plain": [
       "       s_resolution         vlsr       size\n",
       "count      8.000000     8.000000   8.000000\n",
       "mean       0.214021   952.051144  12.986600\n",
       "std        0.107696   487.073056   9.806514\n",
       "min        0.034121   401.856222   1.924158\n",
       "25%        0.169010   571.464055   5.869031\n",
       "50%        0.241016   847.246935  11.043660\n",
       "75%        0.291718  1466.268749  19.159231\n",
       "max        0.332481  1521.106704  31.120376"
      ]
     },
     "execution_count": 7,
     "metadata": {},
     "output_type": "execute_result"
    }
   ],
   "source": [
    "p[ci].describe()"
   ]
  }
 ],
 "metadata": {
  "kernelspec": {
   "display_name": "Python 3",
   "language": "python",
   "name": "python3"
  },
  "language_info": {
   "codemirror_mode": {
    "name": "ipython",
    "version": 3
   },
   "file_extension": ".py",
   "mimetype": "text/x-python",
   "name": "python",
   "nbconvert_exporter": "python",
   "pygments_lexer": "ipython3",
   "version": "3.8.3"
  }
 },
 "nbformat": 4,
 "nbformat_minor": 4
}
