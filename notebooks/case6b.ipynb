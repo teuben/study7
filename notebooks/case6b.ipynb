{
 "cells": [
  {
   "cell_type": "markdown",
   "metadata": {},
   "source": [
    "# Science Case #6b:  ARI-L : a sample MOUS\n",
    "\n",
    "The ARI-L project ...   https://sites.google.com/inaf.it/ari-l/products/examples \n",
    "\n",
    "sample MOUS  **uid://A011/X88f/X11a** from **2016.1.00875.S**\n",
    "\n",
    "Download was slow, still not 100% downloaded.\n",
    "\n",
    "This notebook needs work, struggling with ADMIT failures. Was hoping to compare, but abandoned for the time with too little time left. Yet this is an interested sub-project that needs to be looked into. "
   ]
  },
  {
   "cell_type": "code",
   "execution_count": 1,
   "metadata": {},
   "outputs": [],
   "source": [
    "import pandas as pd\n",
    "pd.set_option('display.max_rows', None)\n",
    "pd.set_option('display.max_columns', None)\n",
    "pd.set_option('display.width', None)\n",
    "pd.set_option('display.max_colwidth',25)\n",
    "\n",
    "from astroquery.admit import ADMIT\n"
   ]
  },
  {
   "cell_type": "markdown",
   "metadata": {},
   "source": [
    "For now a private database, just for MAPS"
   ]
  },
  {
   "cell_type": "code",
   "execution_count": 2,
   "metadata": {},
   "outputs": [
    {
     "name": "stdout",
     "output_type": "stream",
     "text": [
      "Found  ../query/admit_ari.db\n",
      "Checking db.... 0\n",
      "71 71 71\n",
      "Database version: 27-feb-2022. core.py version: 26-feb-2022\n",
      "header    : 1 entries\n",
      "alma      : 46 entries\n",
      "win       : 46 entries\n",
      "lines     : 0 entries\n",
      "sources   : 122 entries\n"
     ]
    }
   ],
   "source": [
    "a = ADMIT('../query/admit_ari.db')\n",
    "a.check()"
   ]
  },
  {
   "cell_type": "markdown",
   "metadata": {},
   "source": [
    "## Unique source names"
   ]
  },
  {
   "cell_type": "code",
   "execution_count": 3,
   "metadata": {},
   "outputs": [
    {
     "name": "stdout",
     "output_type": "stream",
     "text": [
      "select * from alma inner join win on (win.a_id = alma.id)  WHERE win.nchan>=0.0 \n",
      "\n",
      "2  unique sources:  ['20kms' '50kms']\n"
     ]
    }
   ],
   "source": [
    "p = a.query(nchan='>0')\n",
    "s = p['target_name'].unique()\n",
    "print(len(s),' unique sources: ',s)"
   ]
  },
  {
   "cell_type": "markdown",
   "metadata": {},
   "source": [
    "## Unique lines detected "
   ]
  },
  {
   "cell_type": "code",
   "execution_count": 4,
   "metadata": {},
   "outputs": [
    {
     "name": "stdout",
     "output_type": "stream",
     "text": [
      "select * from alma inner join win on (win.a_id = alma.id)  inner join lines on (lines.w_id = win.id )  WHERE win.nchan>=2.0 AND lines.mom0flux>=0.0 \n",
      "\n",
      "0\n",
      "0 unique lines:  []\n"
     ]
    }
   ],
   "source": [
    "p = a.query(nchan='>2',mom0flux='>0')\n",
    "print(len(p))\n",
    "f=p['formula'].unique()\n",
    "print(len(f),'unique lines: ',f)\n"
   ]
  },
  {
   "cell_type": "markdown",
   "metadata": {},
   "source": [
    "why are there no lines here?"
   ]
  },
  {
   "cell_type": "code",
   "execution_count": null,
   "metadata": {},
   "outputs": [],
   "source": []
  }
 ],
 "metadata": {
  "kernelspec": {
   "display_name": "Python 3",
   "language": "python",
   "name": "python3"
  },
  "language_info": {
   "codemirror_mode": {
    "name": "ipython",
    "version": 3
   },
   "file_extension": ".py",
   "mimetype": "text/x-python",
   "name": "python",
   "nbconvert_exporter": "python",
   "pygments_lexer": "ipython3",
   "version": "3.8.3"
  }
 },
 "nbformat": 4,
 "nbformat_minor": 4
}
