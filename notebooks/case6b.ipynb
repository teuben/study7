{
 "cells": [
  {
   "cell_type": "markdown",
   "metadata": {},
   "source": [
    "# Science Case #6b:  ARI-L : a sample MOUS\n",
    "\n",
    "The ARI-L project ...   https://sites.google.com/inaf.it/ari-l/products/examples \n",
    "\n",
    "sample MOUS  **uid://A011/X88f/X11a** from **2016.1.00875.S**\n",
    "\n",
    "Download was slow, still not 100% downloaded.\n",
    "\n",
    "This notebook needs work, struggling with ADMIT failures. Was hoping to compare, but abandoned for the time with too little time left. Yet this is an interested sub-project that needs to be looked into. "
   ]
  },
  {
   "cell_type": "code",
   "execution_count": 5,
   "metadata": {},
   "outputs": [],
   "source": [
    "import pandas as pd\n",
    "pd.set_option('display.max_rows', None)\n",
    "pd.set_option('display.max_columns', None)\n",
    "pd.set_option('display.width', None)\n",
    "pd.set_option('display.max_colwidth',25)\n",
    "\n",
    "from astroquery.admit import ADMIT\n"
   ]
  },
  {
   "cell_type": "markdown",
   "metadata": {},
   "source": [
    "For now a private database, just for MAPS"
   ]
  },
  {
   "cell_type": "code",
   "execution_count": 9,
   "metadata": {},
   "outputs": [
    {
     "name": "stdout",
     "output_type": "stream",
     "text": [
      "Found  ../query/admit_ari.db\n",
      "Checking db.... 0\n",
      "71 71 71\n",
      "Database version: 27-feb-2022. core.py version: 26-feb-2022\n",
      "header    : 1 entries\n",
      "alma      : 65 entries\n",
      "win       : 65 entries\n",
      "lines     : 177 entries\n",
      "sources   : 1404 entries\n"
     ]
    }
   ],
   "source": [
    "a = ADMIT('../query/admit_ari.db')\n",
    "a.check()"
   ]
  },
  {
   "cell_type": "markdown",
   "metadata": {},
   "source": [
    "## Unique source names"
   ]
  },
  {
   "cell_type": "code",
   "execution_count": 10,
   "metadata": {},
   "outputs": [
    {
     "name": "stdout",
     "output_type": "stream",
     "text": [
      "select * from alma inner join win on (win.a_id = alma.id)  WHERE win.nchan>=0.0 \n",
      "\n",
      "4  unique sources:  ['20kms' '50kms' 'SgrB1-off' 'SgrC']\n"
     ]
    }
   ],
   "source": [
    "p = a.query(nchan='>0')\n",
    "s = p['target_name'].unique()\n",
    "print(len(s),' unique sources: ',s)"
   ]
  },
  {
   "cell_type": "markdown",
   "metadata": {},
   "source": [
    "## Unique lines detected "
   ]
  },
  {
   "cell_type": "code",
   "execution_count": 11,
   "metadata": {},
   "outputs": [
    {
     "name": "stdout",
     "output_type": "stream",
     "text": [
      "select * from alma inner join win on (win.a_id = alma.id)  inner join lines on (lines.w_id = win.id )  WHERE win.nchan>=2.0 AND lines.mom0flux>=0.0 \n",
      "\n",
      "177\n",
      "36 unique lines:  ['13CN' 'SiO' 'DCN' 'CH3CH2OH' 'SiS' 'HCCCH' 'CH3CH2CHO' 'CH2OHCHO' 'H2CO'\n",
      " 'HC3N' 'C18O' 'CH3OCHO' 'H2CN' 'CH3NH2' 'CH2CHCN' 'C15N' 'SO' 'NH2CHO'\n",
      " '(CH3)2CO' '33SO' 'H13CCCH' '(CH2OH)2' 'CH2CHCHO' 'CH3COOH' 'H2CCCHCN'\n",
      " 'HCCCD' 'CH3C3N' 'OCS' 'H213CO' 'SiC3' 'CH3OCH3' 'H2NCH2CN' 'HCCN' 'HDCS'\n",
      " 'NH2CN' 'C4H']\n"
     ]
    }
   ],
   "source": [
    "p = a.query(nchan='>2',mom0flux='>0')\n",
    "print(len(p))\n",
    "f=p['formula'].unique()\n",
    "print(len(f),'unique lines: ',f)\n"
   ]
  },
  {
   "cell_type": "markdown",
   "metadata": {},
   "source": []
  },
  {
   "cell_type": "code",
   "execution_count": null,
   "metadata": {},
   "outputs": [],
   "source": []
  }
 ],
 "metadata": {
  "kernelspec": {
   "display_name": "Python 3 (ipykernel)",
   "language": "python",
   "name": "python3"
  },
  "language_info": {
   "codemirror_mode": {
    "name": "ipython",
    "version": 3
   },
   "file_extension": ".py",
   "mimetype": "text/x-python",
   "name": "python",
   "nbconvert_exporter": "python",
   "pygments_lexer": "ipython3",
   "version": "3.9.7"
  }
 },
 "nbformat": 4,
 "nbformat_minor": 4
}
