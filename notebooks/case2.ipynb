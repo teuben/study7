{
 "cells": [
  {
   "cell_type": "markdown",
   "metadata": {},
   "source": [
    "# Science Case #2: \n",
    "\n",
    "Find any project where <spectral line(s)> was detected or observed\n"
   ]
  },
  {
   "cell_type": "markdown",
   "metadata": {},
   "source": [
    "The science case here would be to search the archive for instances where a rare line was\n",
    "observed and/or detected. Desired lines could be logically ANDed to narrow the results to\n",
    "coincident detections. For example, the search could be for Si18O observations. One could even\n",
    "limit results to be above a certain S/N or line ratio (peak or integrated). This is a straightforward\n",
    "search of ADMIT’s line identifications and line strengths. Additional constraints can of course\n",
    "be given, e.g., a frequency range, or ALMA band. The information returned would allow the user\n",
    "to see what sources were observed, which transitions, and examine moment maps of the\n",
    "detections. This same pattern could be used to find sources where a large fraction of the\n",
    "CO-ladder was observed.\n"
   ]
  },
  {
   "cell_type": "code",
   "execution_count": null,
   "metadata": {},
   "outputs": [],
   "source": []
  }
 ],
 "metadata": {
  "kernelspec": {
   "display_name": "Python 3",
   "language": "python",
   "name": "python3"
  },
  "language_info": {
   "codemirror_mode": {
    "name": "ipython",
    "version": 3
   },
   "file_extension": ".py",
   "mimetype": "text/x-python",
   "name": "python",
   "nbconvert_exporter": "python",
   "pygments_lexer": "ipython3",
   "version": "3.8.3"
  }
 },
 "nbformat": 4,
 "nbformat_minor": 4
}
