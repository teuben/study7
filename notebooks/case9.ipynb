{
 "cells": [
  {
   "cell_type": "markdown",
   "metadata": {},
   "source": [
    "# Case 9:   working with the full  ALMA data database\n",
    "\n",
    "There is a way to grab all ALMA data (nearly 500k records) via astroquery. If you store this as alma.db there are now ways to query this for debugging.\n",
    "\n",
    "You can clearly see the processing time shoots up to SQL query that.\n",
    "\n",
    "Also note that we currently have multiple identical alma records in the admit database. To be fixed."
   ]
  },
  {
   "cell_type": "code",
   "execution_count": 1,
   "metadata": {},
   "outputs": [
    {
     "name": "stdout",
     "output_type": "stream",
     "text": [
      "Found  /home/teuben/ALMA/study7/query/admit.db\n",
      "Checking db.... 0\n",
      "71 71 71\n",
      "Database version: 25-feb-2022. core.py version: 26-feb-2022\n",
      "header    : 1 entries\n",
      "alma      : 115 entries\n",
      "win       : 115 entries\n",
      "lines     : 33 entries\n",
      "sources   : 765 entries\n"
     ]
    }
   ],
   "source": [
    "from astroquery.admit import ADMIT\n",
    "import pandas as pd\n",
    "\n",
    "pd.set_option('display.max_rows', None)\n",
    "pd.set_option('display.max_columns', None)\n",
    "pd.set_option('display.width', None)\n",
    "pd.set_option('display.max_colwidth',25)\n",
    "\n",
    "\n",
    "a = ADMIT()\n",
    "a.check()"
   ]
  },
  {
   "cell_type": "code",
   "execution_count": 2,
   "metadata": {},
   "outputs": [
    {
     "name": "stdout",
     "output_type": "stream",
     "text": [
      "Found  ../query/alma.db\n",
      "Checking db.... 0\n",
      "Found 438076 entries\n",
      "CPU times: user 1.8 s, sys: 3.75 s, total: 5.55 s\n",
      "Wall time: 10.2 s\n"
     ]
    }
   ],
   "source": [
    "%time a.load_alma('../query/alma.db')"
   ]
  },
  {
   "cell_type": "code",
   "execution_count": 3,
   "metadata": {},
   "outputs": [
    {
     "name": "stdout",
     "output_type": "stream",
     "text": [
      "CPU times: user 1.52 s, sys: 6.39 s, total: 7.9 s\n",
      "Wall time: 13.8 s\n"
     ]
    }
   ],
   "source": [
    "%time p=pd.DataFrame(a.sqla(\"SELECT obs_id,frequency FROM alma WHERE alma.target_name = 'NGC3504'\"))"
   ]
  },
  {
   "cell_type": "code",
   "execution_count": 4,
   "metadata": {},
   "outputs": [
    {
     "name": "stdout",
     "output_type": "stream",
     "text": [
      "                        0           1\n",
      "0   uid://A001/X1288/Xba6  229.371212\n",
      "1   uid://A001/X1288/Xba6  227.554755\n",
      "2   uid://A001/X1288/Xba6  241.511633\n",
      "3   uid://A001/X1288/Xba6  243.760018\n",
      "4   uid://A001/X1288/Xba8  241.511635\n",
      "5   uid://A001/X1288/Xba8  229.371216\n",
      "6   uid://A001/X1288/Xba8  227.554761\n",
      "7   uid://A001/X1288/Xba8  243.760022\n",
      "8    uid://A001/X87a/X70a  229.366824\n",
      "9    uid://A001/X87a/X70a  230.733216\n",
      "10   uid://A001/X87a/X70a  243.689992\n",
      "11   uid://A001/X87a/X70a  245.564814\n",
      "12   uid://A001/X87a/X708  245.565477\n",
      "13   uid://A001/X87a/X708  229.366820\n",
      "14   uid://A001/X87a/X708  230.732386\n",
      "15   uid://A001/X87a/X708  243.690784\n",
      "16   uid://A001/X87a/X706  229.366802\n",
      "17   uid://A001/X87a/X706  230.733207\n",
      "18   uid://A001/X87a/X706  245.564776\n",
      "19   uid://A001/X87a/X706  243.689957\n"
     ]
    }
   ],
   "source": [
    "print(p)"
   ]
  },
  {
   "cell_type": "code",
   "execution_count": 5,
   "metadata": {},
   "outputs": [
    {
     "name": "stdout",
     "output_type": "stream",
     "text": [
      "CPU times: user 2.83 ms, sys: 0 ns, total: 2.83 ms\n",
      "Wall time: 2.6 ms\n"
     ]
    }
   ],
   "source": [
    "%time p=pd.DataFrame(a.sql(\"SELECT obs_id,frequency FROM alma WHERE alma.target_name = 'NGC3504'\"))"
   ]
  },
  {
   "cell_type": "code",
   "execution_count": 6,
   "metadata": {},
   "outputs": [
    {
     "name": "stdout",
     "output_type": "stream",
     "text": [
      "                        0           1\n",
      "0   uid://A001/X1288/Xba6  227.554755\n",
      "1   uid://A001/X1288/Xba6  241.511633\n",
      "2   uid://A001/X1288/Xba6  243.760018\n",
      "3   uid://A001/X1288/Xba6  229.371212\n",
      "4   uid://A001/X1288/Xba8  227.554761\n",
      "5   uid://A001/X1288/Xba8  241.511635\n",
      "6   uid://A001/X1288/Xba8  243.760022\n",
      "7   uid://A001/X1288/Xba8  229.371216\n",
      "8    uid://A001/X87a/X706  245.564776\n",
      "9    uid://A001/X87a/X706  229.366802\n",
      "10   uid://A001/X87a/X706  230.733207\n",
      "11   uid://A001/X87a/X706  243.689957\n",
      "12   uid://A001/X87a/X708  245.565477\n",
      "13   uid://A001/X87a/X708  229.366820\n",
      "14   uid://A001/X87a/X708  230.732386\n",
      "15   uid://A001/X87a/X708  243.690784\n",
      "16   uid://A001/X87a/X70a  229.366824\n",
      "17   uid://A001/X87a/X70a  230.733216\n",
      "18   uid://A001/X87a/X70a  243.689992\n",
      "19   uid://A001/X87a/X70a  245.564814\n",
      "20  uid://A001/X1288/Xba6  227.554755\n",
      "21  uid://A001/X1288/Xba6  241.511633\n",
      "22  uid://A001/X1288/Xba6  243.760018\n",
      "23  uid://A001/X1288/Xba6  229.371212\n",
      "24  uid://A001/X1288/Xba8  227.554761\n",
      "25  uid://A001/X1288/Xba8  241.511635\n",
      "26  uid://A001/X1288/Xba8  243.760022\n",
      "27  uid://A001/X1288/Xba8  229.371216\n",
      "28   uid://A001/X87a/X706  245.564776\n",
      "29   uid://A001/X87a/X706  229.366802\n",
      "30   uid://A001/X87a/X706  230.733207\n",
      "31   uid://A001/X87a/X706  243.689957\n",
      "32   uid://A001/X87a/X708  245.565477\n",
      "33   uid://A001/X87a/X708  229.366820\n",
      "34   uid://A001/X87a/X708  230.732386\n",
      "35   uid://A001/X87a/X708  243.690784\n",
      "36   uid://A001/X87a/X70a  229.366824\n",
      "37   uid://A001/X87a/X70a  230.733216\n",
      "38   uid://A001/X87a/X70a  243.689992\n",
      "39   uid://A001/X87a/X70a  245.564814\n"
     ]
    }
   ],
   "source": [
    "print(p)"
   ]
  }
 ],
 "metadata": {
  "kernelspec": {
   "display_name": "Python 3",
   "language": "python",
   "name": "python3"
  },
  "language_info": {
   "codemirror_mode": {
    "name": "ipython",
    "version": 3
   },
   "file_extension": ".py",
   "mimetype": "text/x-python",
   "name": "python",
   "nbconvert_exporter": "python",
   "pygments_lexer": "ipython3",
   "version": "3.8.3"
  }
 },
 "nbformat": 4,
 "nbformat_minor": 4
}
