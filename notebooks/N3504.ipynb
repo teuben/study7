{
 "cells": [
  {
   "cell_type": "markdown",
   "metadata": {},
   "source": [
    "# NGC3504 and alma queries"
   ]
  },
  {
   "cell_type": "code",
   "execution_count": 1,
   "metadata": {},
   "outputs": [],
   "source": [
    "from astroquery.alma import Alma\n",
    "q2 = \"SELECT * FROM ivoa.obscore WHERE target_name = 'NGC3504'\"\n",
    "r2 = Alma.query_tap(q2)"
   ]
  },
  {
   "cell_type": "code",
   "execution_count": 2,
   "metadata": {},
   "outputs": [],
   "source": [
    "t2 = r2.to_table()"
   ]
  },
  {
   "cell_type": "code",
   "execution_count": 3,
   "metadata": {},
   "outputs": [],
   "source": [
    "keys = t2.keys()"
   ]
  },
  {
   "cell_type": "markdown",
   "metadata": {},
   "source": [
    "The first 4 are the 4 spw's of a particular observation (one of two,  4:8 is the othe, Xba8, one)"
   ]
  },
  {
   "cell_type": "code",
   "execution_count": 4,
   "metadata": {},
   "outputs": [
    {
     "data": {
      "text/html": [
       "&lt;MaskedColumn name=&apos;t_min&apos; dtype=&apos;float64&apos; unit=&apos;d&apos; description=&apos;start time of observation (MJD)&apos; length=8&gt;\n",
       "<table>\n",
       "<tr><td>58050.543677</td></tr>\n",
       "<tr><td>58050.543677</td></tr>\n",
       "<tr><td>58050.543677</td></tr>\n",
       "<tr><td>58050.543677</td></tr>\n",
       "<tr><td>58119.297186</td></tr>\n",
       "<tr><td>58119.297186</td></tr>\n",
       "<tr><td>58119.297186</td></tr>\n",
       "<tr><td>58119.297186</td></tr>\n",
       "</table>"
      ],
      "text/plain": [
       "<MaskedColumn name='t_min' dtype='float64' unit='d' description='start time of observation (MJD)' length=8>\n",
       "58050.543677\n",
       "58050.543677\n",
       "58050.543677\n",
       "58050.543677\n",
       "58119.297186\n",
       "58119.297186\n",
       "58119.297186\n",
       "58119.297186"
      ]
     },
     "execution_count": 4,
     "metadata": {},
     "output_type": "execute_result"
    }
   ],
   "source": [
    "t2['t_min'][0:8]"
   ]
  },
  {
   "cell_type": "code",
   "execution_count": 5,
   "metadata": {},
   "outputs": [
    {
     "name": "stdout",
     "output_type": "stream",
     "text": [
      "        obs_id       \n",
      "---------------------\n",
      "uid://A001/X1288/Xba6\n",
      "uid://A001/X1288/Xba6\n",
      "uid://A001/X1288/Xba6\n",
      "uid://A001/X1288/Xba6\n",
      "    frequency     \n",
      "       GHz        \n",
      "------------------\n",
      "229.37121211359016\n",
      "227.55475513556235\n",
      " 241.5116330110627\n",
      "243.76001773192164\n"
     ]
    }
   ],
   "source": [
    "t2a=t2[:4]\n",
    "print(t2a['obs_id'])\n",
    "print(t2a['frequency'])"
   ]
  },
  {
   "cell_type": "code",
   "execution_count": 6,
   "metadata": {},
   "outputs": [],
   "source": [
    "fs=t2a['frequency_support']"
   ]
  },
  {
   "cell_type": "code",
   "execution_count": 7,
   "metadata": {},
   "outputs": [
    {
     "data": {
      "text/plain": [
       "'[226.56..228.55GHz,31250.00kHz,384.8uJy/beam@10km/s,23.7uJy/beam@native, XX YY] U [228.43..230.31GHz,1128.91kHz,410.2uJy/beam@10km/s,26.2uJy/beam@native, XX YY] U [240.52..242.50GHz,31250.00kHz,428.5uJy/beam@10km/s,27.2uJy/beam@native, XX YY] U [242.77..244.75GHz,31250.00kHz,433.8uJy/beam@10km/s,27.7uJy/beam@native, XX YY]'"
      ]
     },
     "execution_count": 7,
     "metadata": {},
     "output_type": "execute_result"
    }
   ],
   "source": [
    "fs[0]"
   ]
  },
  {
   "cell_type": "code",
   "execution_count": 8,
   "metadata": {},
   "outputs": [
    {
     "data": {
      "text/plain": [
       "True"
      ]
     },
     "execution_count": 8,
     "metadata": {},
     "output_type": "execute_result"
    }
   ],
   "source": [
    "fs[0] == fs[3]\n"
   ]
  },
  {
   "cell_type": "code",
   "execution_count": 9,
   "metadata": {},
   "outputs": [
    {
     "name": "stdout",
     "output_type": "stream",
     "text": [
      "    obs_publisher_did              ADS/JAO.ALMA#2017.1.00964.S             \n",
      "    obs_collection                 ALMA                                    \n",
      "    facility_name                  JAO                                     \n",
      "    instrument_name                ALMA                                    \n",
      "    obs_id                         uid://A001/X1288/Xba6                   \n",
      "    dataproduct_type               cube                                    \n",
      "    calib_level                    2                                       \n",
      "    target_name                    NGC3504                                 \n",
      "    s_ra                           165.7965954294555                       \n",
      "    s_dec                          27.9724036111115                        \n",
      "    s_fov                          0.006863718695429476                    \n",
      "    s_region                       b'Circle ICRS 165.796595 27.972404 0.003432'\n",
      "    s_resolution                   0.034121085407438106                    \n",
      "    t_min                          58050.543677                            \n",
      "    t_max                          58050.593452                            \n",
      "    t_exptime                      2794.176                                \n",
      "    t_resolution                   2794.176                                \n",
      "    em_min                         0.0013017014810303316                   \n",
      "    em_max                         0.0013123794888043588                   \n",
      "    em_res_power                   204026.38849630405                      \n",
      "    pol_states                     /XX/YY/                                 \n",
      "    o_ucd                          phot.flux.density;phys.polarization     \n",
      "    access_url                     https://almascience.org/datalink/sync?ID=uid://A001/X1288/Xba6\n",
      "    access_format                  applicati                               \n",
      "    proposal_id                    2017.1.00964.S                          \n",
      "    data_rights                    Public                                  \n",
      "    gal_longitude                  204.6030009329745                       \n",
      "    gal_latitude                   66.03998009734265                       \n",
      "    band_list                      6                                       \n",
      "    em_resolution                  338410371550841.06                      \n",
      "    bandwidth                      1875000000.0                            \n",
      "    antenna_arrays                 A007:DV09 A015:DA61 A027:DV06 A087:DV25 A091:DA58 A092:DV14 A094:DV19 A096:PM01 A101:DA62 A104:DA47 A108:DA50 A110:DA41 A111:PM02 A115:DA43 A116:DV07 A118:DV01 A120:DA44 A121:DA55 A122:DV11 A123:DA42 A124:DA51 A125:DA53 A126:DV10 A127:DA49 A128:DV13 A129:DA46 A130:DV15 A131:PM03 A132:DV23 A133:PM04 A135:DA45 P401:DA65 P404:DV16 P407:DA57 P409:DV04 P410:DA64 P411:DV08 S301:DA60 S303:DA63 S305:DA59 S306:DV12 S307:DV05 S308:DA52 W203:DV24 W207:DV17 W209:DA48\n",
      "    is_mosaic                      F                                       \n",
      "    obs_release_date               b'2018-11-29T18:49:04.000'              \n",
      "    spatial_resolution             0.034121085407438106                    \n",
      "    frequency_support              [226.56..228.55GHz,31250.00kHz,384.8uJy/beam@10km/s,23.7uJy/beam@native, XX YY] U [228.43..230.31GHz,1128.91kHz,410.2uJy/beam@10km/s,26.2uJy/beam@native, XX YY] U [240.52..242.50GHz,31250.00kHz,428.5uJy/beam@10km/s,27.2uJy/beam@native, XX YY] U [242.77..244.75GHz,31250.00kHz,433.8uJy/beam@10km/s,27.7uJy/beam@native, XX YY]\n",
      "    frequency                      229.37121211359016                      \n",
      "    velocity_resolution            1469.3808002459973                      \n",
      "    obs_creator_name               Nguyen, Dieu                            \n",
      "    pub_title                      ALMACAL - VI. Molecular gas mass density across cosmic time via a blind search for intervening molecular absorbers Auto-multithresh: A General Purpose Automasking Algorithm The MBHBM<SUB>⋆</SUB> Project. I. Measurement of the Central Black Hole Mass in S\n",
      "    first_author                   Kepley, Amanda A. Klitsch, Anne Nguyen, Dieu D.\n",
      "    authors                        Kepley, Amanda A.; Tsutsumi, Takahiro; Brogan, Crystal L.; Indebetouw, Remy; Yoon, Ilsang; Mason, Brian; Donovan Meyer, Jennifer Klitsch, Anne; Péroux, Céline; Zwaan, Martin A.; Smail, Ian; Nelson, Dylan; Popping, Gergö; Chen, Chian-Chou; Diemer, Benedikt; Ivison, R. J.; Allison, James R.; Muller, Sébastien; Swinbank, A. Mark; Hamanowicz, Aleksandra; Biggs, Andrew D.; Dutta, Rajeshwari Nguyen, Dieu D.; Bureau, Martin; Thater, Sabine; Nyland, Kristina; den Brok, Mark; Cappellari, Michele; Davis, Timothy A.; Greene, Jenny E.; Neumayer, Nadine; Imanishi, Masatoshi; Izumi, Takuma; Kawamuro, Taiki; Baba, Shunsuke; Nguyen, Phuong M.; Iguchi, Satoru; Tsukui, Takafumi; Lam, T. N.; Ho, Than Nguyen, Dieu D.; den Brok, Mark; Seth, Anil C.; Davis, Timothy A.; Greene, Jenny E.; Cappellari, Michelle; Jensen, Joseph B.; Thater, Sabine; Iguchi, Satoru; Imanishi, Masatoshi; Izumi, Takuma; Nyland, Kristina; Neumayer, Nadine; Nakanishi, Kouichiro; Nguyen, Phuong M.; Tsukui, Takafumi; Bureau, Martin; Onishi, Kyoko; Nguyen, Quang L.; Le, Ngan M.\n",
      "    pub_abstract                   As part of the Measuring Black Holes in below Milky Way-mass (M<SUP>⋆</SUP>) galaxies (MBHBM<SUP>⋆</SUP>) Project, we present a dynamical measurement of the supermassive black hole (SMBH) mass in the nearby lenticular galaxy NGC 3593, using cold molecular gas <SUP>12</SUP>CO(2-1) emission observed at an angular resolution of ≍0${_{.}^{\\prime\\prime}}$3 (≍10 pc) with the Atacama Large Millimeter/submillimeter Array (ALMA). Our ALMA observations reveal a circumnuclear molecular gas disc (CND) elongated along the galaxy major axis and rotating around the SMBH. This CND has a relatively low-velocity dispersion (≲10 km s<SUP>-1</SUP>) and is morphologically complex, with clumps having higher integrated intensities and velocity dispersions (≲25 km s<SUP>-1</SUP>). These clumps are distributed along the ridges of a two-arm/bi-symmetric spiral pattern surrounded by a larger ring-like structure (radius r ≍ 10 arcsec or ≍350 pc). This pattern likely plays an important role to bridge the molecular gas reservoirs in the CND and beyond (10 ≲ r ≲ 35 arcsec or 350 pc ≲ r ≲ 1.2 kpc). Using dynamical modelling, the molecular gas kinematics allow us to infer an SMBH mass $M_{\\rm BH}=2.40_{-1.05}^{+1.87}\\times 10^6$ M<SUB>⊙</SUB> (only statistical uncertainties at the 3σ level). We also detect a massive core of cold molecular gas (CMC) of mass M<SUB>CMC</SUB> = (5.4 ± 1.2) × 10<SUP>6</SUP> M<SUB>⊙</SUB> and effective (half-mass) radius r<SUB>CMC,e</SUB> = 11.2 ± 2.8 pc, co-spatial with a nuclear star cluster (NSC) of mass M<SUB>NSC</SUB> = (1.67 ± 0.48) × 10<SUP>7</SUP> M<SUB>⊙</SUB> and effective radius r<SUB>NSC,e</SUB> = 5.0 ± 1.0 pc (or 0${_{.}^{\\prime\\prime}}$15 ± 0${_{.}^{\\prime\\prime}}$03). The mass profiles of the CMC and NSC are well described by Sérsic functions with indices 1-1.4. Our M<SUB>BH</SUB> and M<SUB>NSC</SUB> estimates for NGC 3593 agree well with the recently compiled M<SUB>BH</SUB>-M<SUB>NSC</SUB> scaling relation. Although the M<SUB>NSC</SUB> uncertainty is twice the inferred M<SUB>BH</SUB>, the rapid central rise of the rotation velocities of the CND (as the radius decreases) clearly suggests an SMBH. Indeed, our dynamical models show that even if M<SUB>NSC</SUB> is at the upper end of its allowed range, the evidence for a BH does not vanish, but remains with a lower limit of M<SUB>BH</SUB> &gt; 3 × 10<SUP>5</SUP> M<SUB>⊙</SUB>. ...(3)\n",
      "    publication_year               2019                                    \n",
      "    proposal_abstract              We propose to use ALMA observations to make robust dynamical measurements of supermassive black holes masses in a sample of 7 nearby low-mass galaxies in various Hubble type. The high resolution of ALMA observations will carry out the map of the kinematics of the rotating the nuclear molecular gas disk, resolve the black holes' sphere of influence, and measure the black hole mass precisely. Our efficient observations will carry out a better dynamical modeling constraining on these black hole masses in a larger sample of low-mass galaxies than the dynamical models of stars and ionized gas. More importantly, these measurements will provide new constraints (1) on the occupation fraction of low-mass galaxies hosting black holes, an important measurement for understanding the formation of the first black hole progenitors in the early Universe, (2) on the physics underlying the host galaxy properties vs. black hole mass scaling relations in the less understood regime of the low-mass end of both black holes and host galaxies, and (3) quantify the slopes and scatters in these relations.\n",
      "    schedblock_name                NGC3504_a_06_TM1                        \n",
      "    proposal_authors               Greene, Jenny; Seth, Anil; Onishi, Kyoko; Nyland, Kristina; Nguyen, Phuong; Iguchi, Satoru; Bureau, Martin; den Brok, Mark; Dinh, Trung; Davis, Timothy; Neumayer, Nadine;\n",
      "    sensitivity_10kms              0.41023623014294164                     \n",
      "    cont_sensitivity_bandwidth     0.013024243494318813                    \n",
      "    pwv                            0.7503407                               \n",
      "    group_ous_uid                  uid://A001/X1288/Xba5                   \n",
      "    member_ous_uid                 uid://A001/X1288/Xba6                   \n",
      "    asdm_uid                       uid://A002/Xc5fe11/X4712                \n",
      "    obs_title                      Weighing Black Hole Masses in Low-Mass Galaxies\n",
      "    type                           S                                       \n",
      "    scan_intent                    TARGET                                  \n",
      "    science_observation            T                                       \n",
      "    spatial_scale_max              0.916163907966946                       \n",
      "    qa2_passed                     T                                       \n",
      "    bib_reference                  2019MNRAS.490.1220K 2020ApJ...892...68N 2020PASP..132b4505K 2022MNRAS.509.2920N\n",
      "    science_keyword                Surveys of galaxies, Galactic centres/nuclei\n",
      "    scientific_category            Galaxy evolution                        \n",
      "    lastModified                   b'2022-02-14T16:53:42.403'              \n"
     ]
    }
   ],
   "source": [
    "for k in keys:\n",
    "    print(\"    %-30s %-40s\" % (k,t2a[k][0]))"
   ]
  },
  {
   "cell_type": "code",
   "execution_count": null,
   "metadata": {},
   "outputs": [],
   "source": []
  }
 ],
 "metadata": {
  "kernelspec": {
   "display_name": "Python 3",
   "language": "python",
   "name": "python3"
  },
  "language_info": {
   "codemirror_mode": {
    "name": "ipython",
    "version": 3
   },
   "file_extension": ".py",
   "mimetype": "text/x-python",
   "name": "python",
   "nbconvert_exporter": "python",
   "pygments_lexer": "ipython3",
   "version": "3.8.3"
  }
 },
 "nbformat": 4,
 "nbformat_minor": 4
}
