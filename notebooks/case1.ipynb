{
 "cells": [
  {
   "cell_type": "markdown",
   "metadata": {},
   "source": [
    "# Science Case #1:\n",
    "\n",
    "Find all <source-type> within a given area of the sky with emission from\n",
    "<molecule(s)> detected.\n"
   ]
  },
  {
   "cell_type": "markdown",
   "metadata": {},
   "source": [
    "The science motivation might be to find all young stellar objects (YSOs) in Taurus with ALMA\n",
    "detections of CO J=2-1. The return from this query would include images of the moment maps of\n",
    "CO emission, peak intensity, resolution, noise, correlator setting, and other relevant information\n",
    "from any Taurus YSOs (as identified by science keywords, abstract text, SIMBAD coordinate\n",
    "matches) in the publicly accessible ALMA Science Archive. The user could identify which data\n",
    "are appropriate for their study an pull the u,v data or image cubes of interest from the archive.\n",
    "\n",
    "Optionally, the user could then create a query to retrieve the full set of science products for all\n",
    "sources, or the sources of interest. This would allow exploration of continuum and other lines\n",
    "detected in the same observations. The quantitative data are returned as tables in the user’s\n",
    "Python environment (for example Jupyter notebook) which can then be manipulated (see Section\n",
    "4), for example to produce a plot of continuum flux versus CO integrated intensity or CO\n",
    "intensity versus [13CO/12CO] intensity ratio.\n",
    "\n"
   ]
  },
  {
   "cell_type": "code",
   "execution_count": null,
   "metadata": {},
   "outputs": [],
   "source": [
    "from astroquery.admit import ADMIT, ADMIT_FORM_KEYS\n",
    "from astroquery.alma import Alma, tapsql\n",
    "from astropy.coordinates import SkyCoord\n",
    "import pandas as pd\n",
    "# display the whole table inthe notebook\n",
    "pd.set_option('display.max_rows', None)\n",
    "pd.set_option('display.max_columns', None)\n",
    "pd.set_option('display.width', None)\n",
    "pd.set_option('display.max_colwidth',25)\n",
    "cols_to_exclude = ['id','project_abstract','obs_title','fcoverage','science_keyword']\n"
   ]
  },
  {
   "cell_type": "code",
   "execution_count": null,
   "metadata": {},
   "outputs": [],
   "source": [
    "a = ADMIT()\n",
    "a.check()\n",
    "a.key_description.show_in_notebook()"
   ]
  },
  {
   "cell_type": "code",
   "execution_count": null,
   "metadata": {},
   "outputs": [],
   "source": [
    "#a.keys"
   ]
  },
  {
   "cell_type": "code",
   "execution_count": null,
   "metadata": {},
   "outputs": [],
   "source": [
    "# correct result should have one row\n",
    "result = a.query(formula=\"CO\", transition=\"2-1\", project_abstract=\"*Black Hole*\")\n",
    "len(result)"
   ]
  },
  {
   "cell_type": "code",
   "execution_count": null,
   "metadata": {},
   "outputs": [],
   "source": [
    "#columns to include \n",
    "ci = [x for x in result.columns if x not in cols_to_exclude]\n",
    "result[ci]"
   ]
  },
  {
   "cell_type": "code",
   "execution_count": null,
   "metadata": {},
   "outputs": [],
   "source": [
    "result=a.query(source_name_alma=\"NGC3049\",mom0flux=\">0\")\n",
    "len(result) "
   ]
  },
  {
   "cell_type": "code",
   "execution_count": null,
   "metadata": {},
   "outputs": [],
   "source": [
    "result"
   ]
  },
  {
   "cell_type": "code",
   "execution_count": null,
   "metadata": {},
   "outputs": [],
   "source": [
    "result=a.query(source_name_alma='NGC3049',formula=\"*CO*\")\n",
    "len(result)"
   ]
  },
  {
   "cell_type": "code",
   "execution_count": null,
   "metadata": {},
   "outputs": [],
   "source": [
    "result"
   ]
  },
  {
   "cell_type": "markdown",
   "metadata": {},
   "source": [
    "### Example of how to exclude columns listed in the first cell"
   ]
  },
  {
   "cell_type": "code",
   "execution_count": null,
   "metadata": {},
   "outputs": [],
   "source": [
    "#columns to include \n",
    "ci = [x for x in result.columns if x not in cols_to_exclude]\n",
    "result[ci]"
   ]
  },
  {
   "cell_type": "code",
   "execution_count": null,
   "metadata": {},
   "outputs": [],
   "source": [
    "result=a.query(source_name_alma='NGC3504',formula=\"CS\")\n",
    "len(result)"
   ]
  },
  {
   "cell_type": "code",
   "execution_count": null,
   "metadata": {},
   "outputs": [],
   "source": [
    "result[ci]"
   ]
  },
  {
   "cell_type": "code",
   "execution_count": null,
   "metadata": {},
   "outputs": [],
   "source": [
    "result1 = a.query(source_name_alma=\"NGC3504\")\n",
    "#result2 = a.query(source_name_resolver='ngc3504')\n",
    "sql = \"select * from alma where alma.target_name='NGC3504'\"\n",
    "result2 = a.sql(sql)\n",
    "result2=pd.DataFrame(result2,columns=a._colnames['alma'])\n",
    "result3 = a.query(source_name_alma=\"NGC3504\",mom0flux=\">-1\")"
   ]
  },
  {
   "cell_type": "code",
   "execution_count": null,
   "metadata": {},
   "outputs": [],
   "source": [
    "print(len(result1),len(result2),len(result3))"
   ]
  },
  {
   "cell_type": "code",
   "execution_count": null,
   "metadata": {},
   "outputs": [],
   "source": [
    "result1\n"
   ]
  },
  {
   "cell_type": "code",
   "execution_count": null,
   "metadata": {},
   "outputs": [],
   "source": [
    "result=a.query(scientific_category=\"galaxy evolution\")  # case sensitive! returns zero results\n",
    "len(result)"
   ]
  },
  {
   "cell_type": "code",
   "execution_count": null,
   "metadata": {},
   "outputs": [],
   "source": [
    "result=a.query(win_snr=\">1\",source_name_alma=\"NGC3049\") \n",
    "len(result)"
   ]
  },
  {
   "cell_type": "code",
   "execution_count": null,
   "metadata": {},
   "outputs": [],
   "source": [
    "result"
   ]
  },
  {
   "cell_type": "markdown",
   "metadata": {
    "tags": []
   },
   "source": [
    "-------------------\n",
    "tinker code below"
   ]
  },
  {
   "cell_type": "code",
   "execution_count": null,
   "metadata": {},
   "outputs": [],
   "source": [
    "_gen_numeric_sql = _gen_str_sql = _gen_pos_sql = _gen_spec_res_sql = _gen_band_list_sql = _gen_datetime_sql = _gen_pol_sql = None"
   ]
  },
  {
   "cell_type": "code",
   "execution_count": null,
   "metadata": {},
   "outputs": [],
   "source": [
    "ADMIT_FORM_KEYS[\"Lines\"].values()"
   ]
  },
  {
   "cell_type": "code",
   "execution_count": null,
   "metadata": {},
   "outputs": [],
   "source": [
    "ADMIT_FORM_KEYS.keys()"
   ]
  },
  {
   "cell_type": "code",
   "execution_count": null,
   "metadata": {},
   "outputs": [],
   "source": [
    "if False:\n",
    "    result1 = Alma.query_tap(\"select * from ivoa.obscore WHERE target_name = 'NGC3504'\")\n",
    "    result2 = Alma.query_tap(\"select * from ivoa.obscore WHERE target_name = 'ngc3504'\")\n",
    "    coord = SkyCoord.from_name('ngc3504')\n",
    "    print(coord)\n",
    "    sqlcoord = tapsql._gen_pos_sql('SkyCoord.from_name','ngc3504')\n",
    "    print(sqlcoord)\n",
    "    sql = \"select * from ivoa.obscore WHERE source_name_resolver = '\" +sqlcoord+\"'\"\n",
    "    print(sql)\n",
    "    if False:\n",
    "        result3 = Alma.query_tap(sql) # fails    "
   ]
  }
 ],
 "metadata": {
  "kernelspec": {
   "display_name": "Python 3 (ipykernel)",
   "language": "python",
   "name": "python3"
  },
  "language_info": {
   "codemirror_mode": {
    "name": "ipython",
    "version": 3
   },
   "file_extension": ".py",
   "mimetype": "text/x-python",
   "name": "python",
   "nbconvert_exporter": "python",
   "pygments_lexer": "ipython3",
   "version": "3.9.7"
  }
 },
 "nbformat": 4,
 "nbformat_minor": 4
}
