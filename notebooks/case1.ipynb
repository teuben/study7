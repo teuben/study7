{
 "cells": [
  {
   "cell_type": "markdown",
   "metadata": {},
   "source": [
    "# Science Case #1:\n",
    "\n",
    "Find all <source-type> within a given area of the sky with emission from\n",
    "<molecule(s)> detected.\n"
   ]
  },
  {
   "cell_type": "markdown",
   "metadata": {},
   "source": [
    "The science motivation might be to find all young stellar objects (YSOs) in Taurus with ALMA\n",
    "detections of CO J=2-1. The return from this query would include images of the moment maps of\n",
    "CO emission, peak intensity, resolution, noise, correlator setting, and other relevant information\n",
    "from any Taurus YSOs (as identified by science keywords, abstract text, SIMBAD coordinate\n",
    "matches) in the publicly accessible ALMA Science Archive. The user could identify which data\n",
    "are appropriate for their study an pull the u,v data or image cubes of interest from the archive.\n",
    "\n",
    "Optionally, the user could then create a query to retrieve the full set of science products for all\n",
    "sources, or the sources of interest. This would allow exploration of continuum and other lines\n",
    "detected in the same observations. The quantitative data are returned as tables in the user’s\n",
    "Python environment (for example Jupyter notebook) which can then be manipulated (see Section\n",
    "4), for example to produce a plot of continuum flux versus CO integrated intensity or CO\n",
    "intensity versus [13CO/12CO] intensity ratio.\n",
    "\n"
   ]
  },
  {
   "cell_type": "code",
   "execution_count": null,
   "metadata": {},
   "outputs": [],
   "source": []
  }
 ],
 "metadata": {
  "kernelspec": {
   "display_name": "Python 3",
   "language": "python",
   "name": "python3"
  },
  "language_info": {
   "codemirror_mode": {
    "name": "ipython",
    "version": 3
   },
   "file_extension": ".py",
   "mimetype": "text/x-python",
   "name": "python",
   "nbconvert_exporter": "python",
   "pygments_lexer": "ipython3",
   "version": "3.8.3"
  }
 },
 "nbformat": 4,
 "nbformat_minor": 4
}
