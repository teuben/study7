{
 "cells": [
  {
   "cell_type": "markdown",
   "metadata": {},
   "source": [
    "# Science Case #1:\n",
    "\n",
    "Find all <source-type> within a given area of the sky with emission from\n",
    "<molecule(s)> detected.\n"
   ]
  },
  {
   "cell_type": "markdown",
   "metadata": {},
   "source": [
    "The science motivation might be to find all young stellar objects (YSOs) in Taurus with ALMA\n",
    "detections of CO J=2-1. The return from this query would include images of the moment maps of\n",
    "CO emission, peak intensity, resolution, noise, correlator setting, and other relevant information\n",
    "from any Taurus YSOs (as identified by science keywords, abstract text, SIMBAD coordinate\n",
    "matches) in the publicly accessible ALMA Science Archive. The user could identify which data\n",
    "are appropriate for their study an pull the u,v data or image cubes of interest from the archive.\n",
    "\n",
    "Optionally, the user could then create a query to retrieve the full set of science products for all\n",
    "sources, or the sources of interest. This would allow exploration of continuum and other lines\n",
    "detected in the same observations. The quantitative data are returned as tables in the user’s\n",
    "Python environment (for example Jupyter notebook) which can then be manipulated (see Section\n",
    "4), for example to produce a plot of continuum flux versus CO integrated intensity or CO\n",
    "intensity versus [13CO/12CO] intensity ratio.\n",
    "\n"
   ]
  },
  {
   "cell_type": "code",
   "execution_count": 1,
   "metadata": {},
   "outputs": [],
   "source": [
    "from astroquery.admit import ADMIT, ADMIT_FORM_KEYS\n",
    "from astroquery.alma import Alma, tapsql\n",
    "from astropy.coordinates import SkyCoord\n",
    "from astropy import units as u\n",
    "import pandas as pd\n",
    "# display the whole table inthe notebook\n",
    "pd.set_option('display.max_rows', None)\n",
    "pd.set_option('display.max_columns', None)\n",
    "pd.set_option('display.width', None)\n",
    "pd.set_option('display.max_colwidth',25)\n",
    "cols_to_exclude = ['id','project_abstract','obs_title','fcoverage','science_keyword']\n"
   ]
  },
  {
   "cell_type": "code",
   "execution_count": 2,
   "metadata": {},
   "outputs": [
    {
     "name": "stdout",
     "output_type": "stream",
     "text": [
      "Found  /home/mpound/src/astroumd/study7/query/admit.db\n",
      "Checking db.... 0\n",
      "71 71 71\n",
      "header    : 103 entries\n",
      "alma      : 103 entries\n",
      "win       : 103 entries\n",
      "lines     : 26 entries\n",
      "sources   : 268 entries\n"
     ]
    },
    {
     "data": {
      "text/html": [
       "<i>Table length=71</i>\n",
       "<table id=\"table139865406301616-293685\" class=\"table-striped table-bordered table-condensed\">\n",
       "<thead><tr><th>idx</th><th>Keyword</th><th>Description</th><th>Database Table</th></tr></thead>\n",
       "<tr><td>0</td><td>alma_id</td><td>ALMA ID</td><td>Window</td></tr>\n",
       "<tr><td>1</td><td>win_id</td><td>Spectral window ID</td><td>Window</td></tr>\n",
       "<tr><td>2</td><td>spw</td><td>Spectral window name</td><td>Window</td></tr>\n",
       "<tr><td>3</td><td>nlines</td><td>Number of lines</td><td>Window</td></tr>\n",
       "<tr><td>4</td><td>nsources</td><td>Number of sources</td><td>Window</td></tr>\n",
       "<tr><td>5</td><td>nchan</td><td>Number of channels</td><td>Window</td></tr>\n",
       "<tr><td>6</td><td>win_peak</td><td>Window peak flux</td><td>Window</td></tr>\n",
       "<tr><td>7</td><td>win_rms</td><td>Window RMS noise</td><td>Window</td></tr>\n",
       "<tr><td>8</td><td>win_snr</td><td>Window Signal to noise ratio (peak/rms)</td><td>Window</td></tr>\n",
       "<tr><td>9</td><td>bmaj</td><td>Beam major axis</td><td>Window</td></tr>\n",
       "<tr><td>10</td><td>bmin</td><td>Beam minor axis</td><td>Window</td></tr>\n",
       "<tr><td>11</td><td>bpa</td><td>Beam PA</td><td>Window</td></tr>\n",
       "<tr><td>12</td><td>freqc</td><td>Frequency center (GHz)</td><td>Window</td></tr>\n",
       "<tr><td>13</td><td>freqw</td><td>Frequency width (GHz)</td><td>Window</td></tr>\n",
       "<tr><td>14</td><td>vlsr</td><td>LSR Velocity (km/s)</td><td>Window</td></tr>\n",
       "<tr><td>15</td><td>fcoverage</td><td>Frequency coverage?</td><td>Window</td></tr>\n",
       "<tr><td>16</td><td>l_win_id</td><td>Spectral window ID(L)</td><td>Lines</td></tr>\n",
       "<tr><td>17</td><td>restfreq</td><td>Rest frequency</td><td>Lines</td></tr>\n",
       "<tr><td>18</td><td>formula</td><td>Formula</td><td>Lines</td></tr>\n",
       "<tr><td>19</td><td>transition</td><td>Transition</td><td>Lines</td></tr>\n",
       "<tr><td>20</td><td>velocity</td><td>Velocity</td><td>Lines</td></tr>\n",
       "<tr><td>21</td><td>vmin</td><td>Minimum velocity</td><td>Lines</td></tr>\n",
       "<tr><td>22</td><td>vmax</td><td>Maximum velocity</td><td>Lines</td></tr>\n",
       "<tr><td>23</td><td>mom0flux</td><td>Moment zero flux</td><td>Lines</td></tr>\n",
       "<tr><td>24</td><td>mom1peak</td><td>Moment one peak</td><td>Lines</td></tr>\n",
       "<tr><td>25</td><td>mom2peak</td><td>Moment two peak (km/s)</td><td>Lines</td></tr>\n",
       "<tr><td>26</td><td>s_win_id</td><td>Spectral Window ID(S)</td><td>Sources</td></tr>\n",
       "<tr><td>27</td><td>lines_id</td><td>Line ID</td><td>Sources</td></tr>\n",
       "<tr><td>28</td><td>ra</td><td>RA (Degrees)</td><td>Sources</td></tr>\n",
       "<tr><td>29</td><td>dec</td><td>Dec (Degrees)</td><td>Sources</td></tr>\n",
       "<tr><td>30</td><td>flux</td><td>Flux</td><td>Sources</td></tr>\n",
       "<tr><td>31</td><td>source_snr</td><td>Source Signal to noise ratio</td><td>Sources</td></tr>\n",
       "<tr><td>32</td><td>source_peak</td><td>Source Peak flux</td><td>Sources</td></tr>\n",
       "<tr><td>33</td><td>smaj</td><td>Source major axis</td><td>Sources</td></tr>\n",
       "<tr><td>34</td><td>smin</td><td>Source minor axis</td><td>Sources</td></tr>\n",
       "<tr><td>35</td><td>spa</td><td>Source PA</td><td>Sources</td></tr>\n",
       "<tr><td>36</td><td>region</td><td>Region</td><td>Sources</td></tr>\n",
       "<tr><td>37</td><td>header_key</td><td>Key</td><td>Header</td></tr>\n",
       "<tr><td>38</td><td>header_val</td><td>Value</td><td>Header</td></tr>\n",
       "<tr><td>39</td><td>obs_id</td><td>Observation</td><td>Alma</td></tr>\n",
       "<tr><td>40</td><td>source_name_resolver</td><td>Source name (astropy Resolver)</td><td>Alma</td></tr>\n",
       "<tr><td>41</td><td>source_name_alma</td><td>Source name (ALMA)</td><td>Alma</td></tr>\n",
       "<tr><td>42</td><td>ra_dec</td><td>RA Dec (Sexagesimal)</td><td>Alma</td></tr>\n",
       "<tr><td>43</td><td>galactic</td><td>Galactic (Degrees)</td><td>Alma</td></tr>\n",
       "<tr><td>44</td><td>spatial_resolution</td><td>Angular resolution (arcsec)</td><td>Alma</td></tr>\n",
       "<tr><td>45</td><td>spatial_scale_max</td><td>Largest angular scale (arcsec)</td><td>Alma</td></tr>\n",
       "<tr><td>46</td><td>fov</td><td>Field of view (arcsec)</td><td>Alma</td></tr>\n",
       "<tr><td>47</td><td>frequency</td><td>Frequency (GHz)</td><td>Alma</td></tr>\n",
       "<tr><td>48</td><td>bandwidth</td><td>Bandwidth (Hz)</td><td>Alma</td></tr>\n",
       "<tr><td>49</td><td>spectral_resolution</td><td>Spectral resolution (KHz)</td><td>Alma</td></tr>\n",
       "<tr><td>50</td><td>band_list</td><td>Band</td><td>Alma</td></tr>\n",
       "<tr><td>51</td><td>start_date</td><td>Observation date</td><td>Alma</td></tr>\n",
       "<tr><td>52</td><td>integration_time</td><td>Integration time (s)</td><td>Alma</td></tr>\n",
       "<tr><td>53</td><td>polarisation_type</td><td>Polarisation type (Single, Dual, Full)</td><td>Alma</td></tr>\n",
       "<tr><td>54</td><td>line_sensitivity</td><td>Line sensitivity (10 km/s) (mJy/beam)</td><td>Alma</td></tr>\n",
       "<tr><td>55</td><td>continuum_sensitivity</td><td>Continuum sensitivity (mJy/beam)</td><td>Alma</td></tr>\n",
       "<tr><td>56</td><td>water_vapour</td><td>Water vapour (mm)</td><td>Alma</td></tr>\n",
       "<tr><td>57</td><td>project_code</td><td>Project code</td><td>Alma</td></tr>\n",
       "<tr><td>58</td><td>project_title</td><td>Project title</td><td>Alma</td></tr>\n",
       "<tr><td>59</td><td>pi_name</td><td>PI name</td><td>Alma</td></tr>\n",
       "<tr><td>60</td><td>proposal_authors</td><td>Proposal authors</td><td>Alma</td></tr>\n",
       "<tr><td>61</td><td>project_abstract</td><td>Project abstract</td><td>Alma</td></tr>\n",
       "<tr><td>62</td><td>publication_count</td><td>Publication count</td><td>Alma</td></tr>\n",
       "<tr><td>63</td><td>science_keyword</td><td>Science keyword</td><td>Alma</td></tr>\n",
       "<tr><td>64</td><td>scientific_category</td><td>Scientific category</td><td>Alma</td></tr>\n",
       "<tr><td>65</td><td>bibcode</td><td>Bibcode</td><td>Alma</td></tr>\n",
       "<tr><td>66</td><td>pub_title</td><td>Title</td><td>Alma</td></tr>\n",
       "<tr><td>67</td><td>first_author</td><td>First author</td><td>Alma</td></tr>\n",
       "<tr><td>68</td><td>authors</td><td>Authors</td><td>Alma</td></tr>\n",
       "<tr><td>69</td><td>pub_abstract</td><td>Abstract</td><td>Alma</td></tr>\n",
       "<tr><td>70</td><td>publication_year</td><td>Year</td><td>Alma</td></tr>\n",
       "</table><style>table.dataTable {clear: both; width: auto !important; margin: 0 !important;}\n",
       ".dataTables_info, .dataTables_length, .dataTables_filter, .dataTables_paginate{\n",
       "display: inline-block; margin-right: 1em; }\n",
       ".paginate_button { margin-right: 5px; }\n",
       "</style>\n",
       "<script>\n",
       "\n",
       "var astropy_sort_num = function(a, b) {\n",
       "    var a_num = parseFloat(a);\n",
       "    var b_num = parseFloat(b);\n",
       "\n",
       "    if (isNaN(a_num) && isNaN(b_num))\n",
       "        return ((a < b) ? -1 : ((a > b) ? 1 : 0));\n",
       "    else if (!isNaN(a_num) && !isNaN(b_num))\n",
       "        return ((a_num < b_num) ? -1 : ((a_num > b_num) ? 1 : 0));\n",
       "    else\n",
       "        return isNaN(a_num) ? -1 : 1;\n",
       "}\n",
       "\n",
       "require.config({paths: {\n",
       "    datatables: 'https://cdn.datatables.net/1.10.12/js/jquery.dataTables.min'\n",
       "}});\n",
       "require([\"datatables\"], function(){\n",
       "    console.log(\"$('#table139865406301616-293685').dataTable()\");\n",
       "    \n",
       "jQuery.extend( jQuery.fn.dataTableExt.oSort, {\n",
       "    \"optionalnum-asc\": astropy_sort_num,\n",
       "    \"optionalnum-desc\": function (a,b) { return -astropy_sort_num(a, b); }\n",
       "});\n",
       "\n",
       "    $('#table139865406301616-293685').dataTable({\n",
       "        order: [],\n",
       "        pageLength: 50,\n",
       "        lengthMenu: [[10, 25, 50, 100, 500, 1000, -1], [10, 25, 50, 100, 500, 1000, 'All']],\n",
       "        pagingType: \"full_numbers\",\n",
       "        columnDefs: [{targets: [0], type: \"optionalnum\"}]\n",
       "    });\n",
       "});\n",
       "</script>\n"
      ],
      "text/plain": [
       "<IPython.core.display.HTML object>"
      ]
     },
     "execution_count": 2,
     "metadata": {},
     "output_type": "execute_result"
    }
   ],
   "source": [
    "a = ADMIT()\n",
    "a.check()\n",
    "a.key_description.show_in_notebook()"
   ]
  },
  {
   "cell_type": "code",
   "execution_count": 3,
   "metadata": {},
   "outputs": [],
   "source": [
    "#a.keys"
   ]
  },
  {
   "cell_type": "code",
   "execution_count": 12,
   "metadata": {},
   "outputs": [
    {
     "name": "stdout",
     "output_type": "stream",
     "text": [
      "kwargs  {'formula': 'CO', 'transition': '2-1', 'project_abstract': '*Black Hole*'}\n",
      "formula\n",
      "transition\n",
      "project_abstract\n",
      "select * from alma inner join win on (win.a_id = alma.id)  inner join lines on (lines.w_id = win.id )  WHERE lines.formula='CO' AND lines.transition='2-1' AND alma.project_abstract LIKE '%Black Hole%'\n"
     ]
    },
    {
     "data": {
      "text/plain": [
       "1"
      ]
     },
     "execution_count": 12,
     "metadata": {},
     "output_type": "execute_result"
    }
   ],
   "source": [
    "# correct result should have one row\n",
    "result = a.query(formula=\"CO\", transition=\"2-1\", project_abstract=\"*Black Hole*\")\n",
    "len(result)"
   ]
  },
  {
   "cell_type": "code",
   "execution_count": 13,
   "metadata": {},
   "outputs": [
    {
     "data": {
      "text/html": [
       "<div>\n",
       "<style scoped>\n",
       "    .dataframe tbody tr th:only-of-type {\n",
       "        vertical-align: middle;\n",
       "    }\n",
       "\n",
       "    .dataframe tbody tr th {\n",
       "        vertical-align: top;\n",
       "    }\n",
       "\n",
       "    .dataframe thead th {\n",
       "        text-align: right;\n",
       "    }\n",
       "</style>\n",
       "<table border=\"1\" class=\"dataframe\">\n",
       "  <thead>\n",
       "    <tr style=\"text-align: right;\">\n",
       "      <th></th>\n",
       "      <th>id</th>\n",
       "      <th>obs_id</th>\n",
       "      <th>target_name</th>\n",
       "      <th>s_ra</th>\n",
       "      <th>s_dec</th>\n",
       "      <th>frequency</th>\n",
       "      <th>t_min</th>\n",
       "      <th>project_abstract</th>\n",
       "      <th>obs_title</th>\n",
       "      <th>science_keyword</th>\n",
       "      <th>scientific_category</th>\n",
       "      <th>proposal_authors</th>\n",
       "      <th>id</th>\n",
       "      <th>a_id</th>\n",
       "      <th>spw</th>\n",
       "      <th>freqc</th>\n",
       "      <th>freqw</th>\n",
       "      <th>vlsr</th>\n",
       "      <th>nlines</th>\n",
       "      <th>nsources</th>\n",
       "      <th>nchan</th>\n",
       "      <th>peak_w</th>\n",
       "      <th>rms_w</th>\n",
       "      <th>bmaj</th>\n",
       "      <th>bmin</th>\n",
       "      <th>bpa</th>\n",
       "      <th>fcoverage</th>\n",
       "      <th>id</th>\n",
       "      <th>w_id</th>\n",
       "      <th>formula</th>\n",
       "      <th>transition</th>\n",
       "      <th>restfreq</th>\n",
       "      <th>vmin</th>\n",
       "      <th>vmax</th>\n",
       "      <th>mom0flux</th>\n",
       "      <th>mom1peak</th>\n",
       "      <th>mom2peak</th>\n",
       "    </tr>\n",
       "  </thead>\n",
       "  <tbody>\n",
       "    <tr>\n",
       "      <th>0</th>\n",
       "      <td>13</td>\n",
       "      <td>uid://A001/X1288/Xbae</td>\n",
       "      <td>NGC3593</td>\n",
       "      <td>168.654583</td>\n",
       "      <td>12.817675</td>\n",
       "      <td>230.055098</td>\n",
       "      <td>58384.714766</td>\n",
       "      <td>We propose to use ALM...</td>\n",
       "      <td>Weighing Black Hole M...</td>\n",
       "      <td>Surveys of galaxies, ...</td>\n",
       "      <td>Galaxy evolution</td>\n",
       "      <td>Greene, Jenny; Seth, ...</td>\n",
       "      <td>13</td>\n",
       "      <td>13</td>\n",
       "      <td>spw16</td>\n",
       "      <td>230.055109</td>\n",
       "      <td>1.873035</td>\n",
       "      <td>628.0</td>\n",
       "      <td>1</td>\n",
       "      <td>30</td>\n",
       "      <td>1918</td>\n",
       "      <td>0.068626</td>\n",
       "      <td>0.001117</td>\n",
       "      <td>0.000093</td>\n",
       "      <td>0.000081</td>\n",
       "      <td>35.348176</td>\n",
       "      <td>0.113139</td>\n",
       "      <td>7</td>\n",
       "      <td>13</td>\n",
       "      <td>CO</td>\n",
       "      <td>2-1</td>\n",
       "      <td>230.538</td>\n",
       "      <td>-136.849</td>\n",
       "      <td>138.029</td>\n",
       "      <td>11534.2</td>\n",
       "      <td>639.522</td>\n",
       "      <td>70.2828</td>\n",
       "    </tr>\n",
       "  </tbody>\n",
       "</table>\n",
       "</div>"
      ],
      "text/plain": [
       "   id                 obs_id target_name        s_ra      s_dec   frequency  \\\n",
       "0  13  uid://A001/X1288/Xbae     NGC3593  168.654583  12.817675  230.055098   \n",
       "\n",
       "          t_min          project_abstract                 obs_title  \\\n",
       "0  58384.714766  We propose to use ALM...  Weighing Black Hole M...   \n",
       "\n",
       "            science_keyword scientific_category          proposal_authors  id  \\\n",
       "0  Surveys of galaxies, ...    Galaxy evolution  Greene, Jenny; Seth, ...  13   \n",
       "\n",
       "   a_id    spw       freqc     freqw   vlsr  nlines  nsources  nchan  \\\n",
       "0    13  spw16  230.055109  1.873035  628.0       1        30   1918   \n",
       "\n",
       "     peak_w     rms_w      bmaj      bmin        bpa  fcoverage  id  w_id  \\\n",
       "0  0.068626  0.001117  0.000093  0.000081  35.348176   0.113139   7    13   \n",
       "\n",
       "  formula transition  restfreq     vmin     vmax  mom0flux  mom1peak  mom2peak  \n",
       "0      CO        2-1   230.538 -136.849  138.029   11534.2   639.522   70.2828  "
      ]
     },
     "execution_count": 13,
     "metadata": {},
     "output_type": "execute_result"
    }
   ],
   "source": [
    "result"
   ]
  },
  {
   "cell_type": "code",
   "execution_count": 11,
   "metadata": {},
   "outputs": [
    {
     "name": "stdout",
     "output_type": "stream",
     "text": [
      "kwargs  {'formula': 'CO', 'transition': '2-1', 'project_abstract': '*Black Hole*', 'region': [<SkyCoord (ICRS): (ra, dec) in deg\n",
      "    (168.875, 12.75)>, <Quantity 1.5 deg>]}\n",
      "formula\n",
      "transition\n",
      "project_abstract\n",
      "region\n",
      "select * from alma inner join win on (win.a_id = alma.id)  inner join sources on (sources.w_id = win.id)   inner join lines on (lines.w_id = win.id )  WHERE lines.formula='CO' AND lines.transition='2-1' AND alma.project_abstract LIKE '%Black Hole%' AND  sources.ra > 167.37499999999997 AND sources.ra < 170.37499999999997 AND sources.dec > 11.25 AND sources.dec < 14.25  AND sources.l_id > 0 \n"
     ]
    },
    {
     "data": {
      "text/plain": [
       "30"
      ]
     },
     "execution_count": 11,
     "metadata": {},
     "output_type": "execute_result"
    }
   ],
   "source": [
    "c = SkyCoord('11h15m30s', '+12d45m00s', frame='icrs')\n",
    "size = 1.5*u.degree\n",
    "result = a.query(formula=\"CO\", transition=\"2-1\", project_abstract=\"*Black Hole*\", region = [c,size])\n",
    "len(result)"
   ]
  },
  {
   "cell_type": "code",
   "execution_count": null,
   "metadata": {},
   "outputs": [],
   "source": [
    "#columns to include \n",
    "ci = [x for x in result.columns if x not in cols_to_exclude]\n",
    "result[ci]"
   ]
  },
  {
   "cell_type": "code",
   "execution_count": null,
   "metadata": {},
   "outputs": [],
   "source": [
    "result=a.query(source_name_alma=\"NGC3049\",mom0flux=\">0\")\n",
    "len(result) "
   ]
  },
  {
   "cell_type": "code",
   "execution_count": null,
   "metadata": {},
   "outputs": [],
   "source": [
    "result"
   ]
  },
  {
   "cell_type": "code",
   "execution_count": null,
   "metadata": {},
   "outputs": [],
   "source": [
    "result=a.query(source_name_alma='NGC3593',formula=\"CO\")\n",
    "len(result)# should be 1"
   ]
  },
  {
   "cell_type": "code",
   "execution_count": null,
   "metadata": {},
   "outputs": [],
   "source": [
    "result=a.query(source_name_alma='NGC3593',source_snr=\">-2\")\n",
    "len(result)"
   ]
  },
  {
   "cell_type": "code",
   "execution_count": null,
   "metadata": {},
   "outputs": [],
   "source": [
    "result.head()"
   ]
  },
  {
   "cell_type": "code",
   "execution_count": null,
   "metadata": {},
   "outputs": [],
   "source": []
  },
  {
   "cell_type": "code",
   "execution_count": null,
   "metadata": {},
   "outputs": [],
   "source": [
    "result"
   ]
  },
  {
   "cell_type": "code",
   "execution_count": null,
   "metadata": {},
   "outputs": [],
   "source": [
    "result=a.query(source_name_alma='NGC3504',source_snr=\">3\")\n",
    "len(result)"
   ]
  },
  {
   "cell_type": "code",
   "execution_count": null,
   "metadata": {},
   "outputs": [],
   "source": [
    "a._out_colna"
   ]
  },
  {
   "cell_type": "code",
   "execution_count": null,
   "metadata": {},
   "outputs": [],
   "source": [
    "\n",
    "sql = \"select * from alma inner join win on (win.a_id = alma.id)\\\n",
    "inner join sources on (sources.w_id = win.id)\\\n",
    "WHERE alma.target_name='NGC3504'\\\n",
    "AND sources.snr_s>=3.0 AND sources.l_id = 0 AND alra < 165.797 and sources.ra> 165.786\"\n",
    "result=pd.DataFrame(a.sql(sql),columns = a._out_colnames)\n",
    "len(result)"
   ]
  },
  {
   "cell_type": "code",
   "execution_count": null,
   "metadata": {},
   "outputs": [],
   "source": [
    "result.head()"
   ]
  },
  {
   "cell_type": "code",
   "execution_count": null,
   "metadata": {},
   "outputs": [],
   "source": [
    "result=a.query(source_name_alma='NGC3504',source_snr=\">3\",formula=\"CO\")\n",
    "len(result)"
   ]
  },
  {
   "cell_type": "code",
   "execution_count": null,
   "metadata": {},
   "outputs": [],
   "source": []
  },
  {
   "cell_type": "code",
   "execution_count": null,
   "metadata": {},
   "outputs": [],
   "source": [
    "result=a.query(source_name_alma='NGC5253',source_peak=\">0\")\n",
    "len(result) "
   ]
  },
  {
   "cell_type": "code",
   "execution_count": null,
   "metadata": {},
   "outputs": [],
   "source": [
    "result"
   ]
  },
  {
   "cell_type": "markdown",
   "metadata": {},
   "source": [
    "### Example of how to exclude columns listed in the first cell"
   ]
  },
  {
   "cell_type": "code",
   "execution_count": null,
   "metadata": {},
   "outputs": [],
   "source": [
    "#columns to include \n",
    "ci = [x for x in result.columns if x not in cols_to_exclude]\n",
    "result[ci]"
   ]
  },
  {
   "cell_type": "code",
   "execution_count": null,
   "metadata": {},
   "outputs": [],
   "source": [
    "result=a.query(source_name_alma='NGC3504',formula=\"CS\")\n",
    "len(result)"
   ]
  },
  {
   "cell_type": "code",
   "execution_count": null,
   "metadata": {},
   "outputs": [],
   "source": [
    "result[ci]"
   ]
  },
  {
   "cell_type": "code",
   "execution_count": null,
   "metadata": {},
   "outputs": [],
   "source": [
    "result1 = a.query(source_name_alma=\"NGC3504\")\n",
    "#result2 = a.query(source_name_resolver='ngc3504')\n",
    "sql = \"select * from alma where alma.target_name='NGC3504'\"\n",
    "result2 = a.sql(sql)\n",
    "result2=pd.DataFrame(result2,columns=a._colnames['alma'])\n",
    "result3 = a.query(source_name_alma=\"NGC3504\",mom0flux=\">-1\")"
   ]
  },
  {
   "cell_type": "code",
   "execution_count": null,
   "metadata": {},
   "outputs": [],
   "source": [
    "print(len(result1),len(result2),len(result3))"
   ]
  },
  {
   "cell_type": "code",
   "execution_count": null,
   "metadata": {},
   "outputs": [],
   "source": [
    "result1\n"
   ]
  },
  {
   "cell_type": "code",
   "execution_count": null,
   "metadata": {},
   "outputs": [],
   "source": [
    "result=a.query(scientific_category=\"galaxy evolution\")  # case sensitive! returns zero results\n",
    "len(result)"
   ]
  },
  {
   "cell_type": "code",
   "execution_count": null,
   "metadata": {},
   "outputs": [],
   "source": [
    "result=a.query(win_snr=\">1\",source_name_alma=\"NGC3049\") \n",
    "len(result)"
   ]
  },
  {
   "cell_type": "code",
   "execution_count": null,
   "metadata": {},
   "outputs": [],
   "source": [
    "result"
   ]
  },
  {
   "cell_type": "markdown",
   "metadata": {
    "tags": []
   },
   "source": [
    "-------------------\n",
    "tinker code below"
   ]
  },
  {
   "cell_type": "code",
   "execution_count": null,
   "metadata": {},
   "outputs": [],
   "source": [
    "_gen_numeric_sql = _gen_str_sql = _gen_pos_sql = _gen_spec_res_sql = _gen_band_list_sql = _gen_datetime_sql = _gen_pol_sql = None"
   ]
  },
  {
   "cell_type": "code",
   "execution_count": null,
   "metadata": {},
   "outputs": [],
   "source": [
    "ADMIT_FORM_KEYS[\"Lines\"].values()"
   ]
  },
  {
   "cell_type": "code",
   "execution_count": null,
   "metadata": {},
   "outputs": [],
   "source": [
    "ADMIT_FORM_KEYS.keys()"
   ]
  },
  {
   "cell_type": "code",
   "execution_count": null,
   "metadata": {},
   "outputs": [],
   "source": [
    "if False:\n",
    "    result1 = Alma.query_tap(\"select * from ivoa.obscore WHERE target_name = 'NGC3504'\")\n",
    "    result2 = Alma.query_tap(\"select * from ivoa.obscore WHERE target_name = 'ngc3504'\")\n",
    "    coord = SkyCoord.from_name('ngc3504')\n",
    "    print(coord)\n",
    "    sqlcoord = tapsql._gen_pos_sql('SkyCoord.from_name','ngc3504')\n",
    "    print(sqlcoord)\n",
    "    sql = \"select * from ivoa.obscore WHERE source_name_resolver = '\" +sqlcoord+\"'\"\n",
    "    print(sql)\n",
    "    if False:\n",
    "        result3 = Alma.query_tap(sql) # fails    "
   ]
  },
  {
   "cell_type": "code",
   "execution_count": null,
   "metadata": {},
   "outputs": [],
   "source": [
    "c = SkyCoord('00h42m30s', '+41d12m00s', frame='icrs')"
   ]
  },
  {
   "cell_type": "code",
   "execution_count": null,
   "metadata": {},
   "outputs": [],
   "source": [
    "c"
   ]
  },
  {
   "cell_type": "code",
   "execution_count": null,
   "metadata": {},
   "outputs": [],
   "source": [
    "def parse_region(region):\n",
    "    ra_dec = region[0]\n",
    "    size = region[1]\n",
    "    if not isinstance(ra_dec,SkyCoord):\n",
    "        raise ValueError(\"ra_dec region value must be astropy SkyCoord\")\n",
    "    if not isinstance(size,u.Quantity):\n",
    "        raise ValueError(\"region values must be astropy Quantities\")\n",
    "    ra_min = c.ra - size.to(\"degree\")\n",
    "    ra_max = c.ra + size.to(\"degree\")\n",
    "    dec_min = c.dec - size.to(\"degree\")\n",
    "    dec_max = c.dec + size.to(\"degree\")\n",
    "    sql = f\" sources.ra > {ra_min.to('degree')} AND sources.ra < {ra_max.to('degree')} AND sources.dec > {dec_min.to('degree')} AND sources.dec < {dec_max.to('degree')} \"\n",
    "    return sql"
   ]
  },
  {
   "cell_type": "code",
   "execution_count": null,
   "metadata": {},
   "outputs": [],
   "source": [
    "parse_region([c,1.5*u.degree])"
   ]
  },
  {
   "cell_type": "code",
   "execution_count": null,
   "metadata": {},
   "outputs": [],
   "source": [
    "f\"sources.ra > {ra_min.to('degree')} AND sources.ra < {ra_max.to('degree')} AND sources.dec > {dec_min.to('degree')} AND sources.dec < {dec_max.to('degree')}\""
   ]
  },
  {
   "cell_type": "code",
   "execution_count": null,
   "metadata": {},
   "outputs": [],
   "source": []
  }
 ],
 "metadata": {
  "kernelspec": {
   "display_name": "Python 3 (ipykernel)",
   "language": "python",
   "name": "python3"
  },
  "language_info": {
   "codemirror_mode": {
    "name": "ipython",
    "version": 3
   },
   "file_extension": ".py",
   "mimetype": "text/x-python",
   "name": "python",
   "nbconvert_exporter": "python",
   "pygments_lexer": "ipython3",
   "version": "3.9.7"
  }
 },
 "nbformat": 4,
 "nbformat_minor": 4
}
