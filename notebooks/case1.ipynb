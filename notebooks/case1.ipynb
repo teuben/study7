{
 "cells": [
  {
   "cell_type": "markdown",
   "metadata": {},
   "source": [
    "# Science Case #1:\n",
    "\n",
    "Find all <source-type> within a given area of the sky with emission from\n",
    "<molecule(s)> detected.\n"
   ]
  },
  {
   "cell_type": "markdown",
   "metadata": {},
   "source": [
    "The science motivation might be to find all young stellar objects (YSOs) in Taurus with ALMA\n",
    "detections of CO J=2-1. The return from this query would include images of the moment maps of\n",
    "CO emission, peak intensity, resolution, noise, correlator setting, and other relevant information\n",
    "from any Taurus YSOs (as identified by science keywords, abstract text, SIMBAD coordinate\n",
    "matches) in the publicly accessible ALMA Science Archive. The user could identify which data\n",
    "are appropriate for their study an pull the u,v data or image cubes of interest from the archive.\n",
    "\n",
    "Optionally, the user could then create a query to retrieve the full set of science products for all\n",
    "sources, or the sources of interest. This would allow exploration of continuum and other lines\n",
    "detected in the same observations. The quantitative data are returned as tables in the user’s\n",
    "Python environment (for example Jupyter notebook) which can then be manipulated (see Section\n",
    "4), for example to produce a plot of continuum flux versus CO integrated intensity or CO\n",
    "intensity versus [13CO/12CO] intensity ratio.\n",
    "\n"
   ]
  },
  {
   "cell_type": "code",
   "execution_count": null,
   "metadata": {},
   "outputs": [],
   "source": [
    "from astroquery.admit import ADMIT\n",
    "from astroquery.alma import Alma, tapsql\n",
    "from astropy.coordinates import SkyCoord\n",
    "import pandas as pd\n",
    "# display the whole table inthe notebook\n",
    "pd.set_option('display.max_rows', None)\n",
    "pd.set_option('display.max_columns', None)\n",
    "pd.set_option('display.width', None)\n",
    "pd.set_option('display.max_colwidth',25)\n"
   ]
  },
  {
   "cell_type": "code",
   "execution_count": null,
   "metadata": {},
   "outputs": [],
   "source": [
    "result1 = Alma.query_tap(\"select * from ivoa.obscore WHERE target_name = 'NGC3504'\")\n",
    "result2 = Alma.query_tap(\"select * from ivoa.obscore WHERE target_name = 'ngc3504'\")\n",
    "coord = SkyCoord.from_name('ngc3504')\n",
    "print(coord)\n",
    "sqlcoord = tapsql._gen_pos_sql('SkyCoord.from_name','ngc3504')\n",
    "print(sqlcoord)\n",
    "sql = \"select * from ivoa.obscore WHERE source_name_resolver = '\" +sqlcoord+\"'\"\n",
    "print(sql)\n",
    "if False:\n",
    "    result3 = Alma.query_tap(sql) # fails         "
   ]
  },
  {
   "cell_type": "code",
   "execution_count": null,
   "metadata": {},
   "outputs": [],
   "source": [
    "a = ADMIT()\n",
    "a.check()\n",
    "a.key_description"
   ]
  },
  {
   "cell_type": "code",
   "execution_count": null,
   "metadata": {},
   "outputs": [],
   "source": [
    "a.keys"
   ]
  },
  {
   "cell_type": "code",
   "execution_count": null,
   "metadata": {},
   "outputs": [],
   "source": [
    "result = a.query(formula=\"CO\", transition=\"2-1\")\n",
    "len(result)"
   ]
  },
  {
   "cell_type": "code",
   "execution_count": null,
   "metadata": {},
   "outputs": [],
   "source": [
    "result"
   ]
  },
  {
   "cell_type": "code",
   "execution_count": null,
   "metadata": {},
   "outputs": [],
   "source": [
    "result=a.query(source_name_alma=\"NGC3049\",mom0flux=\">0\")\n",
    "len(result) "
   ]
  },
  {
   "cell_type": "code",
   "execution_count": null,
   "metadata": {},
   "outputs": [],
   "source": [
    "result"
   ]
  },
  {
   "cell_type": "code",
   "execution_count": null,
   "metadata": {},
   "outputs": [],
   "source": [
    "sql = \"select * from alma inner join win on (win.a_id = alma.id) \\\n",
    "inner join sources on (sources.w_id = win.id) inner join lines on (lines.w_id = win.id )\\\n",
    "where  target_name='NGC3049'\""
   ]
  },
  {
   "cell_type": "code",
   "execution_count": null,
   "metadata": {},
   "outputs": [],
   "source": [
    "result = pd.DataFrame(a.sql(sql))\n",
    "len(result)"
   ]
  },
  {
   "cell_type": "code",
   "execution_count": null,
   "metadata": {},
   "outputs": [],
   "source": [
    "result"
   ]
  },
  {
   "cell_type": "code",
   "execution_count": null,
   "metadata": {},
   "outputs": [],
   "source": [
    "sql = \"select * from alma inner join win on (win.a_id = alma.id) \\\n",
    "inner join sources on (sources.w_id = win.id) \\\n",
    "where  target_name='NGC3049'\"\n",
    "result =  pd.DataFrame(a.sql(sql))\n",
    "len(result)"
   ]
  },
  {
   "cell_type": "code",
   "execution_count": null,
   "metadata": {},
   "outputs": [],
   "source": [
    "result"
   ]
  },
  {
   "cell_type": "code",
   "execution_count": null,
   "metadata": {},
   "outputs": [],
   "source": [
    "sql = \"select * from alma inner join win on (win.a_id = alma.id) \\\n",
    "inner join sources on (sources.w_id = win.id) inner join lines on (lines.w_id = win.id )\\\n",
    "where  target_name='NGC3049' and formula like '%CO%'\"\n",
    "result =  pd.DataFrame(a.sql(sql))\n",
    "len(result)"
   ]
  },
  {
   "cell_type": "code",
   "execution_count": null,
   "metadata": {},
   "outputs": [],
   "source": [
    "result=a.query(source_name_alma='NGC3049',formula=\"*CO*\")\n",
    "len(result)"
   ]
  },
  {
   "cell_type": "code",
   "execution_count": null,
   "metadata": {},
   "outputs": [],
   "source": [
    "result"
   ]
  },
  {
   "cell_type": "code",
   "execution_count": null,
   "metadata": {},
   "outputs": [],
   "source": [
    "result=a.query(source_name_alma='NGC3504',formula=\"CS\")\n",
    "len(result)"
   ]
  },
  {
   "cell_type": "code",
   "execution_count": null,
   "metadata": {},
   "outputs": [],
   "source": [
    "result"
   ]
  },
  {
   "cell_type": "code",
   "execution_count": null,
   "metadata": {},
   "outputs": [],
   "source": [
    "result1 = a.query(source_name_alma=\"NGC3504\")\n",
    "#result2 = a.query(source_name_resolver='ngc3504')\n",
    "sql = \"select * from alma where alma.target_name='NGC3504'\"\n",
    "result2 = a.sql(sql)\n",
    "result2=pd.DataFrame(result2,columns=a._colnames['alma'])\n",
    "result3 = a.query(source_name_alma=\"NGC3504\",mom0flux=\">-1\")"
   ]
  },
  {
   "cell_type": "code",
   "execution_count": null,
   "metadata": {},
   "outputs": [],
   "source": [
    "print(len(result1),len(result2),len(result3))\n",
    "pd.set_option('display.max_colwidth',-1)"
   ]
  },
  {
   "cell_type": "code",
   "execution_count": null,
   "metadata": {},
   "outputs": [],
   "source": [
    "result3['obs_id']"
   ]
  },
  {
   "cell_type": "code",
   "execution_count": null,
   "metadata": {},
   "outputs": [],
   "source": [
    "result=a.query(scientific_category=\"galaxy evolution\")  # case sensitive! returns zero results\n",
    "len(result)"
   ]
  },
  {
   "cell_type": "code",
   "execution_count": null,
   "metadata": {},
   "outputs": [],
   "source": [
    "result=a.query(win_snr=\">1\",source_name_alma=\"NGC3049\") \n",
    "len(result) #hmmm zero. "
   ]
  },
  {
   "cell_type": "markdown",
   "metadata": {
    "tags": []
   },
   "source": [
    "-------------------\n",
    "tinker code below"
   ]
  },
  {
   "cell_type": "code",
   "execution_count": null,
   "metadata": {},
   "outputs": [],
   "source": [
    "_gen_numeric_sql = _gen_str_sql = _gen_pos_sql = _gen_spec_res_sql = _gen_band_list_sql = _gen_datetime_sql = _gen_pol_sql = None"
   ]
  },
  {
   "cell_type": "code",
   "execution_count": null,
   "metadata": {},
   "outputs": [],
   "source": [
    "ADMIT_FORM_KEYS = {\n",
    "    'Window': {  \n",
    "        'ALMA ID': ['alma_id','win.alma_id',_gen_numeric_sql],\n",
    "        'Spectral Window': [ 'spw','win.id', _gen_numeric_sql],\n",
    "        'Number of Lines': [ 'nlines','win.nlines', _gen_numeric_sql],\n",
    "        'Number of Sources': [ 'nsources','win.nsources', _gen_numeric_sql],\n",
    "        'Number of Channels': [ 'nchan','win.nchan', _gen_numeric_sql],\n",
    "        'RMS noise': [ 'rms','win.rms', _gen_numeric_sql],\n",
    "     },\n",
    "    'Lines': {\n",
    "        'Spectral Window': [ 'spw','lines.w_id', _gen_numeric_sql],\n",
    "        'Formula': [ 'formula','lines.formula', _gen_str_sql],\n",
    "        'Transition': [ 'transition','lines.transition', _gen_str_sql],\n",
    "        'Velocity': [ 'velocity','lines.velocity', _gen_numeric_sql],\n",
    "        # we are not using this\n",
    "        #'Channels': [ 'chan','lines.chan', _gen_numeric_sql],\n",
    "     },\n",
    "    'Sources': {\n",
    "        'Spectral Window': [ 'spw','sources.w_id', _gen_numeric_sql],\n",
    "        'Line ID': [ 'lines_id','sources.lines_id', _gen_numeric_sql],\n",
    "        'RA (Degrees)': ['ra', 'sources.ra',  _gen_numeric_sql],\n",
    "        'Dec (Degrees)': ['dec', 'sources.dec',  _gen_numeric_sql],\n",
    "        'Flux': ['flux', 'sources.flux',  _gen_numeric_sql],\n",
    "        # source.snr is not actually a table column but we can use it as \n",
    "        # a trigger to munge some sql post-facto.\n",
    "        'Signal to Noise Ratio': ['snr', 'sources.snr',  _gen_numeric_sql],\n",
    "     },\n",
    "    'Header': { # no science use case\n",
    "        'Key': ['header_key','header.key',_gen_str_sql],\n",
    "        'Value': ['header_val','header.val',_gen_str_sql],\n",
    "     },\n",
    "    'Cont': {\n",
    "        'ALMA ID': ['alma_id','cont.alma_id',_gen_numeric_sql],\n",
    "        'Bands': ['band','cont.cont',_gen_str_sql],\n",
    "        'Number of Continuum Sources': ['nc_sources','cont.nsources',_gen_numeric_sql],\n",
    "     },\n",
    "    'Alma': {\n",
    "        'Observation': ['obs_id','alma.obs_id',_gen_str_sql],\n",
    "        # From here below are just a copy of ALMA_FORM_KEYS without the external wrapper dict.\n",
    "        # Position\n",
    "        'Source name (astropy Resolver)': ['source_name_resolver',\n",
    "                                           'SkyCoord.from_name', _gen_pos_sql],\n",
    "        'Source name (ALMA)': ['source_name_alma', 'alma.target_name', _gen_str_sql],\n",
    "        'RA Dec (Sexagesimal)': ['ra_dec', 'alma.s_ra, alma.s_dec', _gen_pos_sql],\n",
    "        'Galactic (Degrees)': ['galactic', 'alma.gal_longitude, alma.gal_latitude',\n",
    "                               _gen_pos_sql],\n",
    "        'Angular resolution (arcsec)': ['spatial_resolution',\n",
    "                                        'alma.spatial_resolution', _gen_numeric_sql],\n",
    "        'Largest angular scale (arcsec)': ['spatial_scale_max',\n",
    "                                           'alma.spatial_scale_max', _gen_numeric_sql],\n",
    "        'Field of view (arcsec)': ['fov', 'alma.s_fov', _gen_numeric_sql],\n",
    "        # Energy\n",
    "        'Frequency (GHz)': ['frequency', 'alma.frequency', _gen_numeric_sql],\n",
    "        'Bandwidth (Hz)': ['bandwidth', 'alma.bandwidth', _gen_numeric_sql],\n",
    "        'Spectral resolution (KHz)': ['spectral_resolution',\n",
    "                                      'alma.em_resolution', _gen_spec_res_sql],\n",
    "        'Bandesult = a.query(formula=\"CO\", transition=\"2-1\")': ['band_list', 'alma.band_list', _gen_band_list_sql],\n",
    "        # Time\n",
    "        'Observation date': ['start_date', 'alma.t_min', _gen_datetime_sql],\n",
    "        'Integration time (s)': ['integration_time', 'alma.t_exptime',\n",
    "                                 _gen_numeric_sql],\n",
    "        # Polarization\n",
    "        'Polarisation type (Single, Dual, Full)': ['polarisation_type',\n",
    "                                                   'alma.pol_states', _gen_pol_sql],\n",
    "        # Observation\n",
    "        'Line sensitivity (10 km/s) (mJy/beam)': ['line_sensitivity',\n",
    "                                                  'alma.sensitivity_10kms',\n",
    "                                                  _gen_numeric_sql],\n",
    "        'Continuum sensitivity (mJy/beam)': ['continuum_sensitivity',\n",
    "                                             'alma.cont_sensitivity_bandwidth',\n",
    "                                             _gen_numeric_sql],\n",
    "        'Water vapour (mm)': ['water_vapour', 'alma.pvw', _gen_numeric_sql],\n",
    "        # Project\n",
    "        'Project code': ['project_code', 'alma.proposal_id', _gen_str_sql],\n",
    "        'Project title': ['project_title', 'alma.obs_title', _gen_str_sql],\n",
    "        'PI name': ['pi_name', 'alma.obs_creator_name', _gen_str_sql],\n",
    "        'Proposal authors': ['proposal_authors', 'alma.proposal_authors', _gen_str_sql],\n",
    "        'Project abstract': ['project_abstract', 'alma.proposal_abstract', _gen_str_sql],\n",
    "        'Publication count': ['publication_count', 'alma.NA', _gen_str_sql],\n",
    "        'Science keyword': ['science_keyword', 'alma.science_keyword', _gen_str_sql],\n",
    "       # Publication'\n",
    "        'Bibcode': ['bibcode', 'alma.bib_reference', _gen_str_sql],\n",
    "        'Title': ['pub_title', 'alma.pub_title', _gen_str_sql],\n",
    "        'First author': ['first_author', 'alma.first_author', _gen_str_sql],\n",
    "        'Authors': ['authors', 'alma.authors', _gen_str_sql],\n",
    "        # this may need special handling? or person does search on pub_abstract=\"*YSO*\" \n",
    "        'Abstract': ['pub_abstract', 'alma.pub_abstract', _gen_str_sql],\n",
    "        'Year': ['publication_year', 'alma.pub_year', _gen_numeric_sql],\n",
    "     },\n",
    "}"
   ]
  },
  {
   "cell_type": "code",
   "execution_count": null,
   "metadata": {},
   "outputs": [],
   "source": [
    "s = ['formula', 'lines.formula', None]\n",
    "s in ADMIT_FORM_KEYS[\"Lines\"].values()"
   ]
  },
  {
   "cell_type": "code",
   "execution_count": null,
   "metadata": {},
   "outputs": [],
   "source": [
    "ADMIT_FORM_KEYS[\"Lines\"].values()"
   ]
  },
  {
   "cell_type": "code",
   "execution_count": null,
   "metadata": {},
   "outputs": [],
   "source": [
    "2.lower()"
   ]
  },
  {
   "cell_type": "code",
   "execution_count": null,
   "metadata": {},
   "outputs": [],
   "source": []
  }
 ],
 "metadata": {
  "kernelspec": {
   "display_name": "Python 3 (ipykernel)",
   "language": "python",
   "name": "python3"
  },
  "language_info": {
   "codemirror_mode": {
    "name": "ipython",
    "version": 3
   },
   "file_extension": ".py",
   "mimetype": "text/x-python",
   "name": "python",
   "nbconvert_exporter": "python",
   "pygments_lexer": "ipython3",
   "version": "3.9.7"
  }
 },
 "nbformat": 4,
 "nbformat_minor": 4
}
