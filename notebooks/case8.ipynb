{
 "cells": [
  {
   "cell_type": "markdown",
   "metadata": {},
   "source": [
    "# Case #8:  Lightcurve (of a calibrator)\n",
    "\n",
    "The phase and bandpass calibrators are included in the product tree of the pipeline results, but they\n",
    "cannot be found in the online query. We developed a shortcut of putting calibrators in another\n",
    "database, which could be queried much like the science queries, except there is only continuum\n",
    "available.\n",
    "Stacking of calibrator maps has already resulted of interested results (Zwaan, priv.comm.)\n",
    "The use of this notebook is not scientific, as we have no control over how the flux scale was\n",
    "determined (usually via a planet or a moon of a planet). With that caveat we are going to plot the\n",
    "flux as function of time for the calibrators we have available.\n",
    "\n",
    "See also https://almascience.eso.org/alma-data/calibrator-catalogue\n",
    "\n",
    "**Note**: In another notebook, we check the flux of the continuum source in NGC3504, as\n",
    "we have several measurements in different projects.\n",
    "\n",
    "\n"
   ]
  },
  {
   "cell_type": "code",
   "execution_count": 1,
   "metadata": {},
   "outputs": [],
   "source": [
    "%matplotlib inline\n",
    "import matplotlib.pyplot as plt"
   ]
  },
  {
   "cell_type": "code",
   "execution_count": 2,
   "metadata": {},
   "outputs": [
    {
     "name": "stdout",
     "output_type": "stream",
     "text": [
      "Found  ../admit_cal.db\n",
      "Checking db.... 0\n",
      "71 71 71\n",
      "Database version: 27-feb-2022. core.py version: 26-feb-2022\n",
      "header    : 1 entries\n",
      "alma      : 123 entries\n",
      "win       : 123 entries\n",
      "lines     : 0 entries\n",
      "sources   : 123 entries\n"
     ]
    }
   ],
   "source": [
    "from astroquery.admit import ADMIT\n",
    "import pandas as pd\n",
    "a = ADMIT('../admit_cal.db')\n",
    "a.check()"
   ]
  },
  {
   "cell_type": "markdown",
   "metadata": {},
   "source": [
    "First we need to find the unique names of the sources. This is probably easiest done with a special\n",
    "**SELECT DISTINCT** query in sql. We find 18 sources.\n"
   ]
  },
  {
   "cell_type": "code",
   "execution_count": 3,
   "metadata": {},
   "outputs": [
    {
     "name": "stdout",
     "output_type": "stream",
     "text": [
      "             0\n",
      "0   J1002+1216\n",
      "1   J1102+2757\n",
      "2   J1118+1234\n",
      "3   J1215+1654\n",
      "4   J1221+2813\n",
      "5   J1336-3357\n",
      "6   J1130+0846\n",
      "7   J1103+3014\n",
      "8   J1150+2417\n",
      "9   J1159+2914\n",
      "10  J1744-3116\n",
      "11  J1058+0133\n",
      "12  J0854+2006\n",
      "13  J1037-2934\n",
      "14  J1337-1257\n",
      "15  J1229+0203\n",
      "16  J1427-4206\n",
      "17  J1924-2914\n"
     ]
    }
   ],
   "source": [
    "p=pd.DataFrame(a.sql('select distinct alma.target_name from alma'))\n",
    "print(p)"
   ]
  },
  {
   "cell_type": "markdown",
   "metadata": {},
   "source": [
    "Let's just pick a random one, and review the fluxes, and plot fluxes as function of time (ALMA\n",
    "keeps the MJD in the database. There are functions to change these back to a human readable\n",
    "time, but we leave this is as an exercize for the reader!\n",
    "NOTE: we might need to ask for if flux > 0 or so, to trigger the source column we need for this.\n",
    "\n",
    "\n"
   ]
  },
  {
   "cell_type": "code",
   "execution_count": 4,
   "metadata": {},
   "outputs": [
    {
     "name": "stdout",
     "output_type": "stream",
     "text": [
      "select * from alma inner join win on (win.a_id = alma.id)  inner join sources on (sources.w_id = win.id)   WHERE alma.target_name='J1058+0133' AND sources.flux>=0.0 AND sources.l_id = 0  \n",
      "\n"
     ]
    }
   ],
   "source": [
    "source = \"J1058+0133\"\n",
    "t1 = a.query(source_name_alma=source, flux='>0')"
   ]
  },
  {
   "cell_type": "code",
   "execution_count": 5,
   "metadata": {},
   "outputs": [
    {
     "name": "stdout",
     "output_type": "stream",
     "text": [
      "           t_min  flux  peak_s\n",
      "0   58067.381452  2.80    2.26\n",
      "1   58067.381452  2.72    2.15\n",
      "2   58067.381452  2.70    2.13\n",
      "3   58067.381452  2.78    2.24\n",
      "4   58050.537257  2.97    2.97\n",
      "5   58050.537257  2.88    2.88\n",
      "6   58050.537257  2.87    2.87\n",
      "7   58050.537257  2.96    2.96\n",
      "8   58119.290160  2.95    2.47\n",
      "9   58119.290160  2.86    2.35\n",
      "10  58119.290160  2.85    2.33\n",
      "11  58119.290160  2.93    2.45\n",
      "12  58055.534294  2.89    2.47\n",
      "13  58055.534294  2.80    2.36\n",
      "14  58055.534294  2.79    2.34\n",
      "15  58055.534294  2.88    2.46\n",
      "16  58083.495681  2.88    2.50\n",
      "17  58083.495681  2.79    2.40\n",
      "18  58083.495681  2.78    2.40\n",
      "19  58083.495681  2.87    2.49\n",
      "20  57713.447599  3.70    3.42\n",
      "21  57713.447599  3.82    3.56\n",
      "22  57713.447599  3.81    3.55\n",
      "23  57713.447599  3.72    3.16\n",
      "24  57830.124871  3.42    3.42\n",
      "25  57830.124871  3.53    3.52\n",
      "26  57830.124871  3.52    3.52\n",
      "27  57830.124871  3.43    3.18\n",
      "28  57709.478662  3.68    3.36\n",
      "29  57709.478662  3.68    3.36\n",
      "30  57709.478662  3.57    3.22\n",
      "31  57709.478662  3.56    3.40\n"
     ]
    }
   ],
   "source": [
    "ci=['t_min', 'flux', 'peak_s']\n",
    "print(t1[ci])"
   ]
  },
  {
   "cell_type": "code",
   "execution_count": 6,
   "metadata": {},
   "outputs": [
    {
     "data": {
      "image/png": "[encoded data removed]",
      "text/plain": [
       "<Figure size 432x288 with 1 Axes>"
      ]
     },
     "metadata": {
      "needs_background": "light"
     },
     "output_type": "display_data"
    }
   ],
   "source": [
    "plt.scatter(t1['t_min'],t1['flux']);\n",
    "plt.title(source[0] + ' lightcurve')\n",
    "plt.xlabel('Time (MJD)')\n",
    "plt.ylabel('Flux (Jy)');"
   ]
  },
  {
   "cell_type": "code",
   "execution_count": 7,
   "metadata": {},
   "outputs": [
    {
     "data": {
      "image/png": "[encoded data removed]",
      "text/plain": [
       "<Figure size 432x288 with 1 Axes>"
      ]
     },
     "metadata": {
      "needs_background": "light"
     },
     "output_type": "display_data"
    }
   ],
   "source": [
    "fop = t1['flux']/t1['peak_s']\n",
    "plt.hist(fop)\n",
    "plt.xlabel('Flux/Peak')\n",
    "plt.title(source);"
   ]
  },
  {
   "cell_type": "markdown",
   "metadata": {},
   "source": [
    "With a quick plotting function we can easily loop over all the sources and be bedazzled?"
   ]
  },
  {
   "cell_type": "code",
   "execution_count": 8,
   "metadata": {},
   "outputs": [],
   "source": [
    "def qplot(a, source):\n",
    "    \"\"\" plot flux(time) and histogram(flux/peak)\"\"\"\n",
    "    t1 = a.query(source_name_alma=source,flux='>0')\n",
    "    fop = t1['flux']/t1['peak_s']\n",
    "    plt.scatter(t1['t_min'],t1['flux']);\n",
    "    plt.title(source)\n",
    "    plt.xlabel('MJD')\n",
    "    plt.ylabel('Flux (Jy)')\n",
    "    plt.show()\n",
    "    plt.hist(fop)\n",
    "    plt.xlabel('Flux/Peak')\n",
    "    plt.title(source);"
   ]
  },
  {
   "cell_type": "code",
   "execution_count": 9,
   "metadata": {},
   "outputs": [
    {
     "name": "stdout",
     "output_type": "stream",
     "text": [
      "==== J1002+1216 ====\n",
      "==== J1102+2757 ====\n",
      "==== J1118+1234 ====\n",
      "==== J1215+1654 ====\n",
      "==== J1221+2813 ====\n",
      "==== J1336-3357 ====\n",
      "==== J1130+0846 ====\n",
      "==== J1103+3014 ====\n",
      "==== J1150+2417 ====\n",
      "==== J1159+2914 ====\n",
      "==== J1744-3116 ====\n",
      "==== J1058+0133 ====\n",
      "==== J0854+2006 ====\n",
      "==== J1037-2934 ====\n",
      "==== J1337-1257 ====\n",
      "==== J1229+0203 ====\n",
      "==== J1427-4206 ====\n",
      "==== J1924-2914 ====\n"
     ]
    }
   ],
   "source": [
    "for source in p.values:\n",
    "    print('====',source[0],'====')\n",
    "    # qplot(a,source[0])\n"
   ]
  },
  {
   "cell_type": "markdown",
   "metadata": {},
   "source": [
    "## Comparing with ALMA calibrator catalog\n",
    "\n",
    "\n",
    "On  https://almascience.nrao.edu/sc/#\n",
    "we pick J1058+0133, set band=6, and pick dates between 2014 and 2022. Download the table as \"csv\" and plot and compare with what we obtained via admit."
   ]
  },
  {
   "cell_type": "markdown",
   "metadata": {},
   "source": [
    "Sadly the \"csv\" file could not be read by astropy.table, but one quick awk produced a table that was readable."
   ]
  },
  {
   "cell_type": "code",
   "execution_count": 10,
   "metadata": {},
   "outputs": [],
   "source": [
    "!grep -v ^# alma_sourcecat_searchresults.csv | awk -F, '{print $3,$10,$11}' > cal.tab"
   ]
  },
  {
   "cell_type": "code",
   "execution_count": 11,
   "metadata": {},
   "outputs": [],
   "source": [
    "from astropy.table import Table\n",
    "t = Table.read('cal.tab', format=\"ascii\")"
   ]
  },
  {
   "cell_type": "code",
   "execution_count": 12,
   "metadata": {},
   "outputs": [
    {
     "name": "stdout",
     "output_type": "stream",
     "text": [
      "        col1          col2  col3\n",
      "-------------------- ----- -----\n",
      "2021-08-01T18:42:30Z  1.84  0.08\n",
      "2021-05-19T00:52:12Z   2.2  0.06\n",
      "2021-04-17T01:30:20Z  2.19  0.05\n",
      "2021-04-10T02:53:50Z   2.2  0.05\n",
      "2021-04-08T01:51:55Z  2.08  0.06\n",
      "2021-04-07T22:50:25Z  2.08  0.08\n",
      "2021-04-06T04:00:28Z  2.14  0.06\n",
      "2021-03-25T22:22:51Z  2.03  0.05\n",
      "2021-03-18T00:00:00Z  2.01  0.06\n",
      "2021-02-25T03:24:21Z  2.02  0.05\n",
      "                 ...   ...   ...\n",
      "2015-01-18T00:00:00Z  3.23   0.1\n",
      "2014-12-01T00:00:00Z  2.96  0.13\n",
      "2014-07-26T00:00:00Z  2.64  0.09\n",
      "2014-06-11T00:00:00Z 2.315 0.185\n",
      "2014-05-03T00:00:00Z  2.72  0.06\n",
      "2014-04-28T00:00:00Z  2.54  0.06\n",
      "2014-03-09T00:00:00Z  3.25  0.15\n",
      "2014-03-09T00:00:00Z 2.938 0.206\n",
      "2013-12-21T00:00:00Z 1.815 0.113\n",
      "2012-10-06T00:00:00Z  1.58  0.08\n",
      "2012-05-03T00:00:00Z  2.29  0.12\n",
      "Length = 50 rows\n"
     ]
    }
   ],
   "source": [
    "print(t)"
   ]
  },
  {
   "cell_type": "markdown",
   "metadata": {},
   "source": [
    "The first column is in standard DATE-OBS format, since we have our earlier data mdj, that's the easiest to compare\n"
   ]
  },
  {
   "cell_type": "code",
   "execution_count": 13,
   "metadata": {},
   "outputs": [],
   "source": [
    "from astropy.time import Time"
   ]
  },
  {
   "cell_type": "code",
   "execution_count": 14,
   "metadata": {},
   "outputs": [],
   "source": [
    "tcal = Time(t['col1']).mjd\n",
    "#    also grab the min and max time for plotting in the label\n",
    "tcal_min = tcal.min()\n",
    "tcal_max = tcal.max()\n",
    "\n",
    "u0=Time(tcal_min, format='mjd')\n",
    "u1=Time(tcal_max, format='mjd')"
   ]
  },
  {
   "cell_type": "code",
   "execution_count": 15,
   "metadata": {},
   "outputs": [
    {
     "data": {
      "image/png": "[encoded data removed]",
      "text/plain": [
       "<Figure size 432x288 with 1 Axes>"
      ]
     },
     "metadata": {
      "needs_background": "light"
     },
     "output_type": "display_data"
    }
   ],
   "source": [
    "plt.errorbar(tcal,t['col2'],t['col3'],label=\"ALMA catalogue\")\n",
    "plt.scatter(t1['t_min'],t1['flux'],c='red',label='ADMIT')\n",
    "plt.xlabel('MJD [%s - %s]' % (u0.strftime('%d %b %Y'),u1.strftime('%d %b %Y')))\n",
    "plt.ylabel('Flux (Jy)')\n",
    "plt.title('J1058+0133  lightcurve');\n",
    "plt.legend();"
   ]
  },
  {
   "cell_type": "markdown",
   "metadata": {},
   "source": [
    "well, the 2nd and 3rd clump of data seem to agree quite well, but the first clump seems to deviate."
   ]
  }
 ],
 "metadata": {
  "kernelspec": {
   "display_name": "Python 3",
   "language": "python",
   "name": "python3"
  },
  "language_info": {
   "codemirror_mode": {
    "name": "ipython",
    "version": 3
   },
   "file_extension": ".py",
   "mimetype": "text/x-python",
   "name": "python",
   "nbconvert_exporter": "python",
   "pygments_lexer": "ipython3",
   "version": "3.8.3"
  }
 },
 "nbformat": 4,
 "nbformat_minor": 4
}
